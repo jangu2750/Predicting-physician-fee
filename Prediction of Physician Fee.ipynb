{
 "cells": [
  {
   "cell_type": "code",
   "execution_count": 1,
   "metadata": {},
   "outputs": [],
   "source": [
    "import pandas as pd\n",
    "import numpy as np\n",
    "import matplotlib.pyplot as plt\n",
    "import seaborn as sns\n",
    "%matplotlib inline"
   ]
  },
  {
   "cell_type": "code",
   "execution_count": 2,
   "metadata": {},
   "outputs": [],
   "source": [
    "#import test and train data\n",
    "train = pd.read_excel('file:///C:/Users/Final_Train.xlsx')\n",
    "test = pd.read_excel('file:///C:/Users/Final_Test.xlsx')"
   ]
  },
  {
   "cell_type": "code",
   "execution_count": 3,
   "metadata": {},
   "outputs": [],
   "source": [
    "#combine both train and test data sets\n",
    "train['Source'] = 'train'\n",
    "test['Source'] = 'test'"
   ]
  },
  {
   "cell_type": "code",
   "execution_count": 4,
   "metadata": {},
   "outputs": [],
   "source": [
    "train_df = pd.concat([train,test], ignore_index = True, sort = False)"
   ]
  },
  {
   "cell_type": "code",
   "execution_count": 5,
   "metadata": {},
   "outputs": [
    {
     "data": {
      "text/plain": [
       "array([nan])"
      ]
     },
     "execution_count": 5,
     "metadata": {},
     "output_type": "execute_result"
    }
   ],
   "source": [
    "train_df[train_df['Source'] == 'test']['Fees'].unique()"
   ]
  },
  {
   "cell_type": "code",
   "execution_count": 6,
   "metadata": {},
   "outputs": [
    {
     "data": {
      "text/html": [
       "<div>\n",
       "<style scoped>\n",
       "    .dataframe tbody tr th:only-of-type {\n",
       "        vertical-align: middle;\n",
       "    }\n",
       "\n",
       "    .dataframe tbody tr th {\n",
       "        vertical-align: top;\n",
       "    }\n",
       "\n",
       "    .dataframe thead th {\n",
       "        text-align: right;\n",
       "    }\n",
       "</style>\n",
       "<table border=\"1\" class=\"dataframe\">\n",
       "  <thead>\n",
       "    <tr style=\"text-align: right;\">\n",
       "      <th></th>\n",
       "      <th>Qualification</th>\n",
       "      <th>Experience</th>\n",
       "      <th>Rating</th>\n",
       "      <th>Place</th>\n",
       "      <th>Profile</th>\n",
       "      <th>Miscellaneous_Info</th>\n",
       "      <th>Fees</th>\n",
       "      <th>Source</th>\n",
       "    </tr>\n",
       "  </thead>\n",
       "  <tbody>\n",
       "    <tr>\n",
       "      <th>7943</th>\n",
       "      <td>BAMS, Doctor of Medicine</td>\n",
       "      <td>10 years experience</td>\n",
       "      <td>NaN</td>\n",
       "      <td>Basavanagudi, Bangalore</td>\n",
       "      <td>Ayurveda</td>\n",
       "      <td>NaN</td>\n",
       "      <td>NaN</td>\n",
       "      <td>test</td>\n",
       "    </tr>\n",
       "    <tr>\n",
       "      <th>7944</th>\n",
       "      <td>MD - Dermatology , Venereology &amp; Leprosy, MBBS</td>\n",
       "      <td>4 years experience</td>\n",
       "      <td>NaN</td>\n",
       "      <td>Choolai, Chennai</td>\n",
       "      <td>Dermatologists</td>\n",
       "      <td>NaN</td>\n",
       "      <td>NaN</td>\n",
       "      <td>test</td>\n",
       "    </tr>\n",
       "    <tr>\n",
       "      <th>7945</th>\n",
       "      <td>MBBS, MD / MS - Obstetrics &amp; Gynaecology</td>\n",
       "      <td>9 years experience</td>\n",
       "      <td>NaN</td>\n",
       "      <td>Porur, Chennai</td>\n",
       "      <td>General Medicine</td>\n",
       "      <td>NaN</td>\n",
       "      <td>NaN</td>\n",
       "      <td>test</td>\n",
       "    </tr>\n",
       "    <tr>\n",
       "      <th>7946</th>\n",
       "      <td>BDS</td>\n",
       "      <td>12 years experience</td>\n",
       "      <td>98%</td>\n",
       "      <td>Arekere, Bangalore</td>\n",
       "      <td>Dentist</td>\n",
       "      <td>RCT - Root Canal Treatment Root Canal Treatmen...</td>\n",
       "      <td>NaN</td>\n",
       "      <td>test</td>\n",
       "    </tr>\n",
       "    <tr>\n",
       "      <th>7947</th>\n",
       "      <td>MBBS, MD - Dermatology , Venereology &amp; Leprosy</td>\n",
       "      <td>8 years experience</td>\n",
       "      <td>NaN</td>\n",
       "      <td>Pallikaranai, Chennai</td>\n",
       "      <td>Dermatologists</td>\n",
       "      <td>1 Feedback Pallikaranai, Chennai ₹500</td>\n",
       "      <td>NaN</td>\n",
       "      <td>test</td>\n",
       "    </tr>\n",
       "  </tbody>\n",
       "</table>\n",
       "</div>"
      ],
      "text/plain": [
       "                                       Qualification           Experience  \\\n",
       "7943                        BAMS, Doctor of Medicine  10 years experience   \n",
       "7944  MD - Dermatology , Venereology & Leprosy, MBBS   4 years experience   \n",
       "7945        MBBS, MD / MS - Obstetrics & Gynaecology   9 years experience   \n",
       "7946                                             BDS  12 years experience   \n",
       "7947  MBBS, MD - Dermatology , Venereology & Leprosy   8 years experience   \n",
       "\n",
       "     Rating                    Place           Profile  \\\n",
       "7943    NaN  Basavanagudi, Bangalore          Ayurveda   \n",
       "7944    NaN         Choolai, Chennai    Dermatologists   \n",
       "7945    NaN           Porur, Chennai  General Medicine   \n",
       "7946    98%       Arekere, Bangalore           Dentist   \n",
       "7947    NaN    Pallikaranai, Chennai    Dermatologists   \n",
       "\n",
       "                                     Miscellaneous_Info  Fees Source  \n",
       "7943                                                NaN   NaN   test  \n",
       "7944                                                NaN   NaN   test  \n",
       "7945                                                NaN   NaN   test  \n",
       "7946  RCT - Root Canal Treatment Root Canal Treatmen...   NaN   test  \n",
       "7947              1 Feedback Pallikaranai, Chennai ₹500   NaN   test  "
      ]
     },
     "execution_count": 6,
     "metadata": {},
     "output_type": "execute_result"
    }
   ],
   "source": [
    "train_df.tail()"
   ]
  },
  {
   "cell_type": "code",
   "execution_count": 7,
   "metadata": {},
   "outputs": [
    {
     "name": "stdout",
     "output_type": "stream",
     "text": [
      "Train data size:  (5961, 8)\n",
      "Test data size:  (1987, 7)\n",
      "Train and Test data size:  (7948, 8)\n"
     ]
    }
   ],
   "source": [
    "print('Train data size: ', train.shape)\n",
    "print('Test data size: ' ,test.shape)\n",
    "print('Train and Test data size: ', train_df.shape)"
   ]
  },
  {
   "cell_type": "code",
   "execution_count": 8,
   "metadata": {},
   "outputs": [
    {
     "data": {
      "text/html": [
       "<div>\n",
       "<style scoped>\n",
       "    .dataframe tbody tr th:only-of-type {\n",
       "        vertical-align: middle;\n",
       "    }\n",
       "\n",
       "    .dataframe tbody tr th {\n",
       "        vertical-align: top;\n",
       "    }\n",
       "\n",
       "    .dataframe thead th {\n",
       "        text-align: right;\n",
       "    }\n",
       "</style>\n",
       "<table border=\"1\" class=\"dataframe\">\n",
       "  <thead>\n",
       "    <tr style=\"text-align: right;\">\n",
       "      <th></th>\n",
       "      <th>Qualification</th>\n",
       "      <th>Experience</th>\n",
       "      <th>Rating</th>\n",
       "      <th>Place</th>\n",
       "      <th>Profile</th>\n",
       "      <th>Miscellaneous_Info</th>\n",
       "      <th>Fees</th>\n",
       "      <th>Source</th>\n",
       "    </tr>\n",
       "  </thead>\n",
       "  <tbody>\n",
       "    <tr>\n",
       "      <th>0</th>\n",
       "      <td>BHMS, MD - Homeopathy</td>\n",
       "      <td>24 years experience</td>\n",
       "      <td>100%</td>\n",
       "      <td>Kakkanad, Ernakulam</td>\n",
       "      <td>Homeopath</td>\n",
       "      <td>100% 16 Feedback Kakkanad, Ernakulam</td>\n",
       "      <td>100.0</td>\n",
       "      <td>train</td>\n",
       "    </tr>\n",
       "    <tr>\n",
       "      <th>1</th>\n",
       "      <td>BAMS, MD - Ayurveda Medicine</td>\n",
       "      <td>12 years experience</td>\n",
       "      <td>98%</td>\n",
       "      <td>Whitefield, Bangalore</td>\n",
       "      <td>Ayurveda</td>\n",
       "      <td>98% 76 Feedback Whitefield, Bangalore</td>\n",
       "      <td>350.0</td>\n",
       "      <td>train</td>\n",
       "    </tr>\n",
       "    <tr>\n",
       "      <th>2</th>\n",
       "      <td>MBBS, MS - Otorhinolaryngology</td>\n",
       "      <td>9 years experience</td>\n",
       "      <td>NaN</td>\n",
       "      <td>Mathikere - BEL, Bangalore</td>\n",
       "      <td>ENT Specialist</td>\n",
       "      <td>NaN</td>\n",
       "      <td>300.0</td>\n",
       "      <td>train</td>\n",
       "    </tr>\n",
       "    <tr>\n",
       "      <th>3</th>\n",
       "      <td>BSc - Zoology, BAMS</td>\n",
       "      <td>12 years experience</td>\n",
       "      <td>NaN</td>\n",
       "      <td>Bannerghatta Road, Bangalore</td>\n",
       "      <td>Ayurveda</td>\n",
       "      <td>Bannerghatta Road, Bangalore ₹250 Available on...</td>\n",
       "      <td>250.0</td>\n",
       "      <td>train</td>\n",
       "    </tr>\n",
       "    <tr>\n",
       "      <th>4</th>\n",
       "      <td>BAMS</td>\n",
       "      <td>20 years experience</td>\n",
       "      <td>100%</td>\n",
       "      <td>Keelkattalai, Chennai</td>\n",
       "      <td>Ayurveda</td>\n",
       "      <td>100% 4 Feedback Keelkattalai, Chennai</td>\n",
       "      <td>250.0</td>\n",
       "      <td>train</td>\n",
       "    </tr>\n",
       "  </tbody>\n",
       "</table>\n",
       "</div>"
      ],
      "text/plain": [
       "                    Qualification           Experience Rating  \\\n",
       "0           BHMS, MD - Homeopathy  24 years experience   100%   \n",
       "1    BAMS, MD - Ayurveda Medicine  12 years experience    98%   \n",
       "2  MBBS, MS - Otorhinolaryngology   9 years experience    NaN   \n",
       "3             BSc - Zoology, BAMS  12 years experience    NaN   \n",
       "4                            BAMS  20 years experience   100%   \n",
       "\n",
       "                          Place         Profile  \\\n",
       "0           Kakkanad, Ernakulam       Homeopath   \n",
       "1         Whitefield, Bangalore        Ayurveda   \n",
       "2    Mathikere - BEL, Bangalore  ENT Specialist   \n",
       "3  Bannerghatta Road, Bangalore        Ayurveda   \n",
       "4         Keelkattalai, Chennai        Ayurveda   \n",
       "\n",
       "                                  Miscellaneous_Info   Fees Source  \n",
       "0               100% 16 Feedback Kakkanad, Ernakulam  100.0  train  \n",
       "1              98% 76 Feedback Whitefield, Bangalore  350.0  train  \n",
       "2                                                NaN  300.0  train  \n",
       "3  Bannerghatta Road, Bangalore ₹250 Available on...  250.0  train  \n",
       "4              100% 4 Feedback Keelkattalai, Chennai  250.0  train  "
      ]
     },
     "execution_count": 8,
     "metadata": {},
     "output_type": "execute_result"
    }
   ],
   "source": [
    "#explore data\n",
    "train_df.head()"
   ]
  },
  {
   "cell_type": "code",
   "execution_count": 9,
   "metadata": {},
   "outputs": [],
   "source": [
    "#Let's extract exp numbers from experience column\n",
    "train_df['Years_Of_Exp'] = train_df['Experience'].str.split()\n",
    "train_df['Years_Of_Exp'] = train_df['Experience'].str[0].astype(int)"
   ]
  },
  {
   "cell_type": "code",
   "execution_count": 10,
   "metadata": {},
   "outputs": [
    {
     "data": {
      "text/html": [
       "<div>\n",
       "<style scoped>\n",
       "    .dataframe tbody tr th:only-of-type {\n",
       "        vertical-align: middle;\n",
       "    }\n",
       "\n",
       "    .dataframe tbody tr th {\n",
       "        vertical-align: top;\n",
       "    }\n",
       "\n",
       "    .dataframe thead th {\n",
       "        text-align: right;\n",
       "    }\n",
       "</style>\n",
       "<table border=\"1\" class=\"dataframe\">\n",
       "  <thead>\n",
       "    <tr style=\"text-align: right;\">\n",
       "      <th></th>\n",
       "      <th>Qualification</th>\n",
       "      <th>Experience</th>\n",
       "      <th>Rating</th>\n",
       "      <th>Place</th>\n",
       "      <th>Profile</th>\n",
       "      <th>Miscellaneous_Info</th>\n",
       "      <th>Fees</th>\n",
       "      <th>Source</th>\n",
       "      <th>Years_Of_Exp</th>\n",
       "    </tr>\n",
       "  </thead>\n",
       "  <tbody>\n",
       "    <tr>\n",
       "      <th>0</th>\n",
       "      <td>BHMS, MD - Homeopathy</td>\n",
       "      <td>24 years experience</td>\n",
       "      <td>100%</td>\n",
       "      <td>Kakkanad, Ernakulam</td>\n",
       "      <td>Homeopath</td>\n",
       "      <td>100% 16 Feedback Kakkanad, Ernakulam</td>\n",
       "      <td>100.0</td>\n",
       "      <td>train</td>\n",
       "      <td>2</td>\n",
       "    </tr>\n",
       "    <tr>\n",
       "      <th>1</th>\n",
       "      <td>BAMS, MD - Ayurveda Medicine</td>\n",
       "      <td>12 years experience</td>\n",
       "      <td>98%</td>\n",
       "      <td>Whitefield, Bangalore</td>\n",
       "      <td>Ayurveda</td>\n",
       "      <td>98% 76 Feedback Whitefield, Bangalore</td>\n",
       "      <td>350.0</td>\n",
       "      <td>train</td>\n",
       "      <td>1</td>\n",
       "    </tr>\n",
       "    <tr>\n",
       "      <th>2</th>\n",
       "      <td>MBBS, MS - Otorhinolaryngology</td>\n",
       "      <td>9 years experience</td>\n",
       "      <td>NaN</td>\n",
       "      <td>Mathikere - BEL, Bangalore</td>\n",
       "      <td>ENT Specialist</td>\n",
       "      <td>NaN</td>\n",
       "      <td>300.0</td>\n",
       "      <td>train</td>\n",
       "      <td>9</td>\n",
       "    </tr>\n",
       "    <tr>\n",
       "      <th>3</th>\n",
       "      <td>BSc - Zoology, BAMS</td>\n",
       "      <td>12 years experience</td>\n",
       "      <td>NaN</td>\n",
       "      <td>Bannerghatta Road, Bangalore</td>\n",
       "      <td>Ayurveda</td>\n",
       "      <td>Bannerghatta Road, Bangalore ₹250 Available on...</td>\n",
       "      <td>250.0</td>\n",
       "      <td>train</td>\n",
       "      <td>1</td>\n",
       "    </tr>\n",
       "    <tr>\n",
       "      <th>4</th>\n",
       "      <td>BAMS</td>\n",
       "      <td>20 years experience</td>\n",
       "      <td>100%</td>\n",
       "      <td>Keelkattalai, Chennai</td>\n",
       "      <td>Ayurveda</td>\n",
       "      <td>100% 4 Feedback Keelkattalai, Chennai</td>\n",
       "      <td>250.0</td>\n",
       "      <td>train</td>\n",
       "      <td>2</td>\n",
       "    </tr>\n",
       "  </tbody>\n",
       "</table>\n",
       "</div>"
      ],
      "text/plain": [
       "                    Qualification           Experience Rating  \\\n",
       "0           BHMS, MD - Homeopathy  24 years experience   100%   \n",
       "1    BAMS, MD - Ayurveda Medicine  12 years experience    98%   \n",
       "2  MBBS, MS - Otorhinolaryngology   9 years experience    NaN   \n",
       "3             BSc - Zoology, BAMS  12 years experience    NaN   \n",
       "4                            BAMS  20 years experience   100%   \n",
       "\n",
       "                          Place         Profile  \\\n",
       "0           Kakkanad, Ernakulam       Homeopath   \n",
       "1         Whitefield, Bangalore        Ayurveda   \n",
       "2    Mathikere - BEL, Bangalore  ENT Specialist   \n",
       "3  Bannerghatta Road, Bangalore        Ayurveda   \n",
       "4         Keelkattalai, Chennai        Ayurveda   \n",
       "\n",
       "                                  Miscellaneous_Info   Fees Source  \\\n",
       "0               100% 16 Feedback Kakkanad, Ernakulam  100.0  train   \n",
       "1              98% 76 Feedback Whitefield, Bangalore  350.0  train   \n",
       "2                                                NaN  300.0  train   \n",
       "3  Bannerghatta Road, Bangalore ₹250 Available on...  250.0  train   \n",
       "4              100% 4 Feedback Keelkattalai, Chennai  250.0  train   \n",
       "\n",
       "   Years_Of_Exp  \n",
       "0             2  \n",
       "1             1  \n",
       "2             9  \n",
       "3             1  \n",
       "4             2  "
      ]
     },
     "execution_count": 10,
     "metadata": {},
     "output_type": "execute_result"
    }
   ],
   "source": [
    "train_df.head()"
   ]
  },
  {
   "cell_type": "code",
   "execution_count": 11,
   "metadata": {},
   "outputs": [
    {
     "data": {
      "text/plain": [
       "False"
      ]
     },
     "execution_count": 11,
     "metadata": {},
     "output_type": "execute_result"
    }
   ],
   "source": [
    "#check if there are any null values\n",
    "train_df['Years_Of_Exp'].isnull().values.any() #Exp column is free from null values"
   ]
  },
  {
   "cell_type": "code",
   "execution_count": 12,
   "metadata": {},
   "outputs": [
    {
     "data": {
      "text/plain": [
       "True"
      ]
     },
     "execution_count": 12,
     "metadata": {},
     "output_type": "execute_result"
    }
   ],
   "source": [
    "# check if Rating column is having null values\n",
    "train_df['Rating'].isnull().values.any()  # it has null values"
   ]
  },
  {
   "cell_type": "code",
   "execution_count": 13,
   "metadata": {},
   "outputs": [
    {
     "data": {
      "text/plain": [
       "Qualification         0.000000\n",
       "Experience            0.000000\n",
       "Rating                0.552592\n",
       "Place                 0.003900\n",
       "Profile               0.000000\n",
       "Miscellaneous_Info    0.434575\n",
       "Fees                  0.250000\n",
       "Source                0.000000\n",
       "Years_Of_Exp          0.000000\n",
       "dtype: float64"
      ]
     },
     "execution_count": 13,
     "metadata": {},
     "output_type": "execute_result"
    }
   ],
   "source": [
    "#check % of missing values in each column\n",
    "train_df.isna().sum()/len(train_df)"
   ]
  },
  {
   "cell_type": "code",
   "execution_count": 14,
   "metadata": {},
   "outputs": [],
   "source": [
    "#From above result missing values are more in 'Rating' column. For now just keep it in mind"
   ]
  },
  {
   "cell_type": "code",
   "execution_count": 15,
   "metadata": {},
   "outputs": [
    {
     "data": {
      "text/plain": [
       "0             Kakkanad, Ernakulam\n",
       "1           Whitefield, Bangalore\n",
       "2      Mathikere - BEL, Bangalore\n",
       "3    Bannerghatta Road, Bangalore\n",
       "4           Keelkattalai, Chennai\n",
       "Name: Place, dtype: object"
      ]
     },
     "execution_count": 15,
     "metadata": {},
     "output_type": "execute_result"
    }
   ],
   "source": [
    "#explore place column\n",
    "train_df['Place'].head() # extract city and place into two columns"
   ]
  },
  {
   "cell_type": "code",
   "execution_count": 16,
   "metadata": {},
   "outputs": [],
   "source": [
    "# wherever NA is there fill it with UNKNOWN\n",
    "train_df['Place'].fillna('Unknown,Unknown',inplace = True)"
   ]
  },
  {
   "cell_type": "code",
   "execution_count": 17,
   "metadata": {},
   "outputs": [
    {
     "data": {
      "text/plain": [
       "False"
      ]
     },
     "execution_count": 17,
     "metadata": {},
     "output_type": "execute_result"
    }
   ],
   "source": [
    "train_df['Place'].isna().any() #this column is free from null values"
   ]
  },
  {
   "cell_type": "code",
   "execution_count": 18,
   "metadata": {},
   "outputs": [],
   "source": [
    "#let's split\n",
    "train_df['Place'] = train_df['Place'].str.split(',')"
   ]
  },
  {
   "cell_type": "code",
   "execution_count": 19,
   "metadata": {},
   "outputs": [
    {
     "data": {
      "text/html": [
       "<div>\n",
       "<style scoped>\n",
       "    .dataframe tbody tr th:only-of-type {\n",
       "        vertical-align: middle;\n",
       "    }\n",
       "\n",
       "    .dataframe tbody tr th {\n",
       "        vertical-align: top;\n",
       "    }\n",
       "\n",
       "    .dataframe thead th {\n",
       "        text-align: right;\n",
       "    }\n",
       "</style>\n",
       "<table border=\"1\" class=\"dataframe\">\n",
       "  <thead>\n",
       "    <tr style=\"text-align: right;\">\n",
       "      <th></th>\n",
       "      <th>Qualification</th>\n",
       "      <th>Experience</th>\n",
       "      <th>Rating</th>\n",
       "      <th>Place</th>\n",
       "      <th>Profile</th>\n",
       "      <th>Miscellaneous_Info</th>\n",
       "      <th>Fees</th>\n",
       "      <th>Source</th>\n",
       "      <th>Years_Of_Exp</th>\n",
       "    </tr>\n",
       "  </thead>\n",
       "  <tbody>\n",
       "    <tr>\n",
       "      <th>0</th>\n",
       "      <td>BHMS, MD - Homeopathy</td>\n",
       "      <td>24 years experience</td>\n",
       "      <td>100%</td>\n",
       "      <td>[Kakkanad,  Ernakulam]</td>\n",
       "      <td>Homeopath</td>\n",
       "      <td>100% 16 Feedback Kakkanad, Ernakulam</td>\n",
       "      <td>100.0</td>\n",
       "      <td>train</td>\n",
       "      <td>2</td>\n",
       "    </tr>\n",
       "    <tr>\n",
       "      <th>1</th>\n",
       "      <td>BAMS, MD - Ayurveda Medicine</td>\n",
       "      <td>12 years experience</td>\n",
       "      <td>98%</td>\n",
       "      <td>[Whitefield,  Bangalore]</td>\n",
       "      <td>Ayurveda</td>\n",
       "      <td>98% 76 Feedback Whitefield, Bangalore</td>\n",
       "      <td>350.0</td>\n",
       "      <td>train</td>\n",
       "      <td>1</td>\n",
       "    </tr>\n",
       "    <tr>\n",
       "      <th>2</th>\n",
       "      <td>MBBS, MS - Otorhinolaryngology</td>\n",
       "      <td>9 years experience</td>\n",
       "      <td>NaN</td>\n",
       "      <td>[Mathikere - BEL,  Bangalore]</td>\n",
       "      <td>ENT Specialist</td>\n",
       "      <td>NaN</td>\n",
       "      <td>300.0</td>\n",
       "      <td>train</td>\n",
       "      <td>9</td>\n",
       "    </tr>\n",
       "    <tr>\n",
       "      <th>3</th>\n",
       "      <td>BSc - Zoology, BAMS</td>\n",
       "      <td>12 years experience</td>\n",
       "      <td>NaN</td>\n",
       "      <td>[Bannerghatta Road,  Bangalore]</td>\n",
       "      <td>Ayurveda</td>\n",
       "      <td>Bannerghatta Road, Bangalore ₹250 Available on...</td>\n",
       "      <td>250.0</td>\n",
       "      <td>train</td>\n",
       "      <td>1</td>\n",
       "    </tr>\n",
       "    <tr>\n",
       "      <th>4</th>\n",
       "      <td>BAMS</td>\n",
       "      <td>20 years experience</td>\n",
       "      <td>100%</td>\n",
       "      <td>[Keelkattalai,  Chennai]</td>\n",
       "      <td>Ayurveda</td>\n",
       "      <td>100% 4 Feedback Keelkattalai, Chennai</td>\n",
       "      <td>250.0</td>\n",
       "      <td>train</td>\n",
       "      <td>2</td>\n",
       "    </tr>\n",
       "  </tbody>\n",
       "</table>\n",
       "</div>"
      ],
      "text/plain": [
       "                    Qualification           Experience Rating  \\\n",
       "0           BHMS, MD - Homeopathy  24 years experience   100%   \n",
       "1    BAMS, MD - Ayurveda Medicine  12 years experience    98%   \n",
       "2  MBBS, MS - Otorhinolaryngology   9 years experience    NaN   \n",
       "3             BSc - Zoology, BAMS  12 years experience    NaN   \n",
       "4                            BAMS  20 years experience   100%   \n",
       "\n",
       "                             Place         Profile  \\\n",
       "0           [Kakkanad,  Ernakulam]       Homeopath   \n",
       "1         [Whitefield,  Bangalore]        Ayurveda   \n",
       "2    [Mathikere - BEL,  Bangalore]  ENT Specialist   \n",
       "3  [Bannerghatta Road,  Bangalore]        Ayurveda   \n",
       "4         [Keelkattalai,  Chennai]        Ayurveda   \n",
       "\n",
       "                                  Miscellaneous_Info   Fees Source  \\\n",
       "0               100% 16 Feedback Kakkanad, Ernakulam  100.0  train   \n",
       "1              98% 76 Feedback Whitefield, Bangalore  350.0  train   \n",
       "2                                                NaN  300.0  train   \n",
       "3  Bannerghatta Road, Bangalore ₹250 Available on...  250.0  train   \n",
       "4              100% 4 Feedback Keelkattalai, Chennai  250.0  train   \n",
       "\n",
       "   Years_Of_Exp  \n",
       "0             2  \n",
       "1             1  \n",
       "2             9  \n",
       "3             1  \n",
       "4             2  "
      ]
     },
     "execution_count": 19,
     "metadata": {},
     "output_type": "execute_result"
    }
   ],
   "source": [
    "train_df.head()"
   ]
  },
  {
   "cell_type": "code",
   "execution_count": 20,
   "metadata": {},
   "outputs": [],
   "source": [
    "train_df['City'] = train_df['Place'].str[-1]\n",
    "train_df['Place'] = train_df['Place'].str[0]"
   ]
  },
  {
   "cell_type": "code",
   "execution_count": 21,
   "metadata": {
    "scrolled": true
   },
   "outputs": [
    {
     "data": {
      "text/html": [
       "<div>\n",
       "<style scoped>\n",
       "    .dataframe tbody tr th:only-of-type {\n",
       "        vertical-align: middle;\n",
       "    }\n",
       "\n",
       "    .dataframe tbody tr th {\n",
       "        vertical-align: top;\n",
       "    }\n",
       "\n",
       "    .dataframe thead th {\n",
       "        text-align: right;\n",
       "    }\n",
       "</style>\n",
       "<table border=\"1\" class=\"dataframe\">\n",
       "  <thead>\n",
       "    <tr style=\"text-align: right;\">\n",
       "      <th></th>\n",
       "      <th>Qualification</th>\n",
       "      <th>Experience</th>\n",
       "      <th>Rating</th>\n",
       "      <th>Place</th>\n",
       "      <th>Profile</th>\n",
       "      <th>Miscellaneous_Info</th>\n",
       "      <th>Fees</th>\n",
       "      <th>Source</th>\n",
       "      <th>Years_Of_Exp</th>\n",
       "      <th>City</th>\n",
       "    </tr>\n",
       "  </thead>\n",
       "  <tbody>\n",
       "    <tr>\n",
       "      <th>0</th>\n",
       "      <td>BHMS, MD - Homeopathy</td>\n",
       "      <td>24 years experience</td>\n",
       "      <td>100%</td>\n",
       "      <td>Kakkanad</td>\n",
       "      <td>Homeopath</td>\n",
       "      <td>100% 16 Feedback Kakkanad, Ernakulam</td>\n",
       "      <td>100.0</td>\n",
       "      <td>train</td>\n",
       "      <td>2</td>\n",
       "      <td>Ernakulam</td>\n",
       "    </tr>\n",
       "    <tr>\n",
       "      <th>1</th>\n",
       "      <td>BAMS, MD - Ayurveda Medicine</td>\n",
       "      <td>12 years experience</td>\n",
       "      <td>98%</td>\n",
       "      <td>Whitefield</td>\n",
       "      <td>Ayurveda</td>\n",
       "      <td>98% 76 Feedback Whitefield, Bangalore</td>\n",
       "      <td>350.0</td>\n",
       "      <td>train</td>\n",
       "      <td>1</td>\n",
       "      <td>Bangalore</td>\n",
       "    </tr>\n",
       "    <tr>\n",
       "      <th>2</th>\n",
       "      <td>MBBS, MS - Otorhinolaryngology</td>\n",
       "      <td>9 years experience</td>\n",
       "      <td>NaN</td>\n",
       "      <td>Mathikere - BEL</td>\n",
       "      <td>ENT Specialist</td>\n",
       "      <td>NaN</td>\n",
       "      <td>300.0</td>\n",
       "      <td>train</td>\n",
       "      <td>9</td>\n",
       "      <td>Bangalore</td>\n",
       "    </tr>\n",
       "    <tr>\n",
       "      <th>3</th>\n",
       "      <td>BSc - Zoology, BAMS</td>\n",
       "      <td>12 years experience</td>\n",
       "      <td>NaN</td>\n",
       "      <td>Bannerghatta Road</td>\n",
       "      <td>Ayurveda</td>\n",
       "      <td>Bannerghatta Road, Bangalore ₹250 Available on...</td>\n",
       "      <td>250.0</td>\n",
       "      <td>train</td>\n",
       "      <td>1</td>\n",
       "      <td>Bangalore</td>\n",
       "    </tr>\n",
       "    <tr>\n",
       "      <th>4</th>\n",
       "      <td>BAMS</td>\n",
       "      <td>20 years experience</td>\n",
       "      <td>100%</td>\n",
       "      <td>Keelkattalai</td>\n",
       "      <td>Ayurveda</td>\n",
       "      <td>100% 4 Feedback Keelkattalai, Chennai</td>\n",
       "      <td>250.0</td>\n",
       "      <td>train</td>\n",
       "      <td>2</td>\n",
       "      <td>Chennai</td>\n",
       "    </tr>\n",
       "  </tbody>\n",
       "</table>\n",
       "</div>"
      ],
      "text/plain": [
       "                    Qualification           Experience Rating  \\\n",
       "0           BHMS, MD - Homeopathy  24 years experience   100%   \n",
       "1    BAMS, MD - Ayurveda Medicine  12 years experience    98%   \n",
       "2  MBBS, MS - Otorhinolaryngology   9 years experience    NaN   \n",
       "3             BSc - Zoology, BAMS  12 years experience    NaN   \n",
       "4                            BAMS  20 years experience   100%   \n",
       "\n",
       "               Place         Profile  \\\n",
       "0           Kakkanad       Homeopath   \n",
       "1         Whitefield        Ayurveda   \n",
       "2    Mathikere - BEL  ENT Specialist   \n",
       "3  Bannerghatta Road        Ayurveda   \n",
       "4       Keelkattalai        Ayurveda   \n",
       "\n",
       "                                  Miscellaneous_Info   Fees Source  \\\n",
       "0               100% 16 Feedback Kakkanad, Ernakulam  100.0  train   \n",
       "1              98% 76 Feedback Whitefield, Bangalore  350.0  train   \n",
       "2                                                NaN  300.0  train   \n",
       "3  Bannerghatta Road, Bangalore ₹250 Available on...  250.0  train   \n",
       "4              100% 4 Feedback Keelkattalai, Chennai  250.0  train   \n",
       "\n",
       "   Years_Of_Exp        City  \n",
       "0             2   Ernakulam  \n",
       "1             1   Bangalore  \n",
       "2             9   Bangalore  \n",
       "3             1   Bangalore  \n",
       "4             2     Chennai  "
      ]
     },
     "execution_count": 21,
     "metadata": {},
     "output_type": "execute_result"
    }
   ],
   "source": [
    "train_df.head()"
   ]
  },
  {
   "cell_type": "code",
   "execution_count": 22,
   "metadata": {},
   "outputs": [
    {
     "data": {
      "text/plain": [
       "Qualification         False\n",
       "Experience            False\n",
       "Rating                 True\n",
       "Place                 False\n",
       "Profile               False\n",
       "Miscellaneous_Info     True\n",
       "Fees                   True\n",
       "Source                False\n",
       "Years_Of_Exp          False\n",
       "City                  False\n",
       "dtype: bool"
      ]
     },
     "execution_count": 22,
     "metadata": {},
     "output_type": "execute_result"
    }
   ],
   "source": [
    "train_df.isna().any() # no null values in place and city and qualification columns"
   ]
  },
  {
   "cell_type": "code",
   "execution_count": 23,
   "metadata": {},
   "outputs": [
    {
     "data": {
      "text/plain": [
       "1801"
      ]
     },
     "execution_count": 23,
     "metadata": {},
     "output_type": "execute_result"
    }
   ],
   "source": [
    "# Let's explore Qualification column\n",
    "train_df['Qualification'].nunique() #1420 unique values"
   ]
  },
  {
   "cell_type": "code",
   "execution_count": 24,
   "metadata": {},
   "outputs": [
    {
     "data": {
      "text/plain": [
       "array(['BHMS, MD - Homeopathy', 'BAMS, MD - Ayurveda Medicine',\n",
       "       'MBBS, MS - Otorhinolaryngology', ...,\n",
       "       'MD - Medicine, Post Graduate Diploma in Diabetology (PGDD), MBBS, FRCP - Internal Medicine',\n",
       "       'MBBS, MS - General Surgery, FAIS, FIAGES',\n",
       "       'MBBS, MD / MS - Obstetrics & Gynaecology'], dtype=object)"
      ]
     },
     "execution_count": 24,
     "metadata": {},
     "output_type": "execute_result"
    }
   ],
   "source": [
    "train_df['Qualification'].unique() #1420 unique values"
   ]
  },
  {
   "cell_type": "code",
   "execution_count": 25,
   "metadata": {},
   "outputs": [],
   "source": [
    "train_df['Qual1'] = train_df['Qualification'].str.split(',').str[0]\n",
    "train_df['Qual2'] = train_df['Qualification'].str.split(',').str[1]\n",
    "train_df['Qual3'] = train_df['Qualification'].str.split(',').str[2]"
   ]
  },
  {
   "cell_type": "code",
   "execution_count": 26,
   "metadata": {},
   "outputs": [
    {
     "data": {
      "text/html": [
       "<div>\n",
       "<style scoped>\n",
       "    .dataframe tbody tr th:only-of-type {\n",
       "        vertical-align: middle;\n",
       "    }\n",
       "\n",
       "    .dataframe tbody tr th {\n",
       "        vertical-align: top;\n",
       "    }\n",
       "\n",
       "    .dataframe thead th {\n",
       "        text-align: right;\n",
       "    }\n",
       "</style>\n",
       "<table border=\"1\" class=\"dataframe\">\n",
       "  <thead>\n",
       "    <tr style=\"text-align: right;\">\n",
       "      <th></th>\n",
       "      <th>Qualification</th>\n",
       "      <th>Experience</th>\n",
       "      <th>Rating</th>\n",
       "      <th>Place</th>\n",
       "      <th>Profile</th>\n",
       "      <th>Miscellaneous_Info</th>\n",
       "      <th>Fees</th>\n",
       "      <th>Source</th>\n",
       "      <th>Years_Of_Exp</th>\n",
       "      <th>City</th>\n",
       "      <th>Qual1</th>\n",
       "      <th>Qual2</th>\n",
       "      <th>Qual3</th>\n",
       "    </tr>\n",
       "  </thead>\n",
       "  <tbody>\n",
       "    <tr>\n",
       "      <th>0</th>\n",
       "      <td>BHMS, MD - Homeopathy</td>\n",
       "      <td>24 years experience</td>\n",
       "      <td>100%</td>\n",
       "      <td>Kakkanad</td>\n",
       "      <td>Homeopath</td>\n",
       "      <td>100% 16 Feedback Kakkanad, Ernakulam</td>\n",
       "      <td>100.0</td>\n",
       "      <td>train</td>\n",
       "      <td>2</td>\n",
       "      <td>Ernakulam</td>\n",
       "      <td>BHMS</td>\n",
       "      <td>MD - Homeopathy</td>\n",
       "      <td>NaN</td>\n",
       "    </tr>\n",
       "    <tr>\n",
       "      <th>1</th>\n",
       "      <td>BAMS, MD - Ayurveda Medicine</td>\n",
       "      <td>12 years experience</td>\n",
       "      <td>98%</td>\n",
       "      <td>Whitefield</td>\n",
       "      <td>Ayurveda</td>\n",
       "      <td>98% 76 Feedback Whitefield, Bangalore</td>\n",
       "      <td>350.0</td>\n",
       "      <td>train</td>\n",
       "      <td>1</td>\n",
       "      <td>Bangalore</td>\n",
       "      <td>BAMS</td>\n",
       "      <td>MD - Ayurveda Medicine</td>\n",
       "      <td>NaN</td>\n",
       "    </tr>\n",
       "    <tr>\n",
       "      <th>2</th>\n",
       "      <td>MBBS, MS - Otorhinolaryngology</td>\n",
       "      <td>9 years experience</td>\n",
       "      <td>NaN</td>\n",
       "      <td>Mathikere - BEL</td>\n",
       "      <td>ENT Specialist</td>\n",
       "      <td>NaN</td>\n",
       "      <td>300.0</td>\n",
       "      <td>train</td>\n",
       "      <td>9</td>\n",
       "      <td>Bangalore</td>\n",
       "      <td>MBBS</td>\n",
       "      <td>MS - Otorhinolaryngology</td>\n",
       "      <td>NaN</td>\n",
       "    </tr>\n",
       "    <tr>\n",
       "      <th>3</th>\n",
       "      <td>BSc - Zoology, BAMS</td>\n",
       "      <td>12 years experience</td>\n",
       "      <td>NaN</td>\n",
       "      <td>Bannerghatta Road</td>\n",
       "      <td>Ayurveda</td>\n",
       "      <td>Bannerghatta Road, Bangalore ₹250 Available on...</td>\n",
       "      <td>250.0</td>\n",
       "      <td>train</td>\n",
       "      <td>1</td>\n",
       "      <td>Bangalore</td>\n",
       "      <td>BSc - Zoology</td>\n",
       "      <td>BAMS</td>\n",
       "      <td>NaN</td>\n",
       "    </tr>\n",
       "    <tr>\n",
       "      <th>4</th>\n",
       "      <td>BAMS</td>\n",
       "      <td>20 years experience</td>\n",
       "      <td>100%</td>\n",
       "      <td>Keelkattalai</td>\n",
       "      <td>Ayurveda</td>\n",
       "      <td>100% 4 Feedback Keelkattalai, Chennai</td>\n",
       "      <td>250.0</td>\n",
       "      <td>train</td>\n",
       "      <td>2</td>\n",
       "      <td>Chennai</td>\n",
       "      <td>BAMS</td>\n",
       "      <td>NaN</td>\n",
       "      <td>NaN</td>\n",
       "    </tr>\n",
       "  </tbody>\n",
       "</table>\n",
       "</div>"
      ],
      "text/plain": [
       "                    Qualification           Experience Rating  \\\n",
       "0           BHMS, MD - Homeopathy  24 years experience   100%   \n",
       "1    BAMS, MD - Ayurveda Medicine  12 years experience    98%   \n",
       "2  MBBS, MS - Otorhinolaryngology   9 years experience    NaN   \n",
       "3             BSc - Zoology, BAMS  12 years experience    NaN   \n",
       "4                            BAMS  20 years experience   100%   \n",
       "\n",
       "               Place         Profile  \\\n",
       "0           Kakkanad       Homeopath   \n",
       "1         Whitefield        Ayurveda   \n",
       "2    Mathikere - BEL  ENT Specialist   \n",
       "3  Bannerghatta Road        Ayurveda   \n",
       "4       Keelkattalai        Ayurveda   \n",
       "\n",
       "                                  Miscellaneous_Info   Fees Source  \\\n",
       "0               100% 16 Feedback Kakkanad, Ernakulam  100.0  train   \n",
       "1              98% 76 Feedback Whitefield, Bangalore  350.0  train   \n",
       "2                                                NaN  300.0  train   \n",
       "3  Bannerghatta Road, Bangalore ₹250 Available on...  250.0  train   \n",
       "4              100% 4 Feedback Keelkattalai, Chennai  250.0  train   \n",
       "\n",
       "   Years_Of_Exp        City          Qual1                      Qual2 Qual3  \n",
       "0             2   Ernakulam           BHMS            MD - Homeopathy   NaN  \n",
       "1             1   Bangalore           BAMS     MD - Ayurveda Medicine   NaN  \n",
       "2             9   Bangalore           MBBS   MS - Otorhinolaryngology   NaN  \n",
       "3             1   Bangalore  BSc - Zoology                       BAMS   NaN  \n",
       "4             2     Chennai           BAMS                        NaN   NaN  "
      ]
     },
     "execution_count": 26,
     "metadata": {},
     "output_type": "execute_result"
    }
   ],
   "source": [
    "train_df.head()"
   ]
  },
  {
   "cell_type": "code",
   "execution_count": 27,
   "metadata": {},
   "outputs": [
    {
     "data": {
      "text/plain": [
       "False"
      ]
     },
     "execution_count": 27,
     "metadata": {},
     "output_type": "execute_result"
    }
   ],
   "source": [
    "train_df['Qual1'].isna().any() # no null values in 'Qual1' column so let's consider this as base for qualification"
   ]
  },
  {
   "cell_type": "code",
   "execution_count": 28,
   "metadata": {},
   "outputs": [],
   "source": [
    "train_df['Qual1'] = train_df['Qual1'].str.split('-').str[0] "
   ]
  },
  {
   "cell_type": "code",
   "execution_count": 29,
   "metadata": {},
   "outputs": [],
   "source": [
    "#Let's remove spaces\n",
    "train_df['Qual1'] = train_df['Qual1'].str.strip()"
   ]
  },
  {
   "cell_type": "code",
   "execution_count": 30,
   "metadata": {},
   "outputs": [
    {
     "data": {
      "text/plain": [
       "array(['BHMS', 'BAMS', 'MBBS', 'BSc', 'BDS', 'MDS',\n",
       "       'Diploma in Dermatology', 'DM', 'MD',\n",
       "       'Get inspired by remarkable stories of people like you', 'PhD',\n",
       "       'MRCPS', 'MS', 'DDVL',\n",
       "       'DHMS (Diploma in Homeopathic Medicine and Surgery)', 'GCEH',\n",
       "       'Post Graduate Diploma in Healthcare Management(PGDHM)', 'DNB',\n",
       "       'Certification in Aesthetic Dentistry',\n",
       "       'Fellowship In Laryngology Bronchoesophagology', 'FAGE',\n",
       "       'Fellowship in Aesthetic Medicine', 'BSAM',\n",
       "       'Diploma in Family Medicine (DFM)', 'FNB',\n",
       "       'Post Graduate Diploma in Dermotology (PGDD)',\n",
       "       'Certificate of Oral Implantology', 'Certified In Panchkarma',\n",
       "       '39 years experience', 'LCEH',\n",
       "       'Doctor of Homeopathic Medicine (HMD)',\n",
       "       'Diploma in Child Health (DCH)',\n",
       "       'Diploma in Otorhinolaryngology (DLO)',\n",
       "       'Diplomate of National Board Exam', 'MSc',\n",
       "       'Fellowship and Diplomate in Implantology from ICOI (USA)',\n",
       "       'Post Doctoral Fellowship in Diabetology',\n",
       "       'Advanced Certificate Course in Aesthetic Dentistry',\n",
       "       'Diploma in Medical Trichology', 'FCPS', 'G.A.M.S', 'BUMS',\n",
       "       'Diploma in Diet and Nutrition', 'MBA',\n",
       "       'Training in Facial Aesthetics', 'PG Diploma in Child Health',\n",
       "       'POST GRADUATE IN HOMOEOPATHY', 'Fellowship in Oral implantlogy',\n",
       "       'B.Sc', 'Post Graduate Diploma in Diabetology (PGDD)', 'M.Ch',\n",
       "       'DDV', 'Fellowship in Head & Neck Oncology Surgery', 'BEMS',\n",
       "       'MRCS (UK)',\n",
       "       'Post Graduate Diploma in Periodontics and Implantology', 'MA',\n",
       "       'Post MD SR AIIMS', 'MPH', 'Graduate Diploma in Family Medicine',\n",
       "       'MRCPCH (UK)', 'FRCS', 'B.Ac', 'M.D. (E.H)', 'BIMS',\n",
       "       'Diploma in Trichology', 'DVD', 'Certificate in Dental Implants',\n",
       "       'Ayurvedic panchkarma', 'D.H.M',\n",
       "       'Member of the Royal College of Physicians',\n",
       "       'Diploma in Skin & Vinereal Disease',\n",
       "       'Post Graduate Diploma in Diabetic Education',\n",
       "       'Fellowship in Diabetology', 'MRCGP',\n",
       "       'Diploma in Naturopathy & Yogic Science (DNYT)', 'MRCP (UK)',\n",
       "       'CGO', 'PGD ND', 'M.Sc', 'DNHE',\n",
       "       'Doctorate of Medicine in Electro Homoeopathy(MDEH)', 'FRGUHS',\n",
       "       'M. D. Hom. (Practice of Medicine)', 'FRCP',\n",
       "       'Fellowship In Clinical Cosmetology', 'Cochlear Implant Surgery',\n",
       "       'Certification of Aesthetic Dentistry & Periodontics',\n",
       "       'MD AYURVED AND YOG', 'Certification Course In Diabetes',\n",
       "       'Masters Diploma in Acupressure', 'PDCC', 'FFDRCSI', 'DGO',\n",
       "       'Post Graduate Diploma in Diabetology (PGDD)(Madras Medical College)',\n",
       "       'M.S. (Ayurved) Stri Roga & Prasuti Tantra', 'DO', 'FWFO',\n",
       "       'Diploma in Hospital Administration', 'DMS',\n",
       "       'Post Graduate Certificate in Endodontics (PGCE)',\n",
       "       'Diploma in Aesthetic Medicine',\n",
       "       'Diploma in Ayurvedic Medicine (DAM)', 'BPTh/BPT', 'FAMS',\n",
       "       'M.D. (Ayu.)', 'Diploma in ENT', 'FICD', 'DEHM', 'FPFA',\n",
       "       'Diploma in Cardiology', 'DHMS', 'DPM (Psychiatry)'], dtype=object)"
      ]
     },
     "execution_count": 30,
     "metadata": {},
     "output_type": "execute_result"
    }
   ],
   "source": [
    "train_df['Qual1'].unique()"
   ]
  },
  {
   "cell_type": "code",
   "execution_count": 31,
   "metadata": {},
   "outputs": [
    {
     "data": {
      "text/html": [
       "<div>\n",
       "<style scoped>\n",
       "    .dataframe tbody tr th:only-of-type {\n",
       "        vertical-align: middle;\n",
       "    }\n",
       "\n",
       "    .dataframe tbody tr th {\n",
       "        vertical-align: top;\n",
       "    }\n",
       "\n",
       "    .dataframe thead th {\n",
       "        text-align: right;\n",
       "    }\n",
       "</style>\n",
       "<table border=\"1\" class=\"dataframe\">\n",
       "  <thead>\n",
       "    <tr style=\"text-align: right;\">\n",
       "      <th></th>\n",
       "      <th>Qualification</th>\n",
       "      <th>Experience</th>\n",
       "      <th>Rating</th>\n",
       "      <th>Place</th>\n",
       "      <th>Profile</th>\n",
       "      <th>Miscellaneous_Info</th>\n",
       "      <th>Fees</th>\n",
       "      <th>Source</th>\n",
       "      <th>Years_Of_Exp</th>\n",
       "      <th>City</th>\n",
       "      <th>Qual1</th>\n",
       "      <th>Qual2</th>\n",
       "      <th>Qual3</th>\n",
       "    </tr>\n",
       "  </thead>\n",
       "  <tbody>\n",
       "    <tr>\n",
       "      <th>91</th>\n",
       "      <td>Get inspired by remarkable stories of people l...</td>\n",
       "      <td>0 years experience</td>\n",
       "      <td>NaN</td>\n",
       "      <td>Unknown</td>\n",
       "      <td>Dermatologists</td>\n",
       "      <td>NaN</td>\n",
       "      <td>100.0</td>\n",
       "      <td>train</td>\n",
       "      <td>0</td>\n",
       "      <td>Unknown</td>\n",
       "      <td>Get inspired by remarkable stories of people l...</td>\n",
       "      <td>NaN</td>\n",
       "      <td>NaN</td>\n",
       "    </tr>\n",
       "    <tr>\n",
       "      <th>502</th>\n",
       "      <td>Get inspired by remarkable stories of people l...</td>\n",
       "      <td>0 years experience</td>\n",
       "      <td>NaN</td>\n",
       "      <td>Unknown</td>\n",
       "      <td>Dermatologists</td>\n",
       "      <td>NaN</td>\n",
       "      <td>100.0</td>\n",
       "      <td>train</td>\n",
       "      <td>0</td>\n",
       "      <td>Unknown</td>\n",
       "      <td>Get inspired by remarkable stories of people l...</td>\n",
       "      <td>NaN</td>\n",
       "      <td>NaN</td>\n",
       "    </tr>\n",
       "    <tr>\n",
       "      <th>599</th>\n",
       "      <td>Get inspired by remarkable stories of people l...</td>\n",
       "      <td>0 years experience</td>\n",
       "      <td>NaN</td>\n",
       "      <td>Unknown</td>\n",
       "      <td>Dermatologists</td>\n",
       "      <td>NaN</td>\n",
       "      <td>100.0</td>\n",
       "      <td>train</td>\n",
       "      <td>0</td>\n",
       "      <td>Unknown</td>\n",
       "      <td>Get inspired by remarkable stories of people l...</td>\n",
       "      <td>NaN</td>\n",
       "      <td>NaN</td>\n",
       "    </tr>\n",
       "    <tr>\n",
       "      <th>605</th>\n",
       "      <td>Get inspired by remarkable stories of people l...</td>\n",
       "      <td>0 years experience</td>\n",
       "      <td>NaN</td>\n",
       "      <td>Unknown</td>\n",
       "      <td>Dermatologists</td>\n",
       "      <td>NaN</td>\n",
       "      <td>100.0</td>\n",
       "      <td>train</td>\n",
       "      <td>0</td>\n",
       "      <td>Unknown</td>\n",
       "      <td>Get inspired by remarkable stories of people l...</td>\n",
       "      <td>NaN</td>\n",
       "      <td>NaN</td>\n",
       "    </tr>\n",
       "    <tr>\n",
       "      <th>724</th>\n",
       "      <td>Get inspired by remarkable stories of people l...</td>\n",
       "      <td>0 years experience</td>\n",
       "      <td>NaN</td>\n",
       "      <td>Unknown</td>\n",
       "      <td>Dermatologists</td>\n",
       "      <td>NaN</td>\n",
       "      <td>100.0</td>\n",
       "      <td>train</td>\n",
       "      <td>0</td>\n",
       "      <td>Unknown</td>\n",
       "      <td>Get inspired by remarkable stories of people l...</td>\n",
       "      <td>NaN</td>\n",
       "      <td>NaN</td>\n",
       "    </tr>\n",
       "  </tbody>\n",
       "</table>\n",
       "</div>"
      ],
      "text/plain": [
       "                                         Qualification          Experience  \\\n",
       "91   Get inspired by remarkable stories of people l...  0 years experience   \n",
       "502  Get inspired by remarkable stories of people l...  0 years experience   \n",
       "599  Get inspired by remarkable stories of people l...  0 years experience   \n",
       "605  Get inspired by remarkable stories of people l...  0 years experience   \n",
       "724  Get inspired by remarkable stories of people l...  0 years experience   \n",
       "\n",
       "    Rating    Place         Profile Miscellaneous_Info   Fees Source  \\\n",
       "91     NaN  Unknown  Dermatologists                NaN  100.0  train   \n",
       "502    NaN  Unknown  Dermatologists                NaN  100.0  train   \n",
       "599    NaN  Unknown  Dermatologists                NaN  100.0  train   \n",
       "605    NaN  Unknown  Dermatologists                NaN  100.0  train   \n",
       "724    NaN  Unknown  Dermatologists                NaN  100.0  train   \n",
       "\n",
       "     Years_Of_Exp     City                                              Qual1  \\\n",
       "91              0  Unknown  Get inspired by remarkable stories of people l...   \n",
       "502             0  Unknown  Get inspired by remarkable stories of people l...   \n",
       "599             0  Unknown  Get inspired by remarkable stories of people l...   \n",
       "605             0  Unknown  Get inspired by remarkable stories of people l...   \n",
       "724             0  Unknown  Get inspired by remarkable stories of people l...   \n",
       "\n",
       "    Qual2 Qual3  \n",
       "91    NaN   NaN  \n",
       "502   NaN   NaN  \n",
       "599   NaN   NaN  \n",
       "605   NaN   NaN  \n",
       "724   NaN   NaN  "
      ]
     },
     "execution_count": 31,
     "metadata": {},
     "output_type": "execute_result"
    }
   ],
   "source": [
    "# From above 'Get inspired by remarkable stories of people like you' is not a specialty let's invistigate it and identify the specialty\n",
    "train_df[train_df['Qual1'] == 'Get inspired by remarkable stories of people like you'].head()"
   ]
  },
  {
   "cell_type": "code",
   "execution_count": 32,
   "metadata": {},
   "outputs": [],
   "source": [
    "#let's replace it with Profile 'Dermatologists' as Dermatology"
   ]
  },
  {
   "cell_type": "code",
   "execution_count": 33,
   "metadata": {},
   "outputs": [
    {
     "data": {
      "text/html": [
       "<div>\n",
       "<style scoped>\n",
       "    .dataframe tbody tr th:only-of-type {\n",
       "        vertical-align: middle;\n",
       "    }\n",
       "\n",
       "    .dataframe tbody tr th {\n",
       "        vertical-align: top;\n",
       "    }\n",
       "\n",
       "    .dataframe thead th {\n",
       "        text-align: right;\n",
       "    }\n",
       "</style>\n",
       "<table border=\"1\" class=\"dataframe\">\n",
       "  <thead>\n",
       "    <tr style=\"text-align: right;\">\n",
       "      <th></th>\n",
       "      <th>Qualification</th>\n",
       "      <th>Experience</th>\n",
       "      <th>Rating</th>\n",
       "      <th>Place</th>\n",
       "      <th>Profile</th>\n",
       "      <th>Miscellaneous_Info</th>\n",
       "      <th>Fees</th>\n",
       "      <th>Source</th>\n",
       "      <th>Years_Of_Exp</th>\n",
       "      <th>City</th>\n",
       "      <th>Qual1</th>\n",
       "      <th>Qual2</th>\n",
       "      <th>Qual3</th>\n",
       "    </tr>\n",
       "  </thead>\n",
       "  <tbody>\n",
       "    <tr>\n",
       "      <th>753</th>\n",
       "      <td>39 years experience</td>\n",
       "      <td>39 years experience</td>\n",
       "      <td>NaN</td>\n",
       "      <td>Lajpat Nagar</td>\n",
       "      <td>General Medicine</td>\n",
       "      <td>NaN</td>\n",
       "      <td>300.0</td>\n",
       "      <td>train</td>\n",
       "      <td>3</td>\n",
       "      <td>Delhi</td>\n",
       "      <td>39 years experience</td>\n",
       "      <td>NaN</td>\n",
       "      <td>NaN</td>\n",
       "    </tr>\n",
       "  </tbody>\n",
       "</table>\n",
       "</div>"
      ],
      "text/plain": [
       "           Qualification           Experience Rating         Place  \\\n",
       "753  39 years experience  39 years experience    NaN  Lajpat Nagar   \n",
       "\n",
       "              Profile Miscellaneous_Info   Fees Source  Years_Of_Exp    City  \\\n",
       "753  General Medicine                NaN  300.0  train             3   Delhi   \n",
       "\n",
       "                   Qual1 Qual2 Qual3  \n",
       "753  39 years experience   NaN   NaN  "
      ]
     },
     "execution_count": 33,
     "metadata": {},
     "output_type": "execute_result"
    }
   ],
   "source": [
    "train_df[train_df['Qual1'] == '39 years experience']"
   ]
  },
  {
   "cell_type": "code",
   "execution_count": 34,
   "metadata": {},
   "outputs": [],
   "source": [
    "#Let's define a function for qualification\n",
    "\n",
    "def spcl(spcl):\n",
    "    if spcl== 'Diploma in Dermatology':\n",
    "        return 'Dermatology'\n",
    "    elif spcl == 'Get inspired by remarkable stories of people like you':\n",
    "        return 'Dermatology'\n",
    "    elif spcl == 'DHMS (Diploma in Homeopathic Medicine and Surgery)':\n",
    "        return 'DHMS'\n",
    "    elif spcl == 'D.H.M':\n",
    "        return 'DHMS'\n",
    "    elif spcl == 'Post Graduate Diploma in Healthcare Management(PGDHM)':\n",
    "        return 'PGDHM'\n",
    "    elif spcl == '39 years experience':\n",
    "        return 'General Medicine'\n",
    "    elif spcl == 'Post Graduate Diploma in Dermotology (PGDD)':\n",
    "        return 'Dermatology'\n",
    "    elif spcl == 'M. D. Hom. (Practice of Medicine)':\n",
    "        return 'MD'\n",
    "    elif spcl == 'B.Sc':\n",
    "        return 'BSc'    \n",
    "    elif spcl == 'M.D. (E.H)':\n",
    "        return 'MD'\n",
    "    else:\n",
    "        return spcl\n",
    "    \n",
    "    \n",
    "    "
   ]
  },
  {
   "cell_type": "code",
   "execution_count": 35,
   "metadata": {},
   "outputs": [],
   "source": [
    "# Apply above function\n",
    "train_df['Qual1'] = train_df['Qual1'].apply(spcl)"
   ]
  },
  {
   "cell_type": "code",
   "execution_count": 36,
   "metadata": {},
   "outputs": [
    {
     "data": {
      "text/html": [
       "<div>\n",
       "<style scoped>\n",
       "    .dataframe tbody tr th:only-of-type {\n",
       "        vertical-align: middle;\n",
       "    }\n",
       "\n",
       "    .dataframe tbody tr th {\n",
       "        vertical-align: top;\n",
       "    }\n",
       "\n",
       "    .dataframe thead th {\n",
       "        text-align: right;\n",
       "    }\n",
       "</style>\n",
       "<table border=\"1\" class=\"dataframe\">\n",
       "  <thead>\n",
       "    <tr style=\"text-align: right;\">\n",
       "      <th></th>\n",
       "      <th>Qualification</th>\n",
       "      <th>Experience</th>\n",
       "      <th>Rating</th>\n",
       "      <th>Place</th>\n",
       "      <th>Profile</th>\n",
       "      <th>Miscellaneous_Info</th>\n",
       "      <th>Fees</th>\n",
       "      <th>Source</th>\n",
       "      <th>Years_Of_Exp</th>\n",
       "      <th>City</th>\n",
       "      <th>Qual1</th>\n",
       "      <th>Qual2</th>\n",
       "      <th>Qual3</th>\n",
       "    </tr>\n",
       "  </thead>\n",
       "  <tbody>\n",
       "  </tbody>\n",
       "</table>\n",
       "</div>"
      ],
      "text/plain": [
       "Empty DataFrame\n",
       "Columns: [Qualification, Experience, Rating, Place, Profile, Miscellaneous_Info, Fees, Source, Years_Of_Exp, City, Qual1, Qual2, Qual3]\n",
       "Index: []"
      ]
     },
     "execution_count": 36,
     "metadata": {},
     "output_type": "execute_result"
    }
   ],
   "source": [
    "train_df[train_df['Qual1'] == 'Get inspired by remarkable stories of people like you'].head() # no rows it correct"
   ]
  },
  {
   "cell_type": "code",
   "execution_count": 37,
   "metadata": {
    "scrolled": false
   },
   "outputs": [
    {
     "data": {
      "text/plain": [
       "106"
      ]
     },
     "execution_count": 37,
     "metadata": {},
     "output_type": "execute_result"
    }
   ],
   "source": [
    "train_df['Qual1'].nunique()"
   ]
  },
  {
   "cell_type": "code",
   "execution_count": 38,
   "metadata": {},
   "outputs": [],
   "source": [
    "#Let's perform OneHotEncoding on Qualification column\n",
    "########################  One - Hot Encoding of Qual1 feature #############################\n",
    "\n",
    "train_qual1_feature_onehotencoding = pd.get_dummies(train_df['Qual1'],sparse = False)\n"
   ]
  },
  {
   "cell_type": "code",
   "execution_count": 39,
   "metadata": {},
   "outputs": [
    {
     "data": {
      "text/html": [
       "<div>\n",
       "<style scoped>\n",
       "    .dataframe tbody tr th:only-of-type {\n",
       "        vertical-align: middle;\n",
       "    }\n",
       "\n",
       "    .dataframe tbody tr th {\n",
       "        vertical-align: top;\n",
       "    }\n",
       "\n",
       "    .dataframe thead th {\n",
       "        text-align: right;\n",
       "    }\n",
       "</style>\n",
       "<table border=\"1\" class=\"dataframe\">\n",
       "  <thead>\n",
       "    <tr style=\"text-align: right;\">\n",
       "      <th></th>\n",
       "      <th>Advanced Certificate Course in Aesthetic Dentistry</th>\n",
       "      <th>Ayurvedic panchkarma</th>\n",
       "      <th>B.Ac</th>\n",
       "      <th>BAMS</th>\n",
       "      <th>BDS</th>\n",
       "      <th>BEMS</th>\n",
       "      <th>BHMS</th>\n",
       "      <th>BIMS</th>\n",
       "      <th>BPTh/BPT</th>\n",
       "      <th>BSAM</th>\n",
       "      <th>...</th>\n",
       "      <th>POST GRADUATE IN HOMOEOPATHY</th>\n",
       "      <th>PhD</th>\n",
       "      <th>Post Doctoral Fellowship in Diabetology</th>\n",
       "      <th>Post Graduate Certificate in Endodontics (PGCE)</th>\n",
       "      <th>Post Graduate Diploma in Diabetic Education</th>\n",
       "      <th>Post Graduate Diploma in Diabetology (PGDD)</th>\n",
       "      <th>Post Graduate Diploma in Diabetology (PGDD)(Madras Medical College)</th>\n",
       "      <th>Post Graduate Diploma in Periodontics and Implantology</th>\n",
       "      <th>Post MD SR AIIMS</th>\n",
       "      <th>Training in Facial Aesthetics</th>\n",
       "    </tr>\n",
       "  </thead>\n",
       "  <tbody>\n",
       "    <tr>\n",
       "      <th>0</th>\n",
       "      <td>0</td>\n",
       "      <td>0</td>\n",
       "      <td>0</td>\n",
       "      <td>0</td>\n",
       "      <td>0</td>\n",
       "      <td>0</td>\n",
       "      <td>1</td>\n",
       "      <td>0</td>\n",
       "      <td>0</td>\n",
       "      <td>0</td>\n",
       "      <td>...</td>\n",
       "      <td>0</td>\n",
       "      <td>0</td>\n",
       "      <td>0</td>\n",
       "      <td>0</td>\n",
       "      <td>0</td>\n",
       "      <td>0</td>\n",
       "      <td>0</td>\n",
       "      <td>0</td>\n",
       "      <td>0</td>\n",
       "      <td>0</td>\n",
       "    </tr>\n",
       "    <tr>\n",
       "      <th>1</th>\n",
       "      <td>0</td>\n",
       "      <td>0</td>\n",
       "      <td>0</td>\n",
       "      <td>1</td>\n",
       "      <td>0</td>\n",
       "      <td>0</td>\n",
       "      <td>0</td>\n",
       "      <td>0</td>\n",
       "      <td>0</td>\n",
       "      <td>0</td>\n",
       "      <td>...</td>\n",
       "      <td>0</td>\n",
       "      <td>0</td>\n",
       "      <td>0</td>\n",
       "      <td>0</td>\n",
       "      <td>0</td>\n",
       "      <td>0</td>\n",
       "      <td>0</td>\n",
       "      <td>0</td>\n",
       "      <td>0</td>\n",
       "      <td>0</td>\n",
       "    </tr>\n",
       "    <tr>\n",
       "      <th>2</th>\n",
       "      <td>0</td>\n",
       "      <td>0</td>\n",
       "      <td>0</td>\n",
       "      <td>0</td>\n",
       "      <td>0</td>\n",
       "      <td>0</td>\n",
       "      <td>0</td>\n",
       "      <td>0</td>\n",
       "      <td>0</td>\n",
       "      <td>0</td>\n",
       "      <td>...</td>\n",
       "      <td>0</td>\n",
       "      <td>0</td>\n",
       "      <td>0</td>\n",
       "      <td>0</td>\n",
       "      <td>0</td>\n",
       "      <td>0</td>\n",
       "      <td>0</td>\n",
       "      <td>0</td>\n",
       "      <td>0</td>\n",
       "      <td>0</td>\n",
       "    </tr>\n",
       "    <tr>\n",
       "      <th>3</th>\n",
       "      <td>0</td>\n",
       "      <td>0</td>\n",
       "      <td>0</td>\n",
       "      <td>0</td>\n",
       "      <td>0</td>\n",
       "      <td>0</td>\n",
       "      <td>0</td>\n",
       "      <td>0</td>\n",
       "      <td>0</td>\n",
       "      <td>0</td>\n",
       "      <td>...</td>\n",
       "      <td>0</td>\n",
       "      <td>0</td>\n",
       "      <td>0</td>\n",
       "      <td>0</td>\n",
       "      <td>0</td>\n",
       "      <td>0</td>\n",
       "      <td>0</td>\n",
       "      <td>0</td>\n",
       "      <td>0</td>\n",
       "      <td>0</td>\n",
       "    </tr>\n",
       "    <tr>\n",
       "      <th>4</th>\n",
       "      <td>0</td>\n",
       "      <td>0</td>\n",
       "      <td>0</td>\n",
       "      <td>1</td>\n",
       "      <td>0</td>\n",
       "      <td>0</td>\n",
       "      <td>0</td>\n",
       "      <td>0</td>\n",
       "      <td>0</td>\n",
       "      <td>0</td>\n",
       "      <td>...</td>\n",
       "      <td>0</td>\n",
       "      <td>0</td>\n",
       "      <td>0</td>\n",
       "      <td>0</td>\n",
       "      <td>0</td>\n",
       "      <td>0</td>\n",
       "      <td>0</td>\n",
       "      <td>0</td>\n",
       "      <td>0</td>\n",
       "      <td>0</td>\n",
       "    </tr>\n",
       "  </tbody>\n",
       "</table>\n",
       "<p>5 rows × 106 columns</p>\n",
       "</div>"
      ],
      "text/plain": [
       "   Advanced Certificate Course in Aesthetic Dentistry  Ayurvedic panchkarma  \\\n",
       "0                                                  0                      0   \n",
       "1                                                  0                      0   \n",
       "2                                                  0                      0   \n",
       "3                                                  0                      0   \n",
       "4                                                  0                      0   \n",
       "\n",
       "   B.Ac  BAMS  BDS  BEMS  BHMS  BIMS  BPTh/BPT  BSAM  \\\n",
       "0     0     0    0     0     1     0         0     0   \n",
       "1     0     1    0     0     0     0         0     0   \n",
       "2     0     0    0     0     0     0         0     0   \n",
       "3     0     0    0     0     0     0         0     0   \n",
       "4     0     1    0     0     0     0         0     0   \n",
       "\n",
       "               ...                POST GRADUATE IN HOMOEOPATHY  PhD  \\\n",
       "0              ...                                           0    0   \n",
       "1              ...                                           0    0   \n",
       "2              ...                                           0    0   \n",
       "3              ...                                           0    0   \n",
       "4              ...                                           0    0   \n",
       "\n",
       "   Post Doctoral Fellowship in Diabetology  \\\n",
       "0                                        0   \n",
       "1                                        0   \n",
       "2                                        0   \n",
       "3                                        0   \n",
       "4                                        0   \n",
       "\n",
       "   Post Graduate Certificate in Endodontics (PGCE)  \\\n",
       "0                                                0   \n",
       "1                                                0   \n",
       "2                                                0   \n",
       "3                                                0   \n",
       "4                                                0   \n",
       "\n",
       "   Post Graduate Diploma in Diabetic Education  \\\n",
       "0                                            0   \n",
       "1                                            0   \n",
       "2                                            0   \n",
       "3                                            0   \n",
       "4                                            0   \n",
       "\n",
       "   Post Graduate Diploma in Diabetology (PGDD)  \\\n",
       "0                                            0   \n",
       "1                                            0   \n",
       "2                                            0   \n",
       "3                                            0   \n",
       "4                                            0   \n",
       "\n",
       "   Post Graduate Diploma in Diabetology (PGDD)(Madras Medical College)  \\\n",
       "0                                                  0                     \n",
       "1                                                  0                     \n",
       "2                                                  0                     \n",
       "3                                                  0                     \n",
       "4                                                  0                     \n",
       "\n",
       "   Post Graduate Diploma in Periodontics and Implantology  Post MD SR AIIMS  \\\n",
       "0                                                  0                      0   \n",
       "1                                                  0                      0   \n",
       "2                                                  0                      0   \n",
       "3                                                  0                      0   \n",
       "4                                                  0                      0   \n",
       "\n",
       "   Training in Facial Aesthetics  \n",
       "0                              0  \n",
       "1                              0  \n",
       "2                              0  \n",
       "3                              0  \n",
       "4                              0  \n",
       "\n",
       "[5 rows x 106 columns]"
      ]
     },
     "execution_count": 39,
     "metadata": {},
     "output_type": "execute_result"
    }
   ],
   "source": [
    "train_qual1_feature_onehotencoding.head()#join this back to original dataframe"
   ]
  },
  {
   "cell_type": "code",
   "execution_count": 40,
   "metadata": {},
   "outputs": [
    {
     "data": {
      "text/plain": [
       "pandas.core.frame.DataFrame"
      ]
     },
     "execution_count": 40,
     "metadata": {},
     "output_type": "execute_result"
    }
   ],
   "source": [
    "type(train_qual1_feature_onehotencoding)"
   ]
  },
  {
   "cell_type": "code",
   "execution_count": 41,
   "metadata": {},
   "outputs": [],
   "source": [
    "train_df = pd.concat([train_df,train_qual1_feature_onehotencoding],axis = 1)"
   ]
  },
  {
   "cell_type": "code",
   "execution_count": 42,
   "metadata": {},
   "outputs": [
    {
     "data": {
      "text/html": [
       "<div>\n",
       "<style scoped>\n",
       "    .dataframe tbody tr th:only-of-type {\n",
       "        vertical-align: middle;\n",
       "    }\n",
       "\n",
       "    .dataframe tbody tr th {\n",
       "        vertical-align: top;\n",
       "    }\n",
       "\n",
       "    .dataframe thead th {\n",
       "        text-align: right;\n",
       "    }\n",
       "</style>\n",
       "<table border=\"1\" class=\"dataframe\">\n",
       "  <thead>\n",
       "    <tr style=\"text-align: right;\">\n",
       "      <th></th>\n",
       "      <th>Qualification</th>\n",
       "      <th>Experience</th>\n",
       "      <th>Rating</th>\n",
       "      <th>Place</th>\n",
       "      <th>Profile</th>\n",
       "      <th>Miscellaneous_Info</th>\n",
       "      <th>Fees</th>\n",
       "      <th>Source</th>\n",
       "      <th>Years_Of_Exp</th>\n",
       "      <th>City</th>\n",
       "      <th>...</th>\n",
       "      <th>POST GRADUATE IN HOMOEOPATHY</th>\n",
       "      <th>PhD</th>\n",
       "      <th>Post Doctoral Fellowship in Diabetology</th>\n",
       "      <th>Post Graduate Certificate in Endodontics (PGCE)</th>\n",
       "      <th>Post Graduate Diploma in Diabetic Education</th>\n",
       "      <th>Post Graduate Diploma in Diabetology (PGDD)</th>\n",
       "      <th>Post Graduate Diploma in Diabetology (PGDD)(Madras Medical College)</th>\n",
       "      <th>Post Graduate Diploma in Periodontics and Implantology</th>\n",
       "      <th>Post MD SR AIIMS</th>\n",
       "      <th>Training in Facial Aesthetics</th>\n",
       "    </tr>\n",
       "  </thead>\n",
       "  <tbody>\n",
       "    <tr>\n",
       "      <th>0</th>\n",
       "      <td>BHMS, MD - Homeopathy</td>\n",
       "      <td>24 years experience</td>\n",
       "      <td>100%</td>\n",
       "      <td>Kakkanad</td>\n",
       "      <td>Homeopath</td>\n",
       "      <td>100% 16 Feedback Kakkanad, Ernakulam</td>\n",
       "      <td>100.0</td>\n",
       "      <td>train</td>\n",
       "      <td>2</td>\n",
       "      <td>Ernakulam</td>\n",
       "      <td>...</td>\n",
       "      <td>0</td>\n",
       "      <td>0</td>\n",
       "      <td>0</td>\n",
       "      <td>0</td>\n",
       "      <td>0</td>\n",
       "      <td>0</td>\n",
       "      <td>0</td>\n",
       "      <td>0</td>\n",
       "      <td>0</td>\n",
       "      <td>0</td>\n",
       "    </tr>\n",
       "    <tr>\n",
       "      <th>1</th>\n",
       "      <td>BAMS, MD - Ayurveda Medicine</td>\n",
       "      <td>12 years experience</td>\n",
       "      <td>98%</td>\n",
       "      <td>Whitefield</td>\n",
       "      <td>Ayurveda</td>\n",
       "      <td>98% 76 Feedback Whitefield, Bangalore</td>\n",
       "      <td>350.0</td>\n",
       "      <td>train</td>\n",
       "      <td>1</td>\n",
       "      <td>Bangalore</td>\n",
       "      <td>...</td>\n",
       "      <td>0</td>\n",
       "      <td>0</td>\n",
       "      <td>0</td>\n",
       "      <td>0</td>\n",
       "      <td>0</td>\n",
       "      <td>0</td>\n",
       "      <td>0</td>\n",
       "      <td>0</td>\n",
       "      <td>0</td>\n",
       "      <td>0</td>\n",
       "    </tr>\n",
       "    <tr>\n",
       "      <th>2</th>\n",
       "      <td>MBBS, MS - Otorhinolaryngology</td>\n",
       "      <td>9 years experience</td>\n",
       "      <td>NaN</td>\n",
       "      <td>Mathikere - BEL</td>\n",
       "      <td>ENT Specialist</td>\n",
       "      <td>NaN</td>\n",
       "      <td>300.0</td>\n",
       "      <td>train</td>\n",
       "      <td>9</td>\n",
       "      <td>Bangalore</td>\n",
       "      <td>...</td>\n",
       "      <td>0</td>\n",
       "      <td>0</td>\n",
       "      <td>0</td>\n",
       "      <td>0</td>\n",
       "      <td>0</td>\n",
       "      <td>0</td>\n",
       "      <td>0</td>\n",
       "      <td>0</td>\n",
       "      <td>0</td>\n",
       "      <td>0</td>\n",
       "    </tr>\n",
       "    <tr>\n",
       "      <th>3</th>\n",
       "      <td>BSc - Zoology, BAMS</td>\n",
       "      <td>12 years experience</td>\n",
       "      <td>NaN</td>\n",
       "      <td>Bannerghatta Road</td>\n",
       "      <td>Ayurveda</td>\n",
       "      <td>Bannerghatta Road, Bangalore ₹250 Available on...</td>\n",
       "      <td>250.0</td>\n",
       "      <td>train</td>\n",
       "      <td>1</td>\n",
       "      <td>Bangalore</td>\n",
       "      <td>...</td>\n",
       "      <td>0</td>\n",
       "      <td>0</td>\n",
       "      <td>0</td>\n",
       "      <td>0</td>\n",
       "      <td>0</td>\n",
       "      <td>0</td>\n",
       "      <td>0</td>\n",
       "      <td>0</td>\n",
       "      <td>0</td>\n",
       "      <td>0</td>\n",
       "    </tr>\n",
       "    <tr>\n",
       "      <th>4</th>\n",
       "      <td>BAMS</td>\n",
       "      <td>20 years experience</td>\n",
       "      <td>100%</td>\n",
       "      <td>Keelkattalai</td>\n",
       "      <td>Ayurveda</td>\n",
       "      <td>100% 4 Feedback Keelkattalai, Chennai</td>\n",
       "      <td>250.0</td>\n",
       "      <td>train</td>\n",
       "      <td>2</td>\n",
       "      <td>Chennai</td>\n",
       "      <td>...</td>\n",
       "      <td>0</td>\n",
       "      <td>0</td>\n",
       "      <td>0</td>\n",
       "      <td>0</td>\n",
       "      <td>0</td>\n",
       "      <td>0</td>\n",
       "      <td>0</td>\n",
       "      <td>0</td>\n",
       "      <td>0</td>\n",
       "      <td>0</td>\n",
       "    </tr>\n",
       "  </tbody>\n",
       "</table>\n",
       "<p>5 rows × 119 columns</p>\n",
       "</div>"
      ],
      "text/plain": [
       "                    Qualification           Experience Rating  \\\n",
       "0           BHMS, MD - Homeopathy  24 years experience   100%   \n",
       "1    BAMS, MD - Ayurveda Medicine  12 years experience    98%   \n",
       "2  MBBS, MS - Otorhinolaryngology   9 years experience    NaN   \n",
       "3             BSc - Zoology, BAMS  12 years experience    NaN   \n",
       "4                            BAMS  20 years experience   100%   \n",
       "\n",
       "               Place         Profile  \\\n",
       "0           Kakkanad       Homeopath   \n",
       "1         Whitefield        Ayurveda   \n",
       "2    Mathikere - BEL  ENT Specialist   \n",
       "3  Bannerghatta Road        Ayurveda   \n",
       "4       Keelkattalai        Ayurveda   \n",
       "\n",
       "                                  Miscellaneous_Info   Fees Source  \\\n",
       "0               100% 16 Feedback Kakkanad, Ernakulam  100.0  train   \n",
       "1              98% 76 Feedback Whitefield, Bangalore  350.0  train   \n",
       "2                                                NaN  300.0  train   \n",
       "3  Bannerghatta Road, Bangalore ₹250 Available on...  250.0  train   \n",
       "4              100% 4 Feedback Keelkattalai, Chennai  250.0  train   \n",
       "\n",
       "   Years_Of_Exp        City              ...                \\\n",
       "0             2   Ernakulam              ...                 \n",
       "1             1   Bangalore              ...                 \n",
       "2             9   Bangalore              ...                 \n",
       "3             1   Bangalore              ...                 \n",
       "4             2     Chennai              ...                 \n",
       "\n",
       "  POST GRADUATE IN HOMOEOPATHY PhD Post Doctoral Fellowship in Diabetology  \\\n",
       "0                            0   0                                       0   \n",
       "1                            0   0                                       0   \n",
       "2                            0   0                                       0   \n",
       "3                            0   0                                       0   \n",
       "4                            0   0                                       0   \n",
       "\n",
       "   Post Graduate Certificate in Endodontics (PGCE)  \\\n",
       "0                                                0   \n",
       "1                                                0   \n",
       "2                                                0   \n",
       "3                                                0   \n",
       "4                                                0   \n",
       "\n",
       "   Post Graduate Diploma in Diabetic Education  \\\n",
       "0                                            0   \n",
       "1                                            0   \n",
       "2                                            0   \n",
       "3                                            0   \n",
       "4                                            0   \n",
       "\n",
       "   Post Graduate Diploma in Diabetology (PGDD)  \\\n",
       "0                                            0   \n",
       "1                                            0   \n",
       "2                                            0   \n",
       "3                                            0   \n",
       "4                                            0   \n",
       "\n",
       "   Post Graduate Diploma in Diabetology (PGDD)(Madras Medical College)  \\\n",
       "0                                                  0                     \n",
       "1                                                  0                     \n",
       "2                                                  0                     \n",
       "3                                                  0                     \n",
       "4                                                  0                     \n",
       "\n",
       "   Post Graduate Diploma in Periodontics and Implantology  Post MD SR AIIMS  \\\n",
       "0                                                  0                      0   \n",
       "1                                                  0                      0   \n",
       "2                                                  0                      0   \n",
       "3                                                  0                      0   \n",
       "4                                                  0                      0   \n",
       "\n",
       "   Training in Facial Aesthetics  \n",
       "0                              0  \n",
       "1                              0  \n",
       "2                              0  \n",
       "3                              0  \n",
       "4                              0  \n",
       "\n",
       "[5 rows x 119 columns]"
      ]
     },
     "execution_count": 42,
     "metadata": {},
     "output_type": "execute_result"
    }
   ],
   "source": [
    "train_df.head()"
   ]
  },
  {
   "cell_type": "code",
   "execution_count": 43,
   "metadata": {},
   "outputs": [
    {
     "data": {
      "text/plain": [
       "array(['100%', '98%', nan, '99%', '79%', '95%', '97%', '94%', '88%',\n",
       "       '90%', '80%', '93%', '36%', '78%', '87%', '96%', '82%', '89%',\n",
       "       '74%', '86%', '92%', '83%', '76%', '85%', '56%', '91%', '68%',\n",
       "       '60%', '75%', '69%', '73%', '67%', '77%', '33%', '55%', '71%',\n",
       "       '84%', '45%', '63%', '72%', '81%', '62%', '57%', '7%', '48%',\n",
       "       '40%', '70%', '64%', '65%', '47%', '58%', '53%', '52%'],\n",
       "      dtype=object)"
      ]
     },
     "execution_count": 43,
     "metadata": {},
     "output_type": "execute_result"
    }
   ],
   "source": [
    "train_df['Rating'].unique()"
   ]
  },
  {
   "cell_type": "code",
   "execution_count": 44,
   "metadata": {},
   "outputs": [],
   "source": [
    "# Let's work on rating column. \n",
    "# As we know rating column has more null values so let's replace it with some dummay number say -99%\n",
    "train_df['Rating']=train_df['Rating'].str.split('%').str[0]"
   ]
  },
  {
   "cell_type": "code",
   "execution_count": 45,
   "metadata": {},
   "outputs": [],
   "source": [
    "train_df['Rating'].fillna(-99,inplace=True)"
   ]
  },
  {
   "cell_type": "code",
   "execution_count": 46,
   "metadata": {},
   "outputs": [],
   "source": [
    "# convert rating data type to int\n",
    "train_df['Rating'] = train_df['Rating'].astype(int)"
   ]
  },
  {
   "cell_type": "code",
   "execution_count": 47,
   "metadata": {},
   "outputs": [
    {
     "data": {
      "text/plain": [
       "array([100,  98, -99,  99,  79,  95,  97,  94,  88,  90,  80,  93,  36,\n",
       "        78,  87,  96,  82,  89,  74,  86,  92,  83,  76,  85,  56,  91,\n",
       "        68,  60,  75,  69,  73,  67,  77,  33,  55,  71,  84,  45,  63,\n",
       "        72,  81,  62,  57,   7,  48,  40,  70,  64,  65,  47,  58,  53,\n",
       "        52], dtype=int64)"
      ]
     },
     "execution_count": 47,
     "metadata": {},
     "output_type": "execute_result"
    }
   ],
   "source": [
    "train_df['Rating'].unique()"
   ]
  },
  {
   "cell_type": "code",
   "execution_count": 48,
   "metadata": {},
   "outputs": [],
   "source": [
    "# Now get average rating \n",
    "train_qrate = pd.DataFrame(train_df['Qual1'])\n",
    "train_qrate['Rating'] = pd.DataFrame(train_df['Rating'])"
   ]
  },
  {
   "cell_type": "code",
   "execution_count": 49,
   "metadata": {},
   "outputs": [
    {
     "data": {
      "text/plain": [
       "Index(['Qual1', 'Rating'], dtype='object')"
      ]
     },
     "execution_count": 49,
     "metadata": {},
     "output_type": "execute_result"
    }
   ],
   "source": [
    "train_qrate.columns"
   ]
  },
  {
   "cell_type": "code",
   "execution_count": 50,
   "metadata": {},
   "outputs": [],
   "source": [
    "# replace -99 with 0 and take mean by qualification\n",
    "\n",
    "train_qrate['Rating'].replace(-99,0, inplace = True)\n",
    "    "
   ]
  },
  {
   "cell_type": "code",
   "execution_count": 51,
   "metadata": {},
   "outputs": [
    {
     "data": {
      "text/plain": [
       "array([100,  98,   0,  99,  79,  95,  97,  94,  88,  90,  80,  93,  36,\n",
       "        78,  87,  96,  82,  89,  74,  86,  92,  83,  76,  85,  56,  91,\n",
       "        68,  60,  75,  69,  73,  67,  77,  33,  55,  71,  84,  45,  63,\n",
       "        72,  81,  62,  57,   7,  48,  40,  70,  64,  65,  47,  58,  53,\n",
       "        52], dtype=int64)"
      ]
     },
     "execution_count": 51,
     "metadata": {},
     "output_type": "execute_result"
    }
   ],
   "source": [
    "# now check for unique values\n",
    "train_qrate['Rating'].unique()"
   ]
  },
  {
   "cell_type": "code",
   "execution_count": 52,
   "metadata": {},
   "outputs": [],
   "source": [
    " # now calculate mean rating by each specialty\n",
    "train_qrate_mean = pd.DataFrame(train_qrate.groupby('Qual1').mean())"
   ]
  },
  {
   "cell_type": "code",
   "execution_count": 53,
   "metadata": {},
   "outputs": [],
   "source": [
    "train_qrate_mean.rename(columns = {'Rating':'New_Rating'},inplace = True)#rename rating column"
   ]
  },
  {
   "cell_type": "code",
   "execution_count": 54,
   "metadata": {},
   "outputs": [
    {
     "data": {
      "text/html": [
       "<div>\n",
       "<style scoped>\n",
       "    .dataframe tbody tr th:only-of-type {\n",
       "        vertical-align: middle;\n",
       "    }\n",
       "\n",
       "    .dataframe tbody tr th {\n",
       "        vertical-align: top;\n",
       "    }\n",
       "\n",
       "    .dataframe thead th {\n",
       "        text-align: right;\n",
       "    }\n",
       "</style>\n",
       "<table border=\"1\" class=\"dataframe\">\n",
       "  <thead>\n",
       "    <tr style=\"text-align: right;\">\n",
       "      <th></th>\n",
       "      <th>New_Rating</th>\n",
       "    </tr>\n",
       "    <tr>\n",
       "      <th>Qual1</th>\n",
       "      <th></th>\n",
       "    </tr>\n",
       "  </thead>\n",
       "  <tbody>\n",
       "    <tr>\n",
       "      <th>Advanced Certificate Course in Aesthetic Dentistry</th>\n",
       "      <td>0.000000</td>\n",
       "    </tr>\n",
       "    <tr>\n",
       "      <th>Ayurvedic panchkarma</th>\n",
       "      <td>0.000000</td>\n",
       "    </tr>\n",
       "    <tr>\n",
       "      <th>B.Ac</th>\n",
       "      <td>0.000000</td>\n",
       "    </tr>\n",
       "    <tr>\n",
       "      <th>BAMS</th>\n",
       "      <td>22.891374</td>\n",
       "    </tr>\n",
       "    <tr>\n",
       "      <th>BDS</th>\n",
       "      <td>62.534516</td>\n",
       "    </tr>\n",
       "  </tbody>\n",
       "</table>\n",
       "</div>"
      ],
      "text/plain": [
       "                                                    New_Rating\n",
       "Qual1                                                         \n",
       "Advanced Certificate Course in Aesthetic Dentistry    0.000000\n",
       "Ayurvedic panchkarma                                  0.000000\n",
       "B.Ac                                                  0.000000\n",
       "BAMS                                                 22.891374\n",
       "BDS                                                  62.534516"
      ]
     },
     "execution_count": 54,
     "metadata": {},
     "output_type": "execute_result"
    }
   ],
   "source": [
    "train_qrate_mean.head()"
   ]
  },
  {
   "cell_type": "code",
   "execution_count": 55,
   "metadata": {},
   "outputs": [],
   "source": [
    "#let's replace null values in rating column with above column\n",
    "train_df = pd.merge(train_df,train_qrate_mean,on = 'Qual1',how = 'left')"
   ]
  },
  {
   "cell_type": "code",
   "execution_count": 56,
   "metadata": {},
   "outputs": [
    {
     "data": {
      "text/plain": [
       "(7948, 120)"
      ]
     },
     "execution_count": 56,
     "metadata": {},
     "output_type": "execute_result"
    }
   ],
   "source": [
    "train_df.shape "
   ]
  },
  {
   "cell_type": "code",
   "execution_count": 57,
   "metadata": {},
   "outputs": [],
   "source": [
    "#Now wherever rating = -99 then replace it with 'New Rating'\n",
    "\n",
    "train_df['final_rating'] = np.where(train_df.Rating == -99,train_df.New_Rating,train_df.Rating)"
   ]
  },
  {
   "cell_type": "code",
   "execution_count": 58,
   "metadata": {},
   "outputs": [
    {
     "data": {
      "text/plain": [
       "0.00805234021137393"
      ]
     },
     "execution_count": 58,
     "metadata": {},
     "output_type": "execute_result"
    }
   ],
   "source": [
    "train_df[train_df['final_rating']==0]['Rating'].count()/len(train_df) #now only ~8% data has 0 rating"
   ]
  },
  {
   "cell_type": "code",
   "execution_count": 59,
   "metadata": {},
   "outputs": [],
   "source": [
    "# Now drop all unwanted columns from dataframe\n",
    "\n",
    "train_df.drop(columns = {'Qual2','Qual3','Rating','New_Rating','Miscellaneous_Info','Experience','Qualification'},inplace = True)\n",
    "\n"
   ]
  },
  {
   "cell_type": "code",
   "execution_count": 60,
   "metadata": {},
   "outputs": [
    {
     "data": {
      "text/plain": [
       "Index(['Place', 'Profile', 'Fees', 'Source', 'Years_Of_Exp', 'City', 'Qual1',\n",
       "       'Advanced Certificate Course in Aesthetic Dentistry',\n",
       "       'Ayurvedic panchkarma', 'B.Ac',\n",
       "       ...\n",
       "       'PhD', 'Post Doctoral Fellowship in Diabetology',\n",
       "       'Post Graduate Certificate in Endodontics (PGCE)',\n",
       "       'Post Graduate Diploma in Diabetic Education',\n",
       "       'Post Graduate Diploma in Diabetology (PGDD)',\n",
       "       'Post Graduate Diploma in Diabetology (PGDD)(Madras Medical College)',\n",
       "       'Post Graduate Diploma in Periodontics and Implantology',\n",
       "       'Post MD SR AIIMS', 'Training in Facial Aesthetics', 'final_rating'],\n",
       "      dtype='object', length=114)"
      ]
     },
     "execution_count": 60,
     "metadata": {},
     "output_type": "execute_result"
    }
   ],
   "source": [
    "train_df.columns"
   ]
  },
  {
   "cell_type": "code",
   "execution_count": 61,
   "metadata": {},
   "outputs": [
    {
     "data": {
      "text/plain": [
       "False"
      ]
     },
     "execution_count": 61,
     "metadata": {},
     "output_type": "execute_result"
    }
   ],
   "source": [
    "train_df['Profile'].isnull().any() # Profile column is perfect"
   ]
  },
  {
   "cell_type": "code",
   "execution_count": 62,
   "metadata": {},
   "outputs": [],
   "source": [
    "# Let's perform label encoding over city and profile columns\n",
    "from sklearn.preprocessing import LabelEncoder\n",
    "le = LabelEncoder()"
   ]
  },
  {
   "cell_type": "code",
   "execution_count": 63,
   "metadata": {},
   "outputs": [],
   "source": [
    "train_df['City_label'] = le.fit_transform(train_df['City'])\n",
    "train_df['Profile_label'] = le.fit_transform(train_df['Profile'])"
   ]
  },
  {
   "cell_type": "code",
   "execution_count": 64,
   "metadata": {},
   "outputs": [
    {
     "data": {
      "text/html": [
       "<div>\n",
       "<style scoped>\n",
       "    .dataframe tbody tr th:only-of-type {\n",
       "        vertical-align: middle;\n",
       "    }\n",
       "\n",
       "    .dataframe tbody tr th {\n",
       "        vertical-align: top;\n",
       "    }\n",
       "\n",
       "    .dataframe thead th {\n",
       "        text-align: right;\n",
       "    }\n",
       "</style>\n",
       "<table border=\"1\" class=\"dataframe\">\n",
       "  <thead>\n",
       "    <tr style=\"text-align: right;\">\n",
       "      <th></th>\n",
       "      <th>Place</th>\n",
       "      <th>Profile</th>\n",
       "      <th>Fees</th>\n",
       "      <th>Source</th>\n",
       "      <th>Years_Of_Exp</th>\n",
       "      <th>City</th>\n",
       "      <th>Qual1</th>\n",
       "      <th>Advanced Certificate Course in Aesthetic Dentistry</th>\n",
       "      <th>Ayurvedic panchkarma</th>\n",
       "      <th>B.Ac</th>\n",
       "      <th>...</th>\n",
       "      <th>Post Graduate Certificate in Endodontics (PGCE)</th>\n",
       "      <th>Post Graduate Diploma in Diabetic Education</th>\n",
       "      <th>Post Graduate Diploma in Diabetology (PGDD)</th>\n",
       "      <th>Post Graduate Diploma in Diabetology (PGDD)(Madras Medical College)</th>\n",
       "      <th>Post Graduate Diploma in Periodontics and Implantology</th>\n",
       "      <th>Post MD SR AIIMS</th>\n",
       "      <th>Training in Facial Aesthetics</th>\n",
       "      <th>final_rating</th>\n",
       "      <th>City_label</th>\n",
       "      <th>Profile_label</th>\n",
       "    </tr>\n",
       "  </thead>\n",
       "  <tbody>\n",
       "    <tr>\n",
       "      <th>0</th>\n",
       "      <td>Kakkanad</td>\n",
       "      <td>Homeopath</td>\n",
       "      <td>100.0</td>\n",
       "      <td>train</td>\n",
       "      <td>2</td>\n",
       "      <td>Ernakulam</td>\n",
       "      <td>BHMS</td>\n",
       "      <td>0</td>\n",
       "      <td>0</td>\n",
       "      <td>0</td>\n",
       "      <td>...</td>\n",
       "      <td>0</td>\n",
       "      <td>0</td>\n",
       "      <td>0</td>\n",
       "      <td>0</td>\n",
       "      <td>0</td>\n",
       "      <td>0</td>\n",
       "      <td>0</td>\n",
       "      <td>100.000000</td>\n",
       "      <td>4</td>\n",
       "      <td>5</td>\n",
       "    </tr>\n",
       "    <tr>\n",
       "      <th>1</th>\n",
       "      <td>Whitefield</td>\n",
       "      <td>Ayurveda</td>\n",
       "      <td>350.0</td>\n",
       "      <td>train</td>\n",
       "      <td>1</td>\n",
       "      <td>Bangalore</td>\n",
       "      <td>BAMS</td>\n",
       "      <td>0</td>\n",
       "      <td>0</td>\n",
       "      <td>0</td>\n",
       "      <td>...</td>\n",
       "      <td>0</td>\n",
       "      <td>0</td>\n",
       "      <td>0</td>\n",
       "      <td>0</td>\n",
       "      <td>0</td>\n",
       "      <td>0</td>\n",
       "      <td>0</td>\n",
       "      <td>98.000000</td>\n",
       "      <td>0</td>\n",
       "      <td>0</td>\n",
       "    </tr>\n",
       "    <tr>\n",
       "      <th>2</th>\n",
       "      <td>Mathikere - BEL</td>\n",
       "      <td>ENT Specialist</td>\n",
       "      <td>300.0</td>\n",
       "      <td>train</td>\n",
       "      <td>9</td>\n",
       "      <td>Bangalore</td>\n",
       "      <td>MBBS</td>\n",
       "      <td>0</td>\n",
       "      <td>0</td>\n",
       "      <td>0</td>\n",
       "      <td>...</td>\n",
       "      <td>0</td>\n",
       "      <td>0</td>\n",
       "      <td>0</td>\n",
       "      <td>0</td>\n",
       "      <td>0</td>\n",
       "      <td>0</td>\n",
       "      <td>0</td>\n",
       "      <td>41.581044</td>\n",
       "      <td>0</td>\n",
       "      <td>3</td>\n",
       "    </tr>\n",
       "    <tr>\n",
       "      <th>3</th>\n",
       "      <td>Bannerghatta Road</td>\n",
       "      <td>Ayurveda</td>\n",
       "      <td>250.0</td>\n",
       "      <td>train</td>\n",
       "      <td>1</td>\n",
       "      <td>Bangalore</td>\n",
       "      <td>BSc</td>\n",
       "      <td>0</td>\n",
       "      <td>0</td>\n",
       "      <td>0</td>\n",
       "      <td>...</td>\n",
       "      <td>0</td>\n",
       "      <td>0</td>\n",
       "      <td>0</td>\n",
       "      <td>0</td>\n",
       "      <td>0</td>\n",
       "      <td>0</td>\n",
       "      <td>0</td>\n",
       "      <td>23.750000</td>\n",
       "      <td>0</td>\n",
       "      <td>0</td>\n",
       "    </tr>\n",
       "    <tr>\n",
       "      <th>4</th>\n",
       "      <td>Keelkattalai</td>\n",
       "      <td>Ayurveda</td>\n",
       "      <td>250.0</td>\n",
       "      <td>train</td>\n",
       "      <td>2</td>\n",
       "      <td>Chennai</td>\n",
       "      <td>BAMS</td>\n",
       "      <td>0</td>\n",
       "      <td>0</td>\n",
       "      <td>0</td>\n",
       "      <td>...</td>\n",
       "      <td>0</td>\n",
       "      <td>0</td>\n",
       "      <td>0</td>\n",
       "      <td>0</td>\n",
       "      <td>0</td>\n",
       "      <td>0</td>\n",
       "      <td>0</td>\n",
       "      <td>100.000000</td>\n",
       "      <td>1</td>\n",
       "      <td>0</td>\n",
       "    </tr>\n",
       "  </tbody>\n",
       "</table>\n",
       "<p>5 rows × 116 columns</p>\n",
       "</div>"
      ],
      "text/plain": [
       "               Place         Profile   Fees Source  Years_Of_Exp        City  \\\n",
       "0           Kakkanad       Homeopath  100.0  train             2   Ernakulam   \n",
       "1         Whitefield        Ayurveda  350.0  train             1   Bangalore   \n",
       "2    Mathikere - BEL  ENT Specialist  300.0  train             9   Bangalore   \n",
       "3  Bannerghatta Road        Ayurveda  250.0  train             1   Bangalore   \n",
       "4       Keelkattalai        Ayurveda  250.0  train             2     Chennai   \n",
       "\n",
       "  Qual1  Advanced Certificate Course in Aesthetic Dentistry  \\\n",
       "0  BHMS                                                  0    \n",
       "1  BAMS                                                  0    \n",
       "2  MBBS                                                  0    \n",
       "3   BSc                                                  0    \n",
       "4  BAMS                                                  0    \n",
       "\n",
       "   Ayurvedic panchkarma  B.Ac      ...        \\\n",
       "0                     0     0      ...         \n",
       "1                     0     0      ...         \n",
       "2                     0     0      ...         \n",
       "3                     0     0      ...         \n",
       "4                     0     0      ...         \n",
       "\n",
       "   Post Graduate Certificate in Endodontics (PGCE)  \\\n",
       "0                                                0   \n",
       "1                                                0   \n",
       "2                                                0   \n",
       "3                                                0   \n",
       "4                                                0   \n",
       "\n",
       "   Post Graduate Diploma in Diabetic Education  \\\n",
       "0                                            0   \n",
       "1                                            0   \n",
       "2                                            0   \n",
       "3                                            0   \n",
       "4                                            0   \n",
       "\n",
       "   Post Graduate Diploma in Diabetology (PGDD)  \\\n",
       "0                                            0   \n",
       "1                                            0   \n",
       "2                                            0   \n",
       "3                                            0   \n",
       "4                                            0   \n",
       "\n",
       "   Post Graduate Diploma in Diabetology (PGDD)(Madras Medical College)  \\\n",
       "0                                                  0                     \n",
       "1                                                  0                     \n",
       "2                                                  0                     \n",
       "3                                                  0                     \n",
       "4                                                  0                     \n",
       "\n",
       "   Post Graduate Diploma in Periodontics and Implantology  Post MD SR AIIMS  \\\n",
       "0                                                  0                      0   \n",
       "1                                                  0                      0   \n",
       "2                                                  0                      0   \n",
       "3                                                  0                      0   \n",
       "4                                                  0                      0   \n",
       "\n",
       "   Training in Facial Aesthetics  final_rating  City_label  Profile_label  \n",
       "0                              0    100.000000           4              5  \n",
       "1                              0     98.000000           0              0  \n",
       "2                              0     41.581044           0              3  \n",
       "3                              0     23.750000           0              0  \n",
       "4                              0    100.000000           1              0  \n",
       "\n",
       "[5 rows x 116 columns]"
      ]
     },
     "execution_count": 64,
     "metadata": {},
     "output_type": "execute_result"
    }
   ],
   "source": [
    "train_df.head()"
   ]
  },
  {
   "cell_type": "code",
   "execution_count": 65,
   "metadata": {},
   "outputs": [],
   "source": [
    "# Exporting data\n",
    "train_data = train_df[train_df['Source']=='train']\n",
    "test_data = train_df[train_df['Source']=='test']"
   ]
  },
  {
   "cell_type": "code",
   "execution_count": 66,
   "metadata": {},
   "outputs": [
    {
     "name": "stdout",
     "output_type": "stream",
     "text": [
      "train data shape:  (5961, 116)\n",
      "test data shape:  (1987, 116)\n"
     ]
    }
   ],
   "source": [
    "print('train data shape: ',train_data.shape)\n",
    "print('test data shape: ',test_data.shape)"
   ]
  },
  {
   "cell_type": "code",
   "execution_count": 67,
   "metadata": {},
   "outputs": [
    {
     "name": "stderr",
     "output_type": "stream",
     "text": [
      "C:\\ProgramData\\Anaconda3\\lib\\site-packages\\pandas\\core\\frame.py:3694: SettingWithCopyWarning: \n",
      "A value is trying to be set on a copy of a slice from a DataFrame\n",
      "\n",
      "See the caveats in the documentation: http://pandas.pydata.org/pandas-docs/stable/indexing.html#indexing-view-versus-copy\n",
      "  errors=errors)\n"
     ]
    }
   ],
   "source": [
    "#drop unnecessary columns\n",
    "train_data.drop(columns= {'Profile','Source','Place','City','Qual1'},inplace = True)\n",
    "test_data.drop(columns= {'Profile','Source','Place','City','Fees','Qual1'},inplace = True)"
   ]
  },
  {
   "cell_type": "code",
   "execution_count": 68,
   "metadata": {},
   "outputs": [
    {
     "name": "stdout",
     "output_type": "stream",
     "text": [
      "train data shape:  (5961, 111)\n",
      "test data shape:  (1987, 110)\n"
     ]
    }
   ],
   "source": [
    "print('train data shape: ',train_data.shape)\n",
    "print('test data shape: ',test_data.shape)"
   ]
  },
  {
   "cell_type": "code",
   "execution_count": 69,
   "metadata": {},
   "outputs": [
    {
     "data": {
      "text/html": [
       "<div>\n",
       "<style scoped>\n",
       "    .dataframe tbody tr th:only-of-type {\n",
       "        vertical-align: middle;\n",
       "    }\n",
       "\n",
       "    .dataframe tbody tr th {\n",
       "        vertical-align: top;\n",
       "    }\n",
       "\n",
       "    .dataframe thead th {\n",
       "        text-align: right;\n",
       "    }\n",
       "</style>\n",
       "<table border=\"1\" class=\"dataframe\">\n",
       "  <thead>\n",
       "    <tr style=\"text-align: right;\">\n",
       "      <th></th>\n",
       "      <th>Fees</th>\n",
       "      <th>Years_Of_Exp</th>\n",
       "      <th>Advanced Certificate Course in Aesthetic Dentistry</th>\n",
       "      <th>Ayurvedic panchkarma</th>\n",
       "      <th>B.Ac</th>\n",
       "      <th>BAMS</th>\n",
       "      <th>BDS</th>\n",
       "      <th>BEMS</th>\n",
       "      <th>BHMS</th>\n",
       "      <th>BIMS</th>\n",
       "      <th>...</th>\n",
       "      <th>Post Graduate Certificate in Endodontics (PGCE)</th>\n",
       "      <th>Post Graduate Diploma in Diabetic Education</th>\n",
       "      <th>Post Graduate Diploma in Diabetology (PGDD)</th>\n",
       "      <th>Post Graduate Diploma in Diabetology (PGDD)(Madras Medical College)</th>\n",
       "      <th>Post Graduate Diploma in Periodontics and Implantology</th>\n",
       "      <th>Post MD SR AIIMS</th>\n",
       "      <th>Training in Facial Aesthetics</th>\n",
       "      <th>final_rating</th>\n",
       "      <th>City_label</th>\n",
       "      <th>Profile_label</th>\n",
       "    </tr>\n",
       "  </thead>\n",
       "  <tbody>\n",
       "    <tr>\n",
       "      <th>0</th>\n",
       "      <td>100.0</td>\n",
       "      <td>2</td>\n",
       "      <td>0</td>\n",
       "      <td>0</td>\n",
       "      <td>0</td>\n",
       "      <td>0</td>\n",
       "      <td>0</td>\n",
       "      <td>0</td>\n",
       "      <td>1</td>\n",
       "      <td>0</td>\n",
       "      <td>...</td>\n",
       "      <td>0</td>\n",
       "      <td>0</td>\n",
       "      <td>0</td>\n",
       "      <td>0</td>\n",
       "      <td>0</td>\n",
       "      <td>0</td>\n",
       "      <td>0</td>\n",
       "      <td>100.000000</td>\n",
       "      <td>4</td>\n",
       "      <td>5</td>\n",
       "    </tr>\n",
       "    <tr>\n",
       "      <th>1</th>\n",
       "      <td>350.0</td>\n",
       "      <td>1</td>\n",
       "      <td>0</td>\n",
       "      <td>0</td>\n",
       "      <td>0</td>\n",
       "      <td>1</td>\n",
       "      <td>0</td>\n",
       "      <td>0</td>\n",
       "      <td>0</td>\n",
       "      <td>0</td>\n",
       "      <td>...</td>\n",
       "      <td>0</td>\n",
       "      <td>0</td>\n",
       "      <td>0</td>\n",
       "      <td>0</td>\n",
       "      <td>0</td>\n",
       "      <td>0</td>\n",
       "      <td>0</td>\n",
       "      <td>98.000000</td>\n",
       "      <td>0</td>\n",
       "      <td>0</td>\n",
       "    </tr>\n",
       "    <tr>\n",
       "      <th>2</th>\n",
       "      <td>300.0</td>\n",
       "      <td>9</td>\n",
       "      <td>0</td>\n",
       "      <td>0</td>\n",
       "      <td>0</td>\n",
       "      <td>0</td>\n",
       "      <td>0</td>\n",
       "      <td>0</td>\n",
       "      <td>0</td>\n",
       "      <td>0</td>\n",
       "      <td>...</td>\n",
       "      <td>0</td>\n",
       "      <td>0</td>\n",
       "      <td>0</td>\n",
       "      <td>0</td>\n",
       "      <td>0</td>\n",
       "      <td>0</td>\n",
       "      <td>0</td>\n",
       "      <td>41.581044</td>\n",
       "      <td>0</td>\n",
       "      <td>3</td>\n",
       "    </tr>\n",
       "    <tr>\n",
       "      <th>3</th>\n",
       "      <td>250.0</td>\n",
       "      <td>1</td>\n",
       "      <td>0</td>\n",
       "      <td>0</td>\n",
       "      <td>0</td>\n",
       "      <td>0</td>\n",
       "      <td>0</td>\n",
       "      <td>0</td>\n",
       "      <td>0</td>\n",
       "      <td>0</td>\n",
       "      <td>...</td>\n",
       "      <td>0</td>\n",
       "      <td>0</td>\n",
       "      <td>0</td>\n",
       "      <td>0</td>\n",
       "      <td>0</td>\n",
       "      <td>0</td>\n",
       "      <td>0</td>\n",
       "      <td>23.750000</td>\n",
       "      <td>0</td>\n",
       "      <td>0</td>\n",
       "    </tr>\n",
       "    <tr>\n",
       "      <th>4</th>\n",
       "      <td>250.0</td>\n",
       "      <td>2</td>\n",
       "      <td>0</td>\n",
       "      <td>0</td>\n",
       "      <td>0</td>\n",
       "      <td>1</td>\n",
       "      <td>0</td>\n",
       "      <td>0</td>\n",
       "      <td>0</td>\n",
       "      <td>0</td>\n",
       "      <td>...</td>\n",
       "      <td>0</td>\n",
       "      <td>0</td>\n",
       "      <td>0</td>\n",
       "      <td>0</td>\n",
       "      <td>0</td>\n",
       "      <td>0</td>\n",
       "      <td>0</td>\n",
       "      <td>100.000000</td>\n",
       "      <td>1</td>\n",
       "      <td>0</td>\n",
       "    </tr>\n",
       "  </tbody>\n",
       "</table>\n",
       "<p>5 rows × 111 columns</p>\n",
       "</div>"
      ],
      "text/plain": [
       "    Fees  Years_Of_Exp  Advanced Certificate Course in Aesthetic Dentistry  \\\n",
       "0  100.0             2                                                  0    \n",
       "1  350.0             1                                                  0    \n",
       "2  300.0             9                                                  0    \n",
       "3  250.0             1                                                  0    \n",
       "4  250.0             2                                                  0    \n",
       "\n",
       "   Ayurvedic panchkarma  B.Ac  BAMS  BDS  BEMS  BHMS  BIMS      ...        \\\n",
       "0                     0     0     0    0     0     1     0      ...         \n",
       "1                     0     0     1    0     0     0     0      ...         \n",
       "2                     0     0     0    0     0     0     0      ...         \n",
       "3                     0     0     0    0     0     0     0      ...         \n",
       "4                     0     0     1    0     0     0     0      ...         \n",
       "\n",
       "   Post Graduate Certificate in Endodontics (PGCE)  \\\n",
       "0                                                0   \n",
       "1                                                0   \n",
       "2                                                0   \n",
       "3                                                0   \n",
       "4                                                0   \n",
       "\n",
       "   Post Graduate Diploma in Diabetic Education  \\\n",
       "0                                            0   \n",
       "1                                            0   \n",
       "2                                            0   \n",
       "3                                            0   \n",
       "4                                            0   \n",
       "\n",
       "   Post Graduate Diploma in Diabetology (PGDD)  \\\n",
       "0                                            0   \n",
       "1                                            0   \n",
       "2                                            0   \n",
       "3                                            0   \n",
       "4                                            0   \n",
       "\n",
       "   Post Graduate Diploma in Diabetology (PGDD)(Madras Medical College)  \\\n",
       "0                                                  0                     \n",
       "1                                                  0                     \n",
       "2                                                  0                     \n",
       "3                                                  0                     \n",
       "4                                                  0                     \n",
       "\n",
       "   Post Graduate Diploma in Periodontics and Implantology  Post MD SR AIIMS  \\\n",
       "0                                                  0                      0   \n",
       "1                                                  0                      0   \n",
       "2                                                  0                      0   \n",
       "3                                                  0                      0   \n",
       "4                                                  0                      0   \n",
       "\n",
       "   Training in Facial Aesthetics  final_rating  City_label  Profile_label  \n",
       "0                              0    100.000000           4              5  \n",
       "1                              0     98.000000           0              0  \n",
       "2                              0     41.581044           0              3  \n",
       "3                              0     23.750000           0              0  \n",
       "4                              0    100.000000           1              0  \n",
       "\n",
       "[5 rows x 111 columns]"
      ]
     },
     "execution_count": 69,
     "metadata": {},
     "output_type": "execute_result"
    }
   ],
   "source": [
    "train_data.head()"
   ]
  },
  {
   "cell_type": "code",
   "execution_count": 70,
   "metadata": {},
   "outputs": [
    {
     "data": {
      "text/plain": [
       "uint8      106\n",
       "int64        2\n",
       "float64      2\n",
       "int32        1\n",
       "dtype: int64"
      ]
     },
     "execution_count": 70,
     "metadata": {},
     "output_type": "execute_result"
    }
   ],
   "source": [
    "#check data types of columns\n",
    "train_data.dtypes.value_counts() # clear that there are no category/text columns"
   ]
  },
  {
   "cell_type": "code",
   "execution_count": 71,
   "metadata": {},
   "outputs": [],
   "source": [
    "# Let's build models\n",
    "# Linear Regression\n",
    "from sklearn import datasets, linear_model\n",
    "from sklearn.metrics import mean_squared_error, r2_score"
   ]
  },
  {
   "cell_type": "code",
   "execution_count": 72,
   "metadata": {},
   "outputs": [],
   "source": [
    "train_target = train_data['Fees']\n",
    "train_predictors = train_data.drop(columns = {'Fees'})"
   ]
  },
  {
   "cell_type": "code",
   "execution_count": 73,
   "metadata": {},
   "outputs": [
    {
     "data": {
      "text/plain": [
       "0    100.0\n",
       "1    350.0\n",
       "2    300.0\n",
       "3    250.0\n",
       "4    250.0\n",
       "Name: Fees, dtype: float64"
      ]
     },
     "execution_count": 73,
     "metadata": {},
     "output_type": "execute_result"
    }
   ],
   "source": [
    "train_target.head()"
   ]
  },
  {
   "cell_type": "code",
   "execution_count": 74,
   "metadata": {},
   "outputs": [
    {
     "data": {
      "text/html": [
       "<div>\n",
       "<style scoped>\n",
       "    .dataframe tbody tr th:only-of-type {\n",
       "        vertical-align: middle;\n",
       "    }\n",
       "\n",
       "    .dataframe tbody tr th {\n",
       "        vertical-align: top;\n",
       "    }\n",
       "\n",
       "    .dataframe thead th {\n",
       "        text-align: right;\n",
       "    }\n",
       "</style>\n",
       "<table border=\"1\" class=\"dataframe\">\n",
       "  <thead>\n",
       "    <tr style=\"text-align: right;\">\n",
       "      <th></th>\n",
       "      <th>Years_Of_Exp</th>\n",
       "      <th>Advanced Certificate Course in Aesthetic Dentistry</th>\n",
       "      <th>Ayurvedic panchkarma</th>\n",
       "      <th>B.Ac</th>\n",
       "      <th>BAMS</th>\n",
       "      <th>BDS</th>\n",
       "      <th>BEMS</th>\n",
       "      <th>BHMS</th>\n",
       "      <th>BIMS</th>\n",
       "      <th>BPTh/BPT</th>\n",
       "      <th>...</th>\n",
       "      <th>Post Graduate Certificate in Endodontics (PGCE)</th>\n",
       "      <th>Post Graduate Diploma in Diabetic Education</th>\n",
       "      <th>Post Graduate Diploma in Diabetology (PGDD)</th>\n",
       "      <th>Post Graduate Diploma in Diabetology (PGDD)(Madras Medical College)</th>\n",
       "      <th>Post Graduate Diploma in Periodontics and Implantology</th>\n",
       "      <th>Post MD SR AIIMS</th>\n",
       "      <th>Training in Facial Aesthetics</th>\n",
       "      <th>final_rating</th>\n",
       "      <th>City_label</th>\n",
       "      <th>Profile_label</th>\n",
       "    </tr>\n",
       "  </thead>\n",
       "  <tbody>\n",
       "    <tr>\n",
       "      <th>0</th>\n",
       "      <td>2</td>\n",
       "      <td>0</td>\n",
       "      <td>0</td>\n",
       "      <td>0</td>\n",
       "      <td>0</td>\n",
       "      <td>0</td>\n",
       "      <td>0</td>\n",
       "      <td>1</td>\n",
       "      <td>0</td>\n",
       "      <td>0</td>\n",
       "      <td>...</td>\n",
       "      <td>0</td>\n",
       "      <td>0</td>\n",
       "      <td>0</td>\n",
       "      <td>0</td>\n",
       "      <td>0</td>\n",
       "      <td>0</td>\n",
       "      <td>0</td>\n",
       "      <td>100.000000</td>\n",
       "      <td>4</td>\n",
       "      <td>5</td>\n",
       "    </tr>\n",
       "    <tr>\n",
       "      <th>1</th>\n",
       "      <td>1</td>\n",
       "      <td>0</td>\n",
       "      <td>0</td>\n",
       "      <td>0</td>\n",
       "      <td>1</td>\n",
       "      <td>0</td>\n",
       "      <td>0</td>\n",
       "      <td>0</td>\n",
       "      <td>0</td>\n",
       "      <td>0</td>\n",
       "      <td>...</td>\n",
       "      <td>0</td>\n",
       "      <td>0</td>\n",
       "      <td>0</td>\n",
       "      <td>0</td>\n",
       "      <td>0</td>\n",
       "      <td>0</td>\n",
       "      <td>0</td>\n",
       "      <td>98.000000</td>\n",
       "      <td>0</td>\n",
       "      <td>0</td>\n",
       "    </tr>\n",
       "    <tr>\n",
       "      <th>2</th>\n",
       "      <td>9</td>\n",
       "      <td>0</td>\n",
       "      <td>0</td>\n",
       "      <td>0</td>\n",
       "      <td>0</td>\n",
       "      <td>0</td>\n",
       "      <td>0</td>\n",
       "      <td>0</td>\n",
       "      <td>0</td>\n",
       "      <td>0</td>\n",
       "      <td>...</td>\n",
       "      <td>0</td>\n",
       "      <td>0</td>\n",
       "      <td>0</td>\n",
       "      <td>0</td>\n",
       "      <td>0</td>\n",
       "      <td>0</td>\n",
       "      <td>0</td>\n",
       "      <td>41.581044</td>\n",
       "      <td>0</td>\n",
       "      <td>3</td>\n",
       "    </tr>\n",
       "    <tr>\n",
       "      <th>3</th>\n",
       "      <td>1</td>\n",
       "      <td>0</td>\n",
       "      <td>0</td>\n",
       "      <td>0</td>\n",
       "      <td>0</td>\n",
       "      <td>0</td>\n",
       "      <td>0</td>\n",
       "      <td>0</td>\n",
       "      <td>0</td>\n",
       "      <td>0</td>\n",
       "      <td>...</td>\n",
       "      <td>0</td>\n",
       "      <td>0</td>\n",
       "      <td>0</td>\n",
       "      <td>0</td>\n",
       "      <td>0</td>\n",
       "      <td>0</td>\n",
       "      <td>0</td>\n",
       "      <td>23.750000</td>\n",
       "      <td>0</td>\n",
       "      <td>0</td>\n",
       "    </tr>\n",
       "    <tr>\n",
       "      <th>4</th>\n",
       "      <td>2</td>\n",
       "      <td>0</td>\n",
       "      <td>0</td>\n",
       "      <td>0</td>\n",
       "      <td>1</td>\n",
       "      <td>0</td>\n",
       "      <td>0</td>\n",
       "      <td>0</td>\n",
       "      <td>0</td>\n",
       "      <td>0</td>\n",
       "      <td>...</td>\n",
       "      <td>0</td>\n",
       "      <td>0</td>\n",
       "      <td>0</td>\n",
       "      <td>0</td>\n",
       "      <td>0</td>\n",
       "      <td>0</td>\n",
       "      <td>0</td>\n",
       "      <td>100.000000</td>\n",
       "      <td>1</td>\n",
       "      <td>0</td>\n",
       "    </tr>\n",
       "  </tbody>\n",
       "</table>\n",
       "<p>5 rows × 110 columns</p>\n",
       "</div>"
      ],
      "text/plain": [
       "   Years_Of_Exp  Advanced Certificate Course in Aesthetic Dentistry  \\\n",
       "0             2                                                  0    \n",
       "1             1                                                  0    \n",
       "2             9                                                  0    \n",
       "3             1                                                  0    \n",
       "4             2                                                  0    \n",
       "\n",
       "   Ayurvedic panchkarma  B.Ac  BAMS  BDS  BEMS  BHMS  BIMS  BPTh/BPT  \\\n",
       "0                     0     0     0    0     0     1     0         0   \n",
       "1                     0     0     1    0     0     0     0         0   \n",
       "2                     0     0     0    0     0     0     0         0   \n",
       "3                     0     0     0    0     0     0     0         0   \n",
       "4                     0     0     1    0     0     0     0         0   \n",
       "\n",
       "       ...        Post Graduate Certificate in Endodontics (PGCE)  \\\n",
       "0      ...                                                      0   \n",
       "1      ...                                                      0   \n",
       "2      ...                                                      0   \n",
       "3      ...                                                      0   \n",
       "4      ...                                                      0   \n",
       "\n",
       "   Post Graduate Diploma in Diabetic Education  \\\n",
       "0                                            0   \n",
       "1                                            0   \n",
       "2                                            0   \n",
       "3                                            0   \n",
       "4                                            0   \n",
       "\n",
       "   Post Graduate Diploma in Diabetology (PGDD)  \\\n",
       "0                                            0   \n",
       "1                                            0   \n",
       "2                                            0   \n",
       "3                                            0   \n",
       "4                                            0   \n",
       "\n",
       "   Post Graduate Diploma in Diabetology (PGDD)(Madras Medical College)  \\\n",
       "0                                                  0                     \n",
       "1                                                  0                     \n",
       "2                                                  0                     \n",
       "3                                                  0                     \n",
       "4                                                  0                     \n",
       "\n",
       "   Post Graduate Diploma in Periodontics and Implantology  Post MD SR AIIMS  \\\n",
       "0                                                  0                      0   \n",
       "1                                                  0                      0   \n",
       "2                                                  0                      0   \n",
       "3                                                  0                      0   \n",
       "4                                                  0                      0   \n",
       "\n",
       "   Training in Facial Aesthetics  final_rating  City_label  Profile_label  \n",
       "0                              0    100.000000           4              5  \n",
       "1                              0     98.000000           0              0  \n",
       "2                              0     41.581044           0              3  \n",
       "3                              0     23.750000           0              0  \n",
       "4                              0    100.000000           1              0  \n",
       "\n",
       "[5 rows x 110 columns]"
      ]
     },
     "execution_count": 74,
     "metadata": {},
     "output_type": "execute_result"
    }
   ],
   "source": [
    "train_predictors.head()"
   ]
  },
  {
   "cell_type": "code",
   "execution_count": 75,
   "metadata": {},
   "outputs": [],
   "source": [
    "from sklearn.model_selection import train_test_split"
   ]
  },
  {
   "cell_type": "code",
   "execution_count": 76,
   "metadata": {},
   "outputs": [],
   "source": [
    "x_train , x_test,y_train,y_test  = train_test_split(train_predictors , train_target,test_size = 0.2, random_state =2)"
   ]
  },
  {
   "cell_type": "code",
   "execution_count": 77,
   "metadata": {},
   "outputs": [
    {
     "data": {
      "text/plain": [
       "(4768, 110)"
      ]
     },
     "execution_count": 77,
     "metadata": {},
     "output_type": "execute_result"
    }
   ],
   "source": [
    "x_train.shape"
   ]
  },
  {
   "cell_type": "code",
   "execution_count": 78,
   "metadata": {},
   "outputs": [
    {
     "data": {
      "text/plain": [
       "(1193, 110)"
      ]
     },
     "execution_count": 78,
     "metadata": {},
     "output_type": "execute_result"
    }
   ],
   "source": [
    "x_test.shape"
   ]
  },
  {
   "cell_type": "code",
   "execution_count": 79,
   "metadata": {},
   "outputs": [
    {
     "data": {
      "text/plain": [
       "(4768,)"
      ]
     },
     "execution_count": 79,
     "metadata": {},
     "output_type": "execute_result"
    }
   ],
   "source": [
    "y_train.shape"
   ]
  },
  {
   "cell_type": "code",
   "execution_count": 80,
   "metadata": {},
   "outputs": [
    {
     "data": {
      "text/plain": [
       "(1193,)"
      ]
     },
     "execution_count": 80,
     "metadata": {},
     "output_type": "execute_result"
    }
   ],
   "source": [
    "y_test.shape"
   ]
  },
  {
   "cell_type": "code",
   "execution_count": 81,
   "metadata": {},
   "outputs": [],
   "source": [
    "from sklearn.linear_model import LinearRegression\n",
    "reg = LinearRegression(normalize = True)"
   ]
  },
  {
   "cell_type": "code",
   "execution_count": 82,
   "metadata": {},
   "outputs": [
    {
     "data": {
      "text/plain": [
       "LinearRegression(copy_X=True, fit_intercept=True, n_jobs=1, normalize=True)"
      ]
     },
     "execution_count": 82,
     "metadata": {},
     "output_type": "execute_result"
    }
   ],
   "source": [
    "reg.fit(x_train,y_train)"
   ]
  },
  {
   "cell_type": "code",
   "execution_count": 83,
   "metadata": {},
   "outputs": [
    {
     "name": "stdout",
     "output_type": "stream",
     "text": [
      "Mean squared error: 217253054715853264377420456132608.00\n",
      "Variance score: -6281325867447777318609616896.00\n"
     ]
    }
   ],
   "source": [
    "#make predictions on cv dataset(x_test dataset)\n",
    "fee_y_predictions = reg.predict(x_test)\n",
    "#the coeffiecients\n",
    "#print('Coefficients: \\n', reg.coef_)\n",
    "print(\"Mean squared error: %.2f\"\n",
    "      % mean_squared_error(y_test, fee_y_predictions))\n",
    "# Explained variance score: 1 is perfect prediction\n",
    "print('Variance score: %.2f' % r2_score(y_test, fee_y_predictions))\n"
   ]
  },
  {
   "cell_type": "code",
   "execution_count": 84,
   "metadata": {},
   "outputs": [
    {
     "data": {
      "text/plain": [
       "-6.281325867447777e+27"
      ]
     },
     "execution_count": 84,
     "metadata": {},
     "output_type": "execute_result"
    }
   ],
   "source": [
    "reg.score(x_test,y_test)"
   ]
  },
  {
   "cell_type": "code",
   "execution_count": 85,
   "metadata": {},
   "outputs": [],
   "source": [
    "# Let's build Lasso Regression\n",
    "from sklearn.linear_model import LinearRegression,Lasso,Ridge\n",
    "from sklearn.model_selection import GridSearchCV"
   ]
  },
  {
   "cell_type": "code",
   "execution_count": 86,
   "metadata": {},
   "outputs": [],
   "source": [
    "# defining parameters for GridSearch CV\n",
    "alphas = [0.0001,0.001,0.01,1,10]\n",
    "normalize = [True]\n",
    "param_grid = {'alpha': alphas,'normalize':normalize}\n"
   ]
  },
  {
   "cell_type": "code",
   "execution_count": 87,
   "metadata": {},
   "outputs": [
    {
     "name": "stderr",
     "output_type": "stream",
     "text": [
      "C:\\ProgramData\\Anaconda3\\lib\\site-packages\\sklearn\\linear_model\\coordinate_descent.py:491: ConvergenceWarning: Objective did not converge. You might want to increase the number of iterations. Fitting data with very small alpha may cause precision problems.\n",
      "  ConvergenceWarning)\n",
      "C:\\ProgramData\\Anaconda3\\lib\\site-packages\\sklearn\\linear_model\\coordinate_descent.py:491: ConvergenceWarning: Objective did not converge. You might want to increase the number of iterations. Fitting data with very small alpha may cause precision problems.\n",
      "  ConvergenceWarning)\n",
      "C:\\ProgramData\\Anaconda3\\lib\\site-packages\\sklearn\\linear_model\\coordinate_descent.py:491: ConvergenceWarning: Objective did not converge. You might want to increase the number of iterations. Fitting data with very small alpha may cause precision problems.\n",
      "  ConvergenceWarning)\n",
      "C:\\ProgramData\\Anaconda3\\lib\\site-packages\\sklearn\\linear_model\\coordinate_descent.py:491: ConvergenceWarning: Objective did not converge. You might want to increase the number of iterations. Fitting data with very small alpha may cause precision problems.\n",
      "  ConvergenceWarning)\n",
      "C:\\ProgramData\\Anaconda3\\lib\\site-packages\\sklearn\\linear_model\\coordinate_descent.py:491: ConvergenceWarning: Objective did not converge. You might want to increase the number of iterations. Fitting data with very small alpha may cause precision problems.\n",
      "  ConvergenceWarning)\n",
      "C:\\ProgramData\\Anaconda3\\lib\\site-packages\\sklearn\\linear_model\\coordinate_descent.py:491: ConvergenceWarning: Objective did not converge. You might want to increase the number of iterations. Fitting data with very small alpha may cause precision problems.\n",
      "  ConvergenceWarning)\n",
      "C:\\ProgramData\\Anaconda3\\lib\\site-packages\\sklearn\\linear_model\\coordinate_descent.py:491: ConvergenceWarning: Objective did not converge. You might want to increase the number of iterations. Fitting data with very small alpha may cause precision problems.\n",
      "  ConvergenceWarning)\n",
      "C:\\ProgramData\\Anaconda3\\lib\\site-packages\\sklearn\\linear_model\\coordinate_descent.py:491: ConvergenceWarning: Objective did not converge. You might want to increase the number of iterations. Fitting data with very small alpha may cause precision problems.\n",
      "  ConvergenceWarning)\n",
      "C:\\ProgramData\\Anaconda3\\lib\\site-packages\\sklearn\\linear_model\\coordinate_descent.py:491: ConvergenceWarning: Objective did not converge. You might want to increase the number of iterations. Fitting data with very small alpha may cause precision problems.\n",
      "  ConvergenceWarning)\n",
      "C:\\ProgramData\\Anaconda3\\lib\\site-packages\\sklearn\\linear_model\\coordinate_descent.py:491: ConvergenceWarning: Objective did not converge. You might want to increase the number of iterations. Fitting data with very small alpha may cause precision problems.\n",
      "  ConvergenceWarning)\n",
      "C:\\ProgramData\\Anaconda3\\lib\\site-packages\\sklearn\\linear_model\\coordinate_descent.py:491: ConvergenceWarning: Objective did not converge. You might want to increase the number of iterations. Fitting data with very small alpha may cause precision problems.\n",
      "  ConvergenceWarning)\n"
     ]
    },
    {
     "data": {
      "text/plain": [
       "GridSearchCV(cv=10, error_score='raise',\n",
       "       estimator=Lasso(alpha=1.0, copy_X=True, fit_intercept=True, max_iter=1000,\n",
       "   normalize=False, positive=False, precompute=False, random_state=None,\n",
       "   selection='cyclic', tol=0.0001, warm_start=False),\n",
       "       fit_params=None, iid=True, n_jobs=1,\n",
       "       param_grid={'alpha': [0.0001, 0.001, 0.01, 1, 10], 'normalize': [True]},\n",
       "       pre_dispatch='2*n_jobs', refit=True, return_train_score='warn',\n",
       "       scoring=None, verbose=0)"
      ]
     },
     "execution_count": 87,
     "metadata": {},
     "output_type": "execute_result"
    }
   ],
   "source": [
    "# Implementing GridSearchCV on Lasso Regression\n",
    "Lasso_reg = Lasso()\n",
    "Lasso_GS = GridSearchCV(estimator = Lasso_reg,param_grid=param_grid,cv = 10)\n",
    "#Fit the lasso regression on train and test datasets to find best parameters\n",
    "Lasso_GS.fit(x_train, y_train)"
   ]
  },
  {
   "cell_type": "code",
   "execution_count": 88,
   "metadata": {},
   "outputs": [
    {
     "data": {
      "text/plain": [
       "Lasso(alpha=0.01, copy_X=True, fit_intercept=True, max_iter=1000,\n",
       "   normalize=True, positive=False, precompute=False, random_state=None,\n",
       "   selection='cyclic', tol=0.0001, warm_start=False)"
      ]
     },
     "execution_count": 88,
     "metadata": {},
     "output_type": "execute_result"
    }
   ],
   "source": [
    "Lasso_GS.best_estimator_  # From below best estimator is \"0.01\""
   ]
  },
  {
   "cell_type": "code",
   "execution_count": 89,
   "metadata": {},
   "outputs": [],
   "source": [
    "# Implementing the best estimatore '0.01' on train data and test sets\n",
    "Lasso_best = Lasso(alpha = 0.01, normalize = True)\n",
    "Lasso_best.fit(x_train,y_train)\n",
    "y_pred_lasso = Lasso_best.predict(x_test)"
   ]
  },
  {
   "cell_type": "code",
   "execution_count": 90,
   "metadata": {},
   "outputs": [
    {
     "data": {
      "text/plain": [
       "array([320.09271275, 253.93309418, 324.53081031, ..., 282.86470515,\n",
       "       189.27441305, 236.11142934])"
      ]
     },
     "execution_count": 90,
     "metadata": {},
     "output_type": "execute_result"
    }
   ],
   "source": [
    "y_pred_lasso  # seeing y_predictions"
   ]
  },
  {
   "cell_type": "code",
   "execution_count": 91,
   "metadata": {},
   "outputs": [
    {
     "name": "stdout",
     "output_type": "stream",
     "text": [
      "Best parameters:  {'alpha': 0.01, 'normalize': True}\n"
     ]
    }
   ],
   "source": [
    "print(\"Best parameters: \",Lasso_GS.best_params_) # printing best parameters"
   ]
  },
  {
   "cell_type": "code",
   "execution_count": 92,
   "metadata": {},
   "outputs": [],
   "source": [
    "# importing metrics from sklearn\n",
    "from sklearn.metrics import r2_score\n",
    "from sklearn.metrics import explained_variance_score\n",
    "from sklearn.metrics import mean_absolute_error\n",
    "from sklearn.metrics import mean_squared_error\n",
    "from sklearn.metrics import mean_squared_log_error"
   ]
  },
  {
   "cell_type": "code",
   "execution_count": 93,
   "metadata": {},
   "outputs": [
    {
     "name": "stdout",
     "output_type": "stream",
     "text": [
      "mean_squared_error:  30263.306320123625\n",
      "explained_variance_score:  0.12502667847358173\n",
      "mean_absolute_error:  140.87458438897917\n",
      "mean_squared_log_error:  0.42901973186829456\n",
      "Coefficient of Determination(r2_score):  0.1250125846482888\n",
      "\n",
      "Comparing with Linear Regression Lasso Regression is better\n"
     ]
    }
   ],
   "source": [
    "# printing all metrics based on test dataset\n",
    "print(\"mean_squared_error: \",mean_squared_error(y_test,y_pred_lasso))\n",
    "print(\"explained_variance_score: \",explained_variance_score(y_test,y_pred_lasso))\n",
    "print(\"mean_absolute_error: \",mean_absolute_error(y_test,y_pred_lasso))\n",
    "print(\"mean_squared_log_error: \",mean_squared_log_error(y_test,y_pred_lasso))\n",
    "print(\"Coefficient of Determination(r2_score): \",r2_score(y_test,y_pred_lasso))\n",
    "print(\"\\nComparing with Linear Regression Lasso Regression is better\",)"
   ]
  },
  {
   "cell_type": "code",
   "execution_count": 94,
   "metadata": {},
   "outputs": [
    {
     "data": {
      "text/plain": [
       "GridSearchCV(cv=10, error_score='raise',\n",
       "       estimator=Ridge(alpha=1.0, copy_X=True, fit_intercept=True, max_iter=None,\n",
       "   normalize=False, random_state=None, solver='auto', tol=0.001),\n",
       "       fit_params=None, iid=True, n_jobs=1,\n",
       "       param_grid={'alpha': [0.0001, 0.001, 0.01, 1, 10], 'normalize': [True]},\n",
       "       pre_dispatch='2*n_jobs', refit=True, return_train_score='warn',\n",
       "       scoring=None, verbose=0)"
      ]
     },
     "execution_count": 94,
     "metadata": {},
     "output_type": "execute_result"
    }
   ],
   "source": [
    "# Let's perform Ridge Regression\n",
    "\n",
    "# Implementing GridSearchCV on Ridge Regression\n",
    "Ridge_Reg = Ridge()\n",
    "Ridge_GS = GridSearchCV(estimator = Ridge_Reg,param_grid=param_grid,cv = 10)\n",
    "#Fit the Ridge regression on train and test datasets to find best parameters\n",
    "Ridge_GS.fit(x_train, y_train)\n"
   ]
  },
  {
   "cell_type": "code",
   "execution_count": 95,
   "metadata": {},
   "outputs": [
    {
     "data": {
      "text/plain": [
       "Ridge(alpha=0.01, copy_X=True, fit_intercept=True, max_iter=None,\n",
       "   normalize=True, random_state=None, solver='auto', tol=0.001)"
      ]
     },
     "execution_count": 95,
     "metadata": {},
     "output_type": "execute_result"
    }
   ],
   "source": [
    "Ridge_GS.best_estimator_"
   ]
  },
  {
   "cell_type": "code",
   "execution_count": 96,
   "metadata": {},
   "outputs": [
    {
     "data": {
      "text/plain": [
       "{'alpha': 0.01, 'normalize': True}"
      ]
     },
     "execution_count": 96,
     "metadata": {},
     "output_type": "execute_result"
    }
   ],
   "source": [
    "Ridge_GS.best_params_"
   ]
  },
  {
   "cell_type": "code",
   "execution_count": 97,
   "metadata": {},
   "outputs": [],
   "source": [
    "# Implement Ridge Regression with \"Alpha : 0.01\" and normalize = True\n",
    "\n",
    "Ridge_best = Ridge(alpha = 0.01, normalize = True)\n",
    "Ridge_best.fit(x_train,y_train)\n",
    "y_pred_ridge = Ridge_best.predict(x_test)"
   ]
  },
  {
   "cell_type": "code",
   "execution_count": 98,
   "metadata": {},
   "outputs": [
    {
     "data": {
      "text/plain": [
       "0.12348278790221212"
      ]
     },
     "execution_count": 98,
     "metadata": {},
     "output_type": "execute_result"
    }
   ],
   "source": [
    "r2_score(y_test,y_pred_ridge)"
   ]
  },
  {
   "cell_type": "code",
   "execution_count": 99,
   "metadata": {},
   "outputs": [
    {
     "name": "stdout",
     "output_type": "stream",
     "text": [
      "mean_squared_error:  30316.217604013844\n",
      "explained_variance_score:  0.12348356246137138\n",
      "mean_absolute_error:  140.74859296725265\n",
      "mean_squared_log_error:  0.42950791598362903\n",
      "Coefficient of Determination(r2_score):  0.12348278790221212\n",
      "\n",
      "Comparing Lasso Regression & Ridge Regression both gave us the same result\n"
     ]
    }
   ],
   "source": [
    "# printing all metrics based on test dataset\n",
    "print(\"mean_squared_error: \",mean_squared_error(y_test,y_pred_ridge))\n",
    "print(\"explained_variance_score: \",explained_variance_score(y_test,y_pred_ridge))\n",
    "print(\"mean_absolute_error: \",mean_absolute_error(y_test,y_pred_ridge))\n",
    "print(\"mean_squared_log_error: \",mean_squared_log_error(y_test,y_pred_ridge))\n",
    "print(\"Coefficient of Determination(r2_score): \",r2_score(y_test,y_pred_ridge))\n",
    "print(\"\\nComparing Lasso Regression & Ridge Regression both gave us the same result\",)"
   ]
  },
  {
   "cell_type": "code",
   "execution_count": 100,
   "metadata": {},
   "outputs": [],
   "source": [
    "# Let's check the distribution of the target variable\n",
    "import matplotlib.pyplot as plt\n",
    "import seaborn as sns"
   ]
  },
  {
   "cell_type": "code",
   "execution_count": 101,
   "metadata": {},
   "outputs": [],
   "source": [
    "y_train = pd.DataFrame(y_train)"
   ]
  },
  {
   "cell_type": "code",
   "execution_count": 102,
   "metadata": {},
   "outputs": [
    {
     "data": {
      "text/html": [
       "<div>\n",
       "<style scoped>\n",
       "    .dataframe tbody tr th:only-of-type {\n",
       "        vertical-align: middle;\n",
       "    }\n",
       "\n",
       "    .dataframe tbody tr th {\n",
       "        vertical-align: top;\n",
       "    }\n",
       "\n",
       "    .dataframe thead th {\n",
       "        text-align: right;\n",
       "    }\n",
       "</style>\n",
       "<table border=\"1\" class=\"dataframe\">\n",
       "  <thead>\n",
       "    <tr style=\"text-align: right;\">\n",
       "      <th></th>\n",
       "      <th>Fees</th>\n",
       "    </tr>\n",
       "  </thead>\n",
       "  <tbody>\n",
       "    <tr>\n",
       "      <th>2288</th>\n",
       "      <td>500.0</td>\n",
       "    </tr>\n",
       "    <tr>\n",
       "      <th>3728</th>\n",
       "      <td>800.0</td>\n",
       "    </tr>\n",
       "    <tr>\n",
       "      <th>3665</th>\n",
       "      <td>200.0</td>\n",
       "    </tr>\n",
       "    <tr>\n",
       "      <th>5392</th>\n",
       "      <td>300.0</td>\n",
       "    </tr>\n",
       "    <tr>\n",
       "      <th>3975</th>\n",
       "      <td>100.0</td>\n",
       "    </tr>\n",
       "  </tbody>\n",
       "</table>\n",
       "</div>"
      ],
      "text/plain": [
       "       Fees\n",
       "2288  500.0\n",
       "3728  800.0\n",
       "3665  200.0\n",
       "5392  300.0\n",
       "3975  100.0"
      ]
     },
     "execution_count": 102,
     "metadata": {},
     "output_type": "execute_result"
    }
   ],
   "source": [
    "y_train.head()"
   ]
  },
  {
   "cell_type": "code",
   "execution_count": 103,
   "metadata": {},
   "outputs": [
    {
     "data": {
      "image/png": "[encoded data removed]",
      "text/plain": [
       "<Figure size 432x288 with 1 Axes>"
      ]
     },
     "metadata": {},
     "output_type": "display_data"
    }
   ],
   "source": [
    "sns.distplot(y_train, label = 'Fees',hist = True)\n",
    "plt.title('Dist. of Target Variable')\n",
    "plt.xlabel('Fees')\n",
    "plt.show()"
   ]
  },
  {
   "cell_type": "code",
   "execution_count": 104,
   "metadata": {},
   "outputs": [
    {
     "data": {
      "text/plain": [
       "<matplotlib.axes._subplots.AxesSubplot at 0x216945b3cc0>"
      ]
     },
     "execution_count": 104,
     "metadata": {},
     "output_type": "execute_result"
    },
    {
     "data": {
      "image/png": "[encoded data removed]",
      "text/plain": [
       "<Figure size 432x288 with 1 Axes>"
      ]
     },
     "metadata": {},
     "output_type": "display_data"
    }
   ],
   "source": [
    "sns.kdeplot(y_train['Fees'],shade = True) # From below and above plot it is clear that data is right skewed. Let's do log transformation of data"
   ]
  },
  {
   "cell_type": "code",
   "execution_count": 105,
   "metadata": {},
   "outputs": [
    {
     "data": {
      "image/png": "[encoded data removed]",
      "text/plain": [
       "<Figure size 432x288 with 1 Axes>"
      ]
     },
     "metadata": {},
     "output_type": "display_data"
    }
   ],
   "source": [
    "#Check the new distribution \n",
    "from scipy.stats import norm, skew \n",
    "sns.distplot(np.log(y_train[\"Fees\"]) , fit=norm);"
   ]
  },
  {
   "cell_type": "code",
   "execution_count": 106,
   "metadata": {},
   "outputs": [],
   "source": [
    "# Apply log transformation to the y_train(target variable) and y_test\n",
    "y_train1 = pd.DataFrame(np.log(y_train['Fees']))\n"
   ]
  },
  {
   "cell_type": "code",
   "execution_count": 107,
   "metadata": {},
   "outputs": [
    {
     "data": {
      "text/html": [
       "<div>\n",
       "<style scoped>\n",
       "    .dataframe tbody tr th:only-of-type {\n",
       "        vertical-align: middle;\n",
       "    }\n",
       "\n",
       "    .dataframe tbody tr th {\n",
       "        vertical-align: top;\n",
       "    }\n",
       "\n",
       "    .dataframe thead th {\n",
       "        text-align: right;\n",
       "    }\n",
       "</style>\n",
       "<table border=\"1\" class=\"dataframe\">\n",
       "  <thead>\n",
       "    <tr style=\"text-align: right;\">\n",
       "      <th></th>\n",
       "      <th>Fees</th>\n",
       "    </tr>\n",
       "  </thead>\n",
       "  <tbody>\n",
       "    <tr>\n",
       "      <th>2288</th>\n",
       "      <td>6.214608</td>\n",
       "    </tr>\n",
       "    <tr>\n",
       "      <th>3728</th>\n",
       "      <td>6.684612</td>\n",
       "    </tr>\n",
       "    <tr>\n",
       "      <th>3665</th>\n",
       "      <td>5.298317</td>\n",
       "    </tr>\n",
       "    <tr>\n",
       "      <th>5392</th>\n",
       "      <td>5.703782</td>\n",
       "    </tr>\n",
       "    <tr>\n",
       "      <th>3975</th>\n",
       "      <td>4.605170</td>\n",
       "    </tr>\n",
       "  </tbody>\n",
       "</table>\n",
       "</div>"
      ],
      "text/plain": [
       "          Fees\n",
       "2288  6.214608\n",
       "3728  6.684612\n",
       "3665  5.298317\n",
       "5392  5.703782\n",
       "3975  4.605170"
      ]
     },
     "execution_count": 107,
     "metadata": {},
     "output_type": "execute_result"
    }
   ],
   "source": [
    "y_train1.head()"
   ]
  },
  {
   "cell_type": "code",
   "execution_count": 108,
   "metadata": {},
   "outputs": [],
   "source": [
    "y_test1 = np.log(y_test)"
   ]
  },
  {
   "cell_type": "code",
   "execution_count": 109,
   "metadata": {},
   "outputs": [
    {
     "data": {
      "text/plain": [
       "5117    6.396930\n",
       "3924    6.214608\n",
       "5249    6.684612\n",
       "3501    5.298317\n",
       "1852    5.857933\n",
       "Name: Fees, dtype: float64"
      ]
     },
     "execution_count": 109,
     "metadata": {},
     "output_type": "execute_result"
    }
   ],
   "source": [
    "y_test1.head()"
   ]
  },
  {
   "cell_type": "code",
   "execution_count": 110,
   "metadata": {},
   "outputs": [
    {
     "data": {
      "text/plain": [
       "GridSearchCV(cv=10, error_score='raise',\n",
       "       estimator=Lasso(alpha=1.0, copy_X=True, fit_intercept=True, max_iter=1000,\n",
       "   normalize=False, positive=False, precompute=False, random_state=None,\n",
       "   selection='cyclic', tol=0.0001, warm_start=False),\n",
       "       fit_params=None, iid=True, n_jobs=1,\n",
       "       param_grid={'alpha': [0.0001, 0.001, 0.01, 1, 10], 'normalize': [True]},\n",
       "       pre_dispatch='2*n_jobs', refit=True, return_train_score='warn',\n",
       "       scoring=None, verbose=0)"
      ]
     },
     "execution_count": 110,
     "metadata": {},
     "output_type": "execute_result"
    }
   ],
   "source": [
    "# Let's perform Lasso and Ridge Regression\n",
    "\n",
    "################################  Ridge #######################################\n",
    "# Implementing GridSearchCV on Ridge Regression\n",
    "Ridge_Reg = Ridge()\n",
    "Ridge_GS = GridSearchCV(estimator = Ridge_Reg,param_grid=param_grid,cv = 10)\n",
    "#Fit the Ridge regression on train and test datasets to find best parameters\n",
    "Ridge_GS.fit(x_train, y_train1)\n",
    "\n",
    "################################  Lasso #######################################\n",
    "Lasso_reg = Lasso()\n",
    "Lasso_GS = GridSearchCV(estimator = Lasso_reg,param_grid=param_grid,cv = 10)\n",
    "#Fit the lasso regression on train and test datasets to find best parameters\n",
    "Lasso_GS.fit(x_train, y_train1)\n"
   ]
  },
  {
   "cell_type": "code",
   "execution_count": 111,
   "metadata": {},
   "outputs": [
    {
     "data": {
      "text/plain": [
       "Ridge(alpha=0.01, copy_X=True, fit_intercept=True, max_iter=None,\n",
       "   normalize=True, random_state=None, solver='auto', tol=0.001)"
      ]
     },
     "execution_count": 111,
     "metadata": {},
     "output_type": "execute_result"
    }
   ],
   "source": [
    "Ridge_GS.best_estimator_"
   ]
  },
  {
   "cell_type": "code",
   "execution_count": 112,
   "metadata": {},
   "outputs": [
    {
     "data": {
      "text/plain": [
       "{'alpha': 0.01, 'normalize': True}"
      ]
     },
     "execution_count": 112,
     "metadata": {},
     "output_type": "execute_result"
    }
   ],
   "source": [
    "Ridge_GS.best_params_"
   ]
  },
  {
   "cell_type": "code",
   "execution_count": 113,
   "metadata": {},
   "outputs": [],
   "source": [
    "Ridge_reg = Ridge(alpha = 0.01, normalize = True)\n",
    "Ridge_reg.fit(x_train,y_train1)\n",
    "y_pred_rg = Ridge_reg.predict(x_test)"
   ]
  },
  {
   "cell_type": "code",
   "execution_count": 114,
   "metadata": {},
   "outputs": [
    {
     "name": "stdout",
     "output_type": "stream",
     "text": [
      "mean_squared_error:  0.4011654652220725\n",
      "explained_variance_score:  0.1049235011449593\n",
      "mean_absolute_error:  0.5235560395196022\n",
      "mean_squared_log_error:  0.009925198131997015\n",
      "Coefficient of Determination(r2_score):  0.10480846191168058\n",
      "\n",
      "Comparing Lasso Regression & Ridge Regression both gave us the same result\n"
     ]
    }
   ],
   "source": [
    "# printing all metrics based on test dataset\n",
    "print(\"mean_squared_error: \",mean_squared_error(y_test1,y_pred_rg))\n",
    "print(\"explained_variance_score: \",explained_variance_score(y_test1,y_pred_rg))\n",
    "print(\"mean_absolute_error: \",mean_absolute_error(y_test1,y_pred_rg))\n",
    "print(\"mean_squared_log_error: \",mean_squared_log_error(y_test1,y_pred_rg))\n",
    "print(\"Coefficient of Determination(r2_score): \",r2_score(y_test1,y_pred_rg))\n",
    "print(\"\\nComparing Lasso Regression & Ridge Regression both gave us the same result\",)"
   ]
  },
  {
   "cell_type": "code",
   "execution_count": 115,
   "metadata": {},
   "outputs": [
    {
     "name": "stdout",
     "output_type": "stream",
     "text": [
      "Best estimator:  Lasso(alpha=0.0001, copy_X=True, fit_intercept=True, max_iter=1000,\n",
      "   normalize=True, positive=False, precompute=False, random_state=None,\n",
      "   selection='cyclic', tol=0.0001, warm_start=False)\n",
      "Best Parameters:  {'alpha': 0.0001, 'normalize': True}\n"
     ]
    }
   ],
   "source": [
    "print(\"Best estimator: \",Lasso_GS.best_estimator_)\n",
    "print(\"Best Parameters: \",Lasso_GS.best_params_)"
   ]
  },
  {
   "cell_type": "code",
   "execution_count": 116,
   "metadata": {},
   "outputs": [],
   "source": [
    "Lasso_reg = Lasso(alpha = 0.0001, normalize = True)\n",
    "Lasso_reg.fit(x_train,y_train1)\n",
    "y_pred_la = Lasso_reg.predict(x_test)"
   ]
  },
  {
   "cell_type": "code",
   "execution_count": 117,
   "metadata": {},
   "outputs": [],
   "source": [
    "# Identifying coeffiecients\n",
    "Lasso_coef = pd.DataFrame(Lasso_reg.coef_,index = x_train.columns,columns = ['Coefficient']) #getting all into a dataframe\n",
    "#get only non zero coeffiecients\n",
    "best_lasso_coef = Lasso_coef[np.round(Lasso_coef['Coefficient'],decimals = 3)!= 0].sort_values(ascending = False,by ='Coefficient' )"
   ]
  },
  {
   "cell_type": "code",
   "execution_count": 118,
   "metadata": {},
   "outputs": [
    {
     "data": {
      "text/plain": [
       "Index(['MA', 'MSc', 'Fellowship In Laryngology Bronchoesophagology',\n",
       "       'Cochlear Implant Surgery', 'MRCP (UK)', 'PGDHM', 'MPH',\n",
       "       'Post Graduate Diploma in Diabetic Education', 'M.Ch',\n",
       "       'Fellowship in Aesthetic Medicine', 'Diploma in Trichology', 'FRCP',\n",
       "       'BIMS', 'Post MD SR AIIMS', 'FRGUHS',\n",
       "       'Certification Course In Diabetes', 'DNB', 'DM', 'Ayurvedic panchkarma',\n",
       "       'MS', 'Diplomate of National Board Exam',\n",
       "       'Diploma in Diet and Nutrition', 'DHMS', 'MBBS', 'MD',\n",
       "       'POST GRADUATE IN HOMOEOPATHY', 'final_rating',\n",
       "       'Certificate of Oral Implantology', 'Years_Of_Exp', 'City_label',\n",
       "       'Profile_label', 'GCEH', 'DDV', 'MRCPCH (UK)',\n",
       "       'Advanced Certificate Course in Aesthetic Dentistry', 'G.A.M.S',\n",
       "       'Post Graduate Diploma in Diabetology (PGDD)', 'BSAM', 'MDS', 'BAMS',\n",
       "       'BSc', 'BDS', 'Dermatology', 'MRCPS', 'DVD'],\n",
       "      dtype='object')"
      ]
     },
     "execution_count": 118,
     "metadata": {},
     "output_type": "execute_result"
    }
   ],
   "source": [
    "best_lasso_coef.index"
   ]
  },
  {
   "cell_type": "code",
   "execution_count": 119,
   "metadata": {},
   "outputs": [
    {
     "data": {
      "image/png": "[encoded data removed]",
      "text/plain": [
       "<Figure size 576x720 with 1 Axes>"
      ]
     },
     "metadata": {},
     "output_type": "display_data"
    }
   ],
   "source": [
    "plt.figure(figsize = (8,10))\n",
    "sns.barplot('Coefficient',best_lasso_coef.index,data = best_lasso_coef)\n",
    "plt.title(\" Best fetures from Lasso Regression Coeffiecients\")\n",
    "plt.xlabel(\"Coefficient\")\n",
    "plt.ylabel(\"Features\")\n",
    "plt.show()"
   ]
  },
  {
   "cell_type": "code",
   "execution_count": 120,
   "metadata": {},
   "outputs": [
    {
     "name": "stdout",
     "output_type": "stream",
     "text": [
      "mean_squared_error:  0.3995117716373063\n",
      "explained_variance_score:  0.10855477484840359\n",
      "mean_absolute_error:  0.5245112339042578\n",
      "mean_squared_log_error:  0.009888403603062151\n",
      "Coefficient of Determination(r2_score):  0.10849864123171293\n",
      "\n",
      "Comparing Lasso Regression & Ridge Regression both gave us the same result\n"
     ]
    }
   ],
   "source": [
    "# printing all metrics based on test dataset\n",
    "print(\"mean_squared_error: \",mean_squared_error(y_test1,y_pred_la))\n",
    "print(\"explained_variance_score: \",explained_variance_score(y_test1,y_pred_la))\n",
    "print(\"mean_absolute_error: \",mean_absolute_error(y_test1,y_pred_la))\n",
    "print(\"mean_squared_log_error: \",mean_squared_log_error(y_test1,y_pred_la))\n",
    "print(\"Coefficient of Determination(r2_score): \",r2_score(y_test1,y_pred_la))\n",
    "print(\"\\nComparing Lasso Regression & Ridge Regression both gave us the same result\",)"
   ]
  },
  {
   "cell_type": "code",
   "execution_count": null,
   "metadata": {},
   "outputs": [],
   "source": []
  },
  {
   "cell_type": "code",
   "execution_count": 121,
   "metadata": {},
   "outputs": [
    {
     "name": "stderr",
     "output_type": "stream",
     "text": [
      "C:\\ProgramData\\Anaconda3\\lib\\site-packages\\ipykernel_launcher.py:4: DataConversionWarning: A column-vector y was passed when a 1d array was expected. Please change the shape of y to (n_samples,), for example using ravel().\n",
      "  after removing the cwd from sys.path.\n"
     ]
    },
    {
     "data": {
      "text/plain": [
       "RandomForestRegressor(bootstrap=True, criterion='mse', max_depth=None,\n",
       "           max_features='auto', max_leaf_nodes=None,\n",
       "           min_impurity_decrease=0.0, min_impurity_split=None,\n",
       "           min_samples_leaf=1, min_samples_split=2,\n",
       "           min_weight_fraction_leaf=0.0, n_estimators=100, n_jobs=1,\n",
       "           oob_score=False, random_state=0, verbose=0, warm_start=False)"
      ]
     },
     "execution_count": 121,
     "metadata": {},
     "output_type": "execute_result"
    }
   ],
   "source": [
    "# Let's build a baseline model of random forest regressor without parameter tuning\n",
    "from sklearn.ensemble import RandomForestRegressor\n",
    "regr = RandomForestRegressor(random_state=0,n_estimators=100)\n",
    "regr.fit(np.array(x_train),y_train1)"
   ]
  },
  {
   "cell_type": "code",
   "execution_count": 122,
   "metadata": {},
   "outputs": [
    {
     "data": {
      "text/plain": [
       "array([2.15300219e-01, 1.53395238e-04, 9.23067781e-05, 0.00000000e+00,\n",
       "       8.89321043e-03, 7.50838842e-03, 1.73812549e-04, 8.92664993e-03,\n",
       "       2.59726861e-04, 0.00000000e+00, 2.20225607e-04, 3.29716215e-03,\n",
       "       0.00000000e+00, 0.00000000e+00, 8.70886682e-05, 2.17067174e-05,\n",
       "       1.52486808e-04, 2.21654758e-05, 0.00000000e+00, 1.01396806e-04,\n",
       "       4.67087717e-05, 1.33975328e-03, 2.56775818e-03, 0.00000000e+00,\n",
       "       1.19193332e-04, 4.25592745e-03, 1.26924212e-04, 0.00000000e+00,\n",
       "       4.99054233e-03, 0.00000000e+00, 0.00000000e+00, 0.00000000e+00,\n",
       "       2.95164114e-03, 3.69980193e-04, 0.00000000e+00, 0.00000000e+00,\n",
       "       0.00000000e+00, 6.69488896e-05, 1.82177868e-04, 0.00000000e+00,\n",
       "       2.86634557e-05, 0.00000000e+00, 4.97563821e-05, 1.26130660e-04,\n",
       "       1.47582141e-03, 0.00000000e+00, 3.21655725e-04, 3.90428115e-05,\n",
       "       1.65993078e-05, 0.00000000e+00, 4.62109390e-05, 0.00000000e+00,\n",
       "       8.47380079e-04, 2.54980063e-04, 0.00000000e+00, 0.00000000e+00,\n",
       "       0.00000000e+00, 3.95965656e-05, 7.40439988e-05, 1.73460646e-04,\n",
       "       0.00000000e+00, 2.71757720e-05, 1.17817456e-04, 5.69132345e-05,\n",
       "       1.80179664e-04, 3.68887586e-05, 6.97482064e-04, 4.96476554e-05,\n",
       "       8.01789123e-04, 3.23990553e-04, 6.79831307e-06, 3.54479140e-05,\n",
       "       1.38710838e-03, 2.69148046e-04, 0.00000000e+00, 0.00000000e+00,\n",
       "       7.75655912e-05, 1.16535758e-03, 9.80157166e-06, 1.92472114e-02,\n",
       "       1.73146897e-02, 1.49392232e-05, 7.93808990e-03, 1.49330246e-04,\n",
       "       0.00000000e+00, 4.51195619e-04, 7.60253323e-05, 1.13989150e-03,\n",
       "       5.25531101e-05, 5.44712993e-03, 5.57181750e-04, 9.95069307e-06,\n",
       "       5.60412872e-05, 0.00000000e+00, 1.49557653e-05, 0.00000000e+00,\n",
       "       4.36597865e-04, 1.87969507e-05, 4.81987848e-04, 0.00000000e+00,\n",
       "       0.00000000e+00, 1.87394471e-04, 4.73646101e-04, 0.00000000e+00,\n",
       "       2.35165872e-05, 1.47680049e-04, 0.00000000e+00, 2.63071419e-01,\n",
       "       2.22198287e-01, 1.89527538e-01])"
      ]
     },
     "execution_count": 122,
     "metadata": {},
     "output_type": "execute_result"
    }
   ],
   "source": [
    "regr.feature_importances_"
   ]
  },
  {
   "cell_type": "code",
   "execution_count": 123,
   "metadata": {},
   "outputs": [],
   "source": [
    "from sklearn.metrics import r2_score"
   ]
  },
  {
   "cell_type": "code",
   "execution_count": 124,
   "metadata": {},
   "outputs": [],
   "source": [
    "# There is not much difference in accuracy between base random model and tuned random model"
   ]
  },
  {
   "cell_type": "code",
   "execution_count": 125,
   "metadata": {},
   "outputs": [
    {
     "name": "stdout",
     "output_type": "stream",
     "text": [
      "{'n_estimators': [100, 311, 522, 733, 944, 1155, 1366, 1577, 1788, 2000], 'max_features': ['auto', 'sqrt'], 'max_depth': [None], 'min_samples_split': [1, 3, 5, 7, 9, 11, 13, 15, 17, 19], 'min_samples_leaf': [1, 3, 5, 7, 9, 11, 13, 15], 'bootstrap': [True, False]}\n"
     ]
    }
   ],
   "source": [
    "# Let's try with Random Search\n",
    "# Let's do hyperparameter tuning for Random Forest Regressor\n",
    "\n",
    "# N_Estimators ------identifying max number of trees using Grid Search\n",
    "from sklearn.model_selection import RandomizedSearchCV\n",
    "\n",
    "# Number of trees in Random Forest\n",
    "n_estimators = [int(i) for i in np.linspace(start = 100, stop = 2000,num = 10)]\n",
    "\n",
    "# Number of features to consider at each step\n",
    "max_features = ['auto','sqrt']\n",
    "\n",
    "# Maximum number of levels in tree\n",
    "#max_depth = (int(i) for i in np.linspace(start = 10, stop = 500, num = 10))\n",
    "#max_depth.append(None)\n",
    "max_depth = [None]\n",
    "\n",
    "# Minimum number of samples required to split a node\n",
    "min_samples_split = [i for i in range(1,20,2)]\n",
    "\n",
    "# Minimum number of samples required at each leaf node\n",
    "min_samples_leaf = [i for i in range(1,16,2)]\n",
    "\n",
    "# Method of selecting samples for training each tree\n",
    "bootstrap = [True, False]\n",
    "\n",
    "\n",
    "# Create parameter grid\n",
    "param_grid = {'n_estimators': n_estimators,\n",
    "               'max_features': max_features,\n",
    "               'max_depth': max_depth,\n",
    "               'min_samples_split': min_samples_split,\n",
    "               'min_samples_leaf': min_samples_leaf,\n",
    "               'bootstrap': bootstrap,\n",
    "               }\n",
    "print(param_grid)\n"
   ]
  },
  {
   "cell_type": "code",
   "execution_count": 126,
   "metadata": {},
   "outputs": [
    {
     "name": "stdout",
     "output_type": "stream",
     "text": [
      "Fitting 5 folds for each of 10 candidates, totalling 50 fits\n"
     ]
    },
    {
     "name": "stderr",
     "output_type": "stream",
     "text": [
      "[Parallel(n_jobs=-1)]: Done  33 tasks      | elapsed:  2.3min\n",
      "[Parallel(n_jobs=-1)]: Done  50 out of  50 | elapsed:  4.8min finished\n",
      "C:\\ProgramData\\Anaconda3\\lib\\site-packages\\sklearn\\model_selection\\_search.py:739: DataConversionWarning: A column-vector y was passed when a 1d array was expected. Please change the shape of y to (n_samples,), for example using ravel().\n",
      "  self.best_estimator_.fit(X, y, **fit_params)\n"
     ]
    },
    {
     "data": {
      "text/plain": [
       "RandomizedSearchCV(cv=5, error_score='raise',\n",
       "          estimator=RandomForestRegressor(bootstrap=True, criterion='mse', max_depth=None,\n",
       "           max_features='auto', max_leaf_nodes=None,\n",
       "           min_impurity_decrease=0.0, min_impurity_split=None,\n",
       "           min_samples_leaf=1, min_samples_split=2,\n",
       "           min_weight_fraction_leaf=0.0, n_estimators=10, n_jobs=1,\n",
       "           oob_score=False, random_state=None, verbose=0, warm_start=False),\n",
       "          fit_params=None, iid=True, n_iter=10, n_jobs=-1,\n",
       "          param_distributions={'n_estimators': [100, 311, 522, 733, 944, 1155, 1366, 1577, 1788, 2000], 'max_features': ['auto', 'sqrt'], 'max_depth': [None], 'min_samples_split': [1, 3, 5, 7, 9, 11, 13, 15, 17, 19], 'min_samples_leaf': [1, 3, 5, 7, 9, 11, 13, 15], 'bootstrap': [True, False]},\n",
       "          pre_dispatch='2*n_jobs', random_state=42, refit=True,\n",
       "          return_train_score='warn', scoring=None, verbose=2)"
      ]
     },
     "execution_count": 126,
     "metadata": {},
     "output_type": "execute_result"
    }
   ],
   "source": [
    "# initiate Random Search\n",
    "# Initiate Grid Search CV and fit it\n",
    "# Use the random grid to search for best hyperparameters\n",
    "# First create the base model to tune\n",
    "rf = RandomForestRegressor()\n",
    "# Random search of parameters, using 3 fold cross validation, \n",
    "# search across 100 different combinations, and use all available cores\n",
    "rf_random = RandomizedSearchCV(estimator = rf, param_distributions = param_grid, cv = 5, verbose=2, n_jobs = -1,random_state=42)\n",
    "# Fit the random search model\n",
    "rf_random.fit(x_train, y_train1)"
   ]
  },
  {
   "cell_type": "code",
   "execution_count": 127,
   "metadata": {},
   "outputs": [
    {
     "data": {
      "text/plain": [
       "RandomForestRegressor(bootstrap=True, criterion='mse', max_depth=None,\n",
       "           max_features='auto', max_leaf_nodes=None,\n",
       "           min_impurity_decrease=0.0, min_impurity_split=None,\n",
       "           min_samples_leaf=9, min_samples_split=13,\n",
       "           min_weight_fraction_leaf=0.0, n_estimators=1366, n_jobs=1,\n",
       "           oob_score=False, random_state=None, verbose=0, warm_start=False)"
      ]
     },
     "execution_count": 127,
     "metadata": {},
     "output_type": "execute_result"
    }
   ],
   "source": [
    "rf_random.best_estimator_"
   ]
  },
  {
   "cell_type": "code",
   "execution_count": 128,
   "metadata": {},
   "outputs": [
    {
     "data": {
      "text/plain": [
       "{'n_estimators': 1366,\n",
       " 'min_samples_split': 13,\n",
       " 'min_samples_leaf': 9,\n",
       " 'max_features': 'auto',\n",
       " 'max_depth': None,\n",
       " 'bootstrap': True}"
      ]
     },
     "execution_count": 128,
     "metadata": {},
     "output_type": "execute_result"
    }
   ],
   "source": [
    "rf_random.best_params_"
   ]
  },
  {
   "cell_type": "code",
   "execution_count": 129,
   "metadata": {},
   "outputs": [
    {
     "name": "stderr",
     "output_type": "stream",
     "text": [
      "C:\\ProgramData\\Anaconda3\\lib\\site-packages\\ipykernel_launcher.py:15: DataConversionWarning: A column-vector y was passed when a 1d array was expected. Please change the shape of y to (n_samples,), for example using ravel().\n",
      "  from ipykernel import kernelapp as app\n"
     ]
    },
    {
     "name": "stdout",
     "output_type": "stream",
     "text": [
      "Model Performance\n",
      "Average Error: 143.2642 degrees.\n",
      "Accuracy = 25.09%.\n",
      "Coeffiecient of Determination = 0.00%.\n"
     ]
    }
   ],
   "source": [
    "def evaluate(model, x_test, y_test):\n",
    "    y_pred = model.predict(x_test)\n",
    "    errors = abs(y_pred - y_test)\n",
    "    mape = 100 * np.mean(errors / y_test)\n",
    "    accuracy = 100 - mape\n",
    "    r2= r2_score(y_test,y_pred)\n",
    "    print('Model Performance')\n",
    "    print('Average Error: {:0.4f} degrees.'.format(np.mean(errors)))\n",
    "    print('Accuracy = {:0.2f}%.'.format(accuracy))\n",
    "    print('Coeffiecient of Determination = {:0.2f}%.'.format(r2))\n",
    "    \n",
    "    return accuracy\n",
    "\n",
    "base_model = RandomForestRegressor(n_estimators = 100, random_state = 0)\n",
    "base_model.fit(x_train, y_train)\n",
    "base_accuracy = evaluate(base_model, x_test, y_test)\n"
   ]
  },
  {
   "cell_type": "code",
   "execution_count": 130,
   "metadata": {},
   "outputs": [
    {
     "name": "stderr",
     "output_type": "stream",
     "text": [
      "C:\\ProgramData\\Anaconda3\\lib\\site-packages\\ipykernel_launcher.py:2: DataConversionWarning: A column-vector y was passed when a 1d array was expected. Please change the shape of y to (n_samples,), for example using ravel().\n",
      "  \n"
     ]
    },
    {
     "name": "stdout",
     "output_type": "stream",
     "text": [
      "Model Performance\n",
      "Average Error: 0.4901 degrees.\n",
      "Accuracy = 90.77%.\n",
      "Coeffiecient of Determination = 0.16%.\n"
     ]
    }
   ],
   "source": [
    "best_model = RandomForestRegressor(n_estimators = 1366, random_state = None,min_samples_leaf=9,min_samples_split=13)\n",
    "best_model.fit(x_train, y_train1)\n",
    "best_accuracy = evaluate(best_model, x_test, y_test1)"
   ]
  },
  {
   "cell_type": "code",
   "execution_count": 131,
   "metadata": {},
   "outputs": [
    {
     "name": "stdout",
     "output_type": "stream",
     "text": [
      "Coeffiecient of Determination       :  0.16094722834125585\n",
      "Mean Absolute Error(MAE)            :  0.4900773925988771\n",
      "Mean Absolute Percentage Error(MAPE):  9.018147027482714\n",
      "Mean Squared Error(MSE)             :  0.37600779404947937\n",
      "Root Mean Squared Error(RMSE)       :  0.613194743983899\n",
      "Accuracy                            :  90.98185297251729\n",
      "Mean Squared Log Error              :  0.009283536672478283\n",
      "Root Mean Squared Log Error         :  0.09635111142316047\n"
     ]
    }
   ],
   "source": [
    "# Let's find all metrics\n",
    "y_pred1 = best_model.predict(x_test)\n",
    "print(\"Coeffiecient of Determination       : \",r2_score(y_test1,y_pred1))\n",
    "print(\"Mean Absolute Error(MAE)            : \",mean_absolute_error(y_test1,y_pred1))\n",
    "print(\"Mean Absolute Percentage Error(MAPE): \",100*np.mean(mean_absolute_error(y_test1,y_pred1)/y_test1))\n",
    "print(\"Mean Squared Error(MSE)             : \",mean_squared_error(y_test1,y_pred1))\n",
    "print(\"Root Mean Squared Error(RMSE)       : \",np.sqrt(mean_squared_error(y_test1,y_pred1)))\n",
    "print(\"Accuracy                            : \",100-100*np.mean(mean_absolute_error(y_test1,y_pred1)/y_test1))\n",
    "print(\"Mean Squared Log Error              : \",mean_squared_log_error(y_test1,y_pred1))\n",
    "print(\"Root Mean Squared Log Error         : \",np.sqrt(mean_squared_log_error(y_test1,y_pred1)))"
   ]
  },
  {
   "cell_type": "code",
   "execution_count": 132,
   "metadata": {},
   "outputs": [],
   "source": [
    "feature_importances = pd.DataFrame(best_model.feature_importances_, index = x_train.columns,columns = ['Importance'],)"
   ]
  },
  {
   "cell_type": "code",
   "execution_count": 133,
   "metadata": {},
   "outputs": [
    {
     "data": {
      "text/html": [
       "<div>\n",
       "<style scoped>\n",
       "    .dataframe tbody tr th:only-of-type {\n",
       "        vertical-align: middle;\n",
       "    }\n",
       "\n",
       "    .dataframe tbody tr th {\n",
       "        vertical-align: top;\n",
       "    }\n",
       "\n",
       "    .dataframe thead th {\n",
       "        text-align: right;\n",
       "    }\n",
       "</style>\n",
       "<table border=\"1\" class=\"dataframe\">\n",
       "  <thead>\n",
       "    <tr style=\"text-align: right;\">\n",
       "      <th></th>\n",
       "      <th>Importance</th>\n",
       "    </tr>\n",
       "  </thead>\n",
       "  <tbody>\n",
       "    <tr>\n",
       "      <th>Years_Of_Exp</th>\n",
       "      <td>0.162302</td>\n",
       "    </tr>\n",
       "    <tr>\n",
       "      <th>Advanced Certificate Course in Aesthetic Dentistry</th>\n",
       "      <td>0.000000</td>\n",
       "    </tr>\n",
       "    <tr>\n",
       "      <th>Ayurvedic panchkarma</th>\n",
       "      <td>0.000000</td>\n",
       "    </tr>\n",
       "    <tr>\n",
       "      <th>B.Ac</th>\n",
       "      <td>0.000000</td>\n",
       "    </tr>\n",
       "    <tr>\n",
       "      <th>BAMS</th>\n",
       "      <td>0.012116</td>\n",
       "    </tr>\n",
       "  </tbody>\n",
       "</table>\n",
       "</div>"
      ],
      "text/plain": [
       "                                                    Importance\n",
       "Years_Of_Exp                                          0.162302\n",
       "Advanced Certificate Course in Aesthetic Dentistry    0.000000\n",
       "Ayurvedic panchkarma                                  0.000000\n",
       "B.Ac                                                  0.000000\n",
       "BAMS                                                  0.012116"
      ]
     },
     "execution_count": 133,
     "metadata": {},
     "output_type": "execute_result"
    }
   ],
   "source": [
    "feature_importances.head()"
   ]
  },
  {
   "cell_type": "code",
   "execution_count": 134,
   "metadata": {},
   "outputs": [],
   "source": [
    "# Let's sort the data frame\n",
    "feature_importances.sort_values(by = 'Importance',ascending = False, inplace = True)"
   ]
  },
  {
   "cell_type": "code",
   "execution_count": 135,
   "metadata": {},
   "outputs": [
    {
     "data": {
      "text/html": [
       "<div>\n",
       "<style scoped>\n",
       "    .dataframe tbody tr th:only-of-type {\n",
       "        vertical-align: middle;\n",
       "    }\n",
       "\n",
       "    .dataframe tbody tr th {\n",
       "        vertical-align: top;\n",
       "    }\n",
       "\n",
       "    .dataframe thead th {\n",
       "        text-align: right;\n",
       "    }\n",
       "</style>\n",
       "<table border=\"1\" class=\"dataframe\">\n",
       "  <thead>\n",
       "    <tr style=\"text-align: right;\">\n",
       "      <th></th>\n",
       "      <th>Importance</th>\n",
       "    </tr>\n",
       "  </thead>\n",
       "  <tbody>\n",
       "    <tr>\n",
       "      <th>Profile_label</th>\n",
       "      <td>0.291044</td>\n",
       "    </tr>\n",
       "    <tr>\n",
       "      <th>City_label</th>\n",
       "      <td>0.275327</td>\n",
       "    </tr>\n",
       "    <tr>\n",
       "      <th>final_rating</th>\n",
       "      <td>0.226465</td>\n",
       "    </tr>\n",
       "    <tr>\n",
       "      <th>Years_Of_Exp</th>\n",
       "      <td>0.162302</td>\n",
       "    </tr>\n",
       "    <tr>\n",
       "      <th>MBBS</th>\n",
       "      <td>0.013039</td>\n",
       "    </tr>\n",
       "  </tbody>\n",
       "</table>\n",
       "</div>"
      ],
      "text/plain": [
       "               Importance\n",
       "Profile_label    0.291044\n",
       "City_label       0.275327\n",
       "final_rating     0.226465\n",
       "Years_Of_Exp     0.162302\n",
       "MBBS             0.013039"
      ]
     },
     "execution_count": 135,
     "metadata": {},
     "output_type": "execute_result"
    }
   ],
   "source": [
    "feature_importances.head()"
   ]
  },
  {
   "cell_type": "code",
   "execution_count": 136,
   "metadata": {},
   "outputs": [],
   "source": [
    " # Since there are more features it is difficult to check"
   ]
  },
  {
   "cell_type": "code",
   "execution_count": 137,
   "metadata": {},
   "outputs": [],
   "source": [
    "# Let's plot the barplot only for features where their importance is not equal to zero.\n",
    "feature_importances['Importance']=np.round(feature_importances['Importance'],decimals = 3)\n",
    "\n",
    "# Now limit to the features where their importance is not equal to zero\n",
    "best_features = feature_importances[feature_importances['Importance'] != 0]"
   ]
  },
  {
   "cell_type": "code",
   "execution_count": 138,
   "metadata": {},
   "outputs": [
    {
     "data": {
      "image/png": "[encoded data removed]",
      "text/plain": [
       "<Figure size 720x576 with 1 Axes>"
      ]
     },
     "metadata": {},
     "output_type": "display_data"
    }
   ],
   "source": [
    "# Bar plot for best features\n",
    "plt.figure(figsize = (10,8))\n",
    "sns.barplot('Importance',best_features.index,data = best_features)\n",
    "plt.xlabel('Feature Importance')\n",
    "plt.ylabel('Feature Names')\n",
    "plt.title('Feature Importance bar plot from RandomForest Regressor')\n",
    "plt.show()"
   ]
  },
  {
   "cell_type": "code",
   "execution_count": 139,
   "metadata": {},
   "outputs": [
    {
     "data": {
      "text/plain": [
       "Index(['Profile_label', 'City_label', 'final_rating', 'Years_Of_Exp', 'MBBS',\n",
       "       'BAMS', 'BHMS', 'BDS', 'MD', 'MDS', 'Dermatology', 'MS'],\n",
       "      dtype='object')"
      ]
     },
     "execution_count": 139,
     "metadata": {},
     "output_type": "execute_result"
    }
   ],
   "source": [
    "best_features.index"
   ]
  },
  {
   "cell_type": "code",
   "execution_count": 140,
   "metadata": {},
   "outputs": [],
   "source": [
    "# Let's use best features we gor from RandomForest Regressor in Lasso Regression\n",
    "x_train_df = x_train[['Profile_label','City_label', 'final_rating', 'Years_Of_Exp', 'MBBS','BAMS', 'BHMS', 'BDS', 'MD', 'MDS',\n",
    "                      'Dermatology', 'MS']]\n",
    "x_test_df = x_test[['Profile_label','City_label', 'final_rating', 'Years_Of_Exp', 'MBBS','BAMS', 'BHMS', 'BDS', 'MD', 'MDS',\n",
    "                      'Dermatology', 'MS']]"
   ]
  },
  {
   "cell_type": "code",
   "execution_count": 141,
   "metadata": {},
   "outputs": [],
   "source": [
    "###################      Lasso Regression ##############\n",
    "Lasso_reg = Lasso(alpha = 0.0001, normalize = True)\n",
    "Lasso_reg.fit(x_train_df,y_train1)\n",
    "y_pred_la = Lasso_reg.predict(x_test_df)\n"
   ]
  },
  {
   "cell_type": "code",
   "execution_count": 142,
   "metadata": {},
   "outputs": [
    {
     "name": "stdout",
     "output_type": "stream",
     "text": [
      "Coeffiecient of Determination       :  0.1085267761313401\n",
      "Mean Absolute Error(MAE)            :  0.5252286230358563\n",
      "Mean Absolute Percentage Error(MAPE):  9.664981525594309\n",
      "Mean Squared Error(MSE)             :  0.39949916344161\n",
      "Root Mean Squared Error(RMSE)       :  0.6320594619508595\n",
      "Accuracy                            :  90.33501847440569\n",
      "Mean Squared Log Error              :  0.00988589256383367\n",
      "Root Mean Squared Log Error(RMSLE)  :  0.099427825903183\n"
     ]
    }
   ],
   "source": [
    "print(\"Coeffiecient of Determination       : \",r2_score(y_test1,y_pred_la))\n",
    "print(\"Mean Absolute Error(MAE)            : \",mean_absolute_error(y_test1,y_pred_la))\n",
    "print(\"Mean Absolute Percentage Error(MAPE): \",100*np.mean(mean_absolute_error(y_test1,y_pred_la)/y_test1))\n",
    "print(\"Mean Squared Error(MSE)             : \",mean_squared_error(y_test1,y_pred_la))\n",
    "print(\"Root Mean Squared Error(RMSE)       : \",np.sqrt(mean_squared_error(y_test1,y_pred_la)))\n",
    "print(\"Accuracy                            : \",100-100*np.mean(mean_absolute_error(y_test1,y_pred_la)/y_test1))\n",
    "print(\"Mean Squared Log Error              : \",mean_squared_log_error(y_test1,y_pred_la))\n",
    "print(\"Root Mean Squared Log Error(RMSLE)  : \",np.sqrt(mean_squared_log_error(y_test1,y_pred_la)))"
   ]
  },
  {
   "cell_type": "code",
   "execution_count": 143,
   "metadata": {},
   "outputs": [],
   "source": [
    "# let's perform extra trees regressor\n",
    "from sklearn.ensemble import ExtraTreesRegressor"
   ]
  },
  {
   "cell_type": "code",
   "execution_count": 144,
   "metadata": {},
   "outputs": [
    {
     "name": "stderr",
     "output_type": "stream",
     "text": [
      "C:\\ProgramData\\Anaconda3\\lib\\site-packages\\sklearn\\utils\\validation.py:578: DataConversionWarning: A column-vector y was passed when a 1d array was expected. Please change the shape of y to (n_samples, ), for example using ravel().\n",
      "  y = column_or_1d(y, warn=True)\n"
     ]
    }
   ],
   "source": [
    "# Gradient Boosting Regression\n",
    "# Let's first fit a gradient boosting regressor with default parameters to get baseline performance of it and later we can tune it to improve the performance.\n",
    "from sklearn.ensemble import GradientBoostingRegressor\n",
    "\n",
    "gbm = GradientBoostingRegressor()\n",
    "gbm.fit(x_train,y_train)\n",
    "gbm_pred = gbm.predict(x_test)\n"
   ]
  },
  {
   "cell_type": "code",
   "execution_count": 145,
   "metadata": {},
   "outputs": [
    {
     "name": "stdout",
     "output_type": "stream",
     "text": [
      "Coeffiecient of Determination       :  0.20420455497620582\n",
      "Mean Absolute Error(MAE)            :  132.5923978196\n",
      "Mean Absolute Percentage Error(MAPE):  66.784058211643\n",
      "Mean Squared Error(MSE)             :  27524.283090670033\n",
      "Root Mean Squared Error(RMSE)       :  165.90443963520093\n",
      "Accuracy                            :  33.215941788357\n",
      "Mean Squared Log Error              :  0.3897736186997985\n",
      "Root Mean Squared Log Error         :  0.6243185234315881\n"
     ]
    }
   ],
   "source": [
    "print(\"Coeffiecient of Determination       : \",r2_score(y_test,gbm_pred))\n",
    "print(\"Mean Absolute Error(MAE)            : \",mean_absolute_error(y_test,gbm_pred))\n",
    "print(\"Mean Absolute Percentage Error(MAPE): \",100*np.mean(mean_absolute_error(y_test,gbm_pred)/y_test))\n",
    "print(\"Mean Squared Error(MSE)             : \",mean_squared_error(y_test,gbm_pred))\n",
    "print(\"Root Mean Squared Error(RMSE)       : \",np.sqrt(mean_squared_error(y_test,gbm_pred)))\n",
    "print(\"Accuracy                            : \",100-100*np.mean(mean_absolute_error(y_test,gbm_pred)/y_test))\n",
    "print(\"Mean Squared Log Error              : \",mean_squared_log_error(y_test,gbm_pred))\n",
    "print(\"Root Mean Squared Log Error         : \",np.sqrt(mean_squared_log_error(y_test,gbm_pred)))"
   ]
  },
  {
   "cell_type": "code",
   "execution_count": 146,
   "metadata": {},
   "outputs": [
    {
     "name": "stdout",
     "output_type": "stream",
     "text": [
      "{'learning_rate': [1, 0.5, 0.25, 0.1, 0.05], 'n_estimators': [10, 231, 452, 673, 894, 1115, 1336, 1557, 1778, 2000], 'max_depth': [1, 21, 41, 61, 81, 101, 121, 141, 161, 181], 'min_samples_split': [1, 3, 5, 7, 9, 11, 13, 15, 17, 19], 'min_samples_leaf': [1, 3, 5, 7, 9, 11, 13, 15, 17, 19]}\n"
     ]
    }
   ],
   "source": [
    "# From above base GBM model with def. parameters coef. of determination : 0.20\n",
    "# Let's do hyperparameter tuning\n",
    "\n",
    "# Variables for hyperparameter tuning in \"GBM\": \n",
    "#    :learning_rate, max_features, max_depth, min_samples_split, min_samples_leaf, n_estimators\n",
    "\n",
    "learning_rate = [1, 0.5, 0.25, 0.1, 0.05]  #defining learning rate values\n",
    "n_estimators = [int(i) for i in np.linspace(start = 10, stop = 2000,num = 10)] #defining n_estimators(# base learners)\n",
    "max_depth = [int(j) for j in range(1,200,20)]\n",
    "min_samples_split = [int(k) for k in range(1,20,2)]\n",
    "min_samples_leaf = [int(l) for l in range(1,20,2)]\n",
    "\n",
    "\n",
    "param_grid = {\n",
    "    \n",
    "    \"learning_rate\":learning_rate,\n",
    "    \"n_estimators\":n_estimators,\n",
    "    \"max_depth\":max_depth,\n",
    "    \"min_samples_split\":min_samples_split,\n",
    "    \"min_samples_leaf\":min_samples_leaf            \n",
    "}\n",
    "print(param_grid)"
   ]
  },
  {
   "cell_type": "code",
   "execution_count": 147,
   "metadata": {},
   "outputs": [
    {
     "name": "stdout",
     "output_type": "stream",
     "text": [
      "Fitting 5 folds for each of 10 candidates, totalling 50 fits\n"
     ]
    },
    {
     "name": "stderr",
     "output_type": "stream",
     "text": [
      "[Parallel(n_jobs=-1)]: Done  33 tasks      | elapsed: 10.0min\n"
     ]
    },
    {
     "name": "stdout",
     "output_type": "stream",
     "text": [
      "Best: 0.140991 using {'n_estimators': 10, 'min_samples_split': 13, 'min_samples_leaf': 17, 'max_depth': 1, 'learning_rate': 1}\n",
      "-0.150559 (0.032120) with: {'n_estimators': 1115, 'min_samples_split': 19, 'min_samples_leaf': 15, 'max_depth': 101, 'learning_rate': 0.5}\n",
      "0.140991 (0.009789) with: {'n_estimators': 10, 'min_samples_split': 13, 'min_samples_leaf': 17, 'max_depth': 1, 'learning_rate': 1}\n",
      "-0.109587 (0.023647) with: {'n_estimators': 1778, 'min_samples_split': 11, 'min_samples_leaf': 3, 'max_depth': 161, 'learning_rate': 0.1}\n",
      "0.037496 (0.028854) with: {'n_estimators': 452, 'min_samples_split': 7, 'min_samples_leaf': 15, 'max_depth': 81, 'learning_rate': 0.05}\n",
      "-0.140575 (0.026289) with: {'n_estimators': 894, 'min_samples_split': 17, 'min_samples_leaf': 5, 'max_depth': 21, 'learning_rate': 0.5}\n",
      "-0.196095 (0.032111) with: {'n_estimators': 1115, 'min_samples_split': 13, 'min_samples_leaf': 5, 'max_depth': 121, 'learning_rate': 1}\n",
      "0.115044 (0.020936) with: {'n_estimators': 10, 'min_samples_split': 11, 'min_samples_leaf': 17, 'max_depth': 121, 'learning_rate': 0.5}\n",
      "-0.114583 (0.032050) with: {'n_estimators': 894, 'min_samples_split': 19, 'min_samples_leaf': 3, 'max_depth': 141, 'learning_rate': 0.1}\n",
      "-0.077537 (0.022629) with: {'n_estimators': 452, 'min_samples_split': 13, 'min_samples_leaf': 19, 'max_depth': 21, 'learning_rate': 0.25}\n",
      "-0.031778 (0.026161) with: {'n_estimators': 231, 'min_samples_split': 19, 'min_samples_leaf': 3, 'max_depth': 141, 'learning_rate': 0.05}\n"
     ]
    },
    {
     "name": "stderr",
     "output_type": "stream",
     "text": [
      "[Parallel(n_jobs=-1)]: Done  50 out of  50 | elapsed: 13.0min finished\n",
      "C:\\ProgramData\\Anaconda3\\lib\\site-packages\\sklearn\\utils\\validation.py:578: DataConversionWarning: A column-vector y was passed when a 1d array was expected. Please change the shape of y to (n_samples, ), for example using ravel().\n",
      "  y = column_or_1d(y, warn=True)\n"
     ]
    }
   ],
   "source": [
    "# Initiate RandomisedSearchCV\n",
    "%timeit\n",
    "gbm = GradientBoostingRegressor()\n",
    "# Random search of parameters, using 3 fold cross validation, \n",
    "# search across 100 different combinations, and use all available cores\n",
    "gbm_random = RandomizedSearchCV(estimator = gbm, param_distributions = param_grid, cv = 5, verbose=2, n_jobs = -1,random_state=42)\n",
    "# Fit the random search model\n",
    "gbm_result=gbm_random.fit(x_train, y_train)\n",
    "\n",
    "# summarize results\n",
    "print(\"Best: %f using %s\" % (gbm_result.best_score_, gbm_result.best_params_))\n",
    "means = gbm_result.cv_results_['mean_test_score']\n",
    "stds = gbm_result.cv_results_['std_test_score']\n",
    "params = gbm_result.cv_results_['params']\n",
    "for mean, stdev, param in zip(means, stds, params):\n",
    "    print(\"%f (%f) with: %r\" % (mean, stdev, param))\n",
    "\n",
    "    \n",
    "\n",
    "# plot results\n",
    "#scores = np.array(means).reshape(len(learning_rate), len(n_estimators))\n",
    "#for i, value in enumerate(learning_rate):\n",
    "#    plt.plot(n_estimators, scores[i], label='learning_rate: ' + str(value))\n",
    "#plt.legend()\n",
    "#plt.xlabel('n_estimators')\n",
    "#plt.ylabel('Squared Loss')\n",
    "#plt.savefig('n_estimators_vs_learning_rate.png')"
   ]
  },
  {
   "cell_type": "code",
   "execution_count": 148,
   "metadata": {
    "scrolled": true
   },
   "outputs": [
    {
     "name": "stderr",
     "output_type": "stream",
     "text": [
      "C:\\ProgramData\\Anaconda3\\lib\\site-packages\\sklearn\\utils\\deprecation.py:122: FutureWarning: You are accessing a training score ('split0_train_score'), which will not be available by default any more in 0.21. If you need training scores, please set return_train_score=True\n",
      "  warnings.warn(*warn_args, **warn_kwargs)\n",
      "C:\\ProgramData\\Anaconda3\\lib\\site-packages\\sklearn\\utils\\deprecation.py:122: FutureWarning: You are accessing a training score ('split1_train_score'), which will not be available by default any more in 0.21. If you need training scores, please set return_train_score=True\n",
      "  warnings.warn(*warn_args, **warn_kwargs)\n",
      "C:\\ProgramData\\Anaconda3\\lib\\site-packages\\sklearn\\utils\\deprecation.py:122: FutureWarning: You are accessing a training score ('split2_train_score'), which will not be available by default any more in 0.21. If you need training scores, please set return_train_score=True\n",
      "  warnings.warn(*warn_args, **warn_kwargs)\n",
      "C:\\ProgramData\\Anaconda3\\lib\\site-packages\\sklearn\\utils\\deprecation.py:122: FutureWarning: You are accessing a training score ('split3_train_score'), which will not be available by default any more in 0.21. If you need training scores, please set return_train_score=True\n",
      "  warnings.warn(*warn_args, **warn_kwargs)\n",
      "C:\\ProgramData\\Anaconda3\\lib\\site-packages\\sklearn\\utils\\deprecation.py:122: FutureWarning: You are accessing a training score ('split4_train_score'), which will not be available by default any more in 0.21. If you need training scores, please set return_train_score=True\n",
      "  warnings.warn(*warn_args, **warn_kwargs)\n",
      "C:\\ProgramData\\Anaconda3\\lib\\site-packages\\sklearn\\utils\\deprecation.py:122: FutureWarning: You are accessing a training score ('mean_train_score'), which will not be available by default any more in 0.21. If you need training scores, please set return_train_score=True\n",
      "  warnings.warn(*warn_args, **warn_kwargs)\n",
      "C:\\ProgramData\\Anaconda3\\lib\\site-packages\\sklearn\\utils\\deprecation.py:122: FutureWarning: You are accessing a training score ('std_train_score'), which will not be available by default any more in 0.21. If you need training scores, please set return_train_score=True\n",
      "  warnings.warn(*warn_args, **warn_kwargs)\n"
     ]
    },
    {
     "data": {
      "text/plain": [
       "{'mean_fit_time': array([ 88.10982189,   0.2189909 , 179.23390779,  28.87757034,\n",
       "         69.1987052 ,  94.41232815,   0.62036877,  82.40113444,\n",
       "         27.71052399,  18.16891079]),\n",
       " 'std_fit_time': array([6.22621787, 0.02035385, 9.5506708 , 1.0081299 , 3.70325965,\n",
       "        4.37075613, 0.01259243, 2.50492165, 1.33340622, 0.86686072]),\n",
       " 'mean_score_time': array([0.37562504, 0.00243998, 0.68890524, 0.11045761, 0.26672311,\n",
       "        0.38008904, 0.00261583, 0.31476359, 0.10008435, 0.0689889 ]),\n",
       " 'std_score_time': array([0.08386198, 0.00190605, 0.06601438, 0.00972827, 0.03633952,\n",
       "        0.04346592, 0.00345223, 0.04509165, 0.00794368, 0.00313651]),\n",
       " 'param_n_estimators': masked_array(data=[1115, 10, 1778, 452, 894, 1115, 10, 894, 452, 231],\n",
       "              mask=[False, False, False, False, False, False, False, False,\n",
       "                    False, False],\n",
       "        fill_value='?',\n",
       "             dtype=object),\n",
       " 'param_min_samples_split': masked_array(data=[19, 13, 11, 7, 17, 13, 11, 19, 13, 19],\n",
       "              mask=[False, False, False, False, False, False, False, False,\n",
       "                    False, False],\n",
       "        fill_value='?',\n",
       "             dtype=object),\n",
       " 'param_min_samples_leaf': masked_array(data=[15, 17, 3, 15, 5, 5, 17, 3, 19, 3],\n",
       "              mask=[False, False, False, False, False, False, False, False,\n",
       "                    False, False],\n",
       "        fill_value='?',\n",
       "             dtype=object),\n",
       " 'param_max_depth': masked_array(data=[101, 1, 161, 81, 21, 121, 121, 141, 21, 141],\n",
       "              mask=[False, False, False, False, False, False, False, False,\n",
       "                    False, False],\n",
       "        fill_value='?',\n",
       "             dtype=object),\n",
       " 'param_learning_rate': masked_array(data=[0.5, 1, 0.1, 0.05, 0.5, 1, 0.5, 0.1, 0.25, 0.05],\n",
       "              mask=[False, False, False, False, False, False, False, False,\n",
       "                    False, False],\n",
       "        fill_value='?',\n",
       "             dtype=object),\n",
       " 'params': [{'n_estimators': 1115,\n",
       "   'min_samples_split': 19,\n",
       "   'min_samples_leaf': 15,\n",
       "   'max_depth': 101,\n",
       "   'learning_rate': 0.5},\n",
       "  {'n_estimators': 10,\n",
       "   'min_samples_split': 13,\n",
       "   'min_samples_leaf': 17,\n",
       "   'max_depth': 1,\n",
       "   'learning_rate': 1},\n",
       "  {'n_estimators': 1778,\n",
       "   'min_samples_split': 11,\n",
       "   'min_samples_leaf': 3,\n",
       "   'max_depth': 161,\n",
       "   'learning_rate': 0.1},\n",
       "  {'n_estimators': 452,\n",
       "   'min_samples_split': 7,\n",
       "   'min_samples_leaf': 15,\n",
       "   'max_depth': 81,\n",
       "   'learning_rate': 0.05},\n",
       "  {'n_estimators': 894,\n",
       "   'min_samples_split': 17,\n",
       "   'min_samples_leaf': 5,\n",
       "   'max_depth': 21,\n",
       "   'learning_rate': 0.5},\n",
       "  {'n_estimators': 1115,\n",
       "   'min_samples_split': 13,\n",
       "   'min_samples_leaf': 5,\n",
       "   'max_depth': 121,\n",
       "   'learning_rate': 1},\n",
       "  {'n_estimators': 10,\n",
       "   'min_samples_split': 11,\n",
       "   'min_samples_leaf': 17,\n",
       "   'max_depth': 121,\n",
       "   'learning_rate': 0.5},\n",
       "  {'n_estimators': 894,\n",
       "   'min_samples_split': 19,\n",
       "   'min_samples_leaf': 3,\n",
       "   'max_depth': 141,\n",
       "   'learning_rate': 0.1},\n",
       "  {'n_estimators': 452,\n",
       "   'min_samples_split': 13,\n",
       "   'min_samples_leaf': 19,\n",
       "   'max_depth': 21,\n",
       "   'learning_rate': 0.25},\n",
       "  {'n_estimators': 231,\n",
       "   'min_samples_split': 19,\n",
       "   'min_samples_leaf': 3,\n",
       "   'max_depth': 141,\n",
       "   'learning_rate': 0.05}],\n",
       " 'split0_test_score': array([-0.18390127,  0.12987656, -0.11595412,  0.07403439, -0.15779196,\n",
       "        -0.24119195,  0.13867841, -0.13124436, -0.06306808, -0.02863103]),\n",
       " 'split1_test_score': array([-0.1283932 ,  0.14377106, -0.09640311,  0.03344067, -0.13447643,\n",
       "        -0.20992062,  0.09052238, -0.0933425 , -0.07324406, -0.01605698]),\n",
       " 'split2_test_score': array([-0.10102606,  0.15837507, -0.08163035,  0.0638166 , -0.11781507,\n",
       "        -0.16459041,  0.14151872, -0.06641973, -0.0460191 ,  0.00183959]),\n",
       " 'split3_test_score': array([-0.18324617,  0.13795292, -0.15143339, -0.00583516, -0.18201916,\n",
       "        -0.21031173,  0.10120242, -0.15960797, -0.09667404, -0.07614982]),\n",
       " 'split4_test_score': array([-0.156268  ,  0.13497091, -0.10255099,  0.02196147, -0.11078435,\n",
       "        -0.15443053,  0.1032719 , -0.12235558, -0.10873336, -0.03994665]),\n",
       " 'mean_test_score': array([-0.15055889,  0.1409912 , -0.10958709,  0.03749593, -0.14057495,\n",
       "        -0.1960948 ,  0.11504413, -0.11458296, -0.07753717, -0.03177796]),\n",
       " 'std_test_score': array([0.03212038, 0.00978867, 0.02364673, 0.0288538 , 0.02628859,\n",
       "        0.03211105, 0.02093586, 0.03205023, 0.02262859, 0.02616135]),\n",
       " 'rank_test_score': array([ 9,  1,  6,  3,  8, 10,  2,  7,  5,  4]),\n",
       " 'split0_train_score': array([0.5608155 , 0.15052025, 0.5608044 , 0.49726291, 0.56082081,\n",
       "        0.56082088, 0.37328095, 0.5606803 , 0.55016421, 0.54346989]),\n",
       " 'split1_train_score': array([0.56685832, 0.14243528, 0.56700508, 0.5107249 , 0.56700357,\n",
       "        0.56700515, 0.38530549, 0.56678527, 0.55799361, 0.55093756]),\n",
       " 'split2_train_score': array([0.54979126, 0.14220422, 0.54996476, 0.49634656, 0.54996518,\n",
       "        0.54996641, 0.37148309, 0.54978065, 0.54156308, 0.53474064]),\n",
       " 'split3_train_score': array([0.55928909, 0.14717528, 0.55943379, 0.5013097 , 0.55929157,\n",
       "        0.55929163, 0.37675754, 0.55926122, 0.54827288, 0.54354076]),\n",
       " 'split4_train_score': array([0.56008099, 0.14670981, 0.5602246 , 0.50394944, 0.56022835,\n",
       "        0.56022836, 0.37685736, 0.55989486, 0.55115358, 0.54353251]),\n",
       " 'mean_train_score': array([0.55936703, 0.14580897, 0.55948652, 0.5019187 , 0.5594619 ,\n",
       "        0.55946248, 0.37673689, 0.55928046, 0.54982947, 0.54324427]),\n",
       " 'std_train_score': array([0.00548504, 0.00313849, 0.00546767, 0.00519171, 0.00546859,\n",
       "        0.0054686 , 0.00475356, 0.00545722, 0.00527778, 0.00513264])}"
      ]
     },
     "execution_count": 148,
     "metadata": {},
     "output_type": "execute_result"
    }
   ],
   "source": [
    "gbm_result.cv_results_"
   ]
  },
  {
   "cell_type": "code",
   "execution_count": 149,
   "metadata": {},
   "outputs": [
    {
     "data": {
      "text/html": [
       "<div>\n",
       "<style scoped>\n",
       "    .dataframe tbody tr th:only-of-type {\n",
       "        vertical-align: middle;\n",
       "    }\n",
       "\n",
       "    .dataframe tbody tr th {\n",
       "        vertical-align: top;\n",
       "    }\n",
       "\n",
       "    .dataframe thead th {\n",
       "        text-align: right;\n",
       "    }\n",
       "</style>\n",
       "<table border=\"1\" class=\"dataframe\">\n",
       "  <thead>\n",
       "    <tr style=\"text-align: right;\">\n",
       "      <th></th>\n",
       "      <th>learning_rate</th>\n",
       "      <th>max_depth</th>\n",
       "      <th>min_samples_leaf</th>\n",
       "      <th>min_samples_split</th>\n",
       "      <th>n_estimators</th>\n",
       "    </tr>\n",
       "  </thead>\n",
       "  <tbody>\n",
       "    <tr>\n",
       "      <th>0</th>\n",
       "      <td>0.50</td>\n",
       "      <td>101</td>\n",
       "      <td>15</td>\n",
       "      <td>19</td>\n",
       "      <td>1115</td>\n",
       "    </tr>\n",
       "    <tr>\n",
       "      <th>1</th>\n",
       "      <td>1.00</td>\n",
       "      <td>1</td>\n",
       "      <td>17</td>\n",
       "      <td>13</td>\n",
       "      <td>10</td>\n",
       "    </tr>\n",
       "    <tr>\n",
       "      <th>2</th>\n",
       "      <td>0.10</td>\n",
       "      <td>161</td>\n",
       "      <td>3</td>\n",
       "      <td>11</td>\n",
       "      <td>1778</td>\n",
       "    </tr>\n",
       "    <tr>\n",
       "      <th>3</th>\n",
       "      <td>0.05</td>\n",
       "      <td>81</td>\n",
       "      <td>15</td>\n",
       "      <td>7</td>\n",
       "      <td>452</td>\n",
       "    </tr>\n",
       "    <tr>\n",
       "      <th>4</th>\n",
       "      <td>0.50</td>\n",
       "      <td>21</td>\n",
       "      <td>5</td>\n",
       "      <td>17</td>\n",
       "      <td>894</td>\n",
       "    </tr>\n",
       "    <tr>\n",
       "      <th>5</th>\n",
       "      <td>1.00</td>\n",
       "      <td>121</td>\n",
       "      <td>5</td>\n",
       "      <td>13</td>\n",
       "      <td>1115</td>\n",
       "    </tr>\n",
       "    <tr>\n",
       "      <th>6</th>\n",
       "      <td>0.50</td>\n",
       "      <td>121</td>\n",
       "      <td>17</td>\n",
       "      <td>11</td>\n",
       "      <td>10</td>\n",
       "    </tr>\n",
       "    <tr>\n",
       "      <th>7</th>\n",
       "      <td>0.10</td>\n",
       "      <td>141</td>\n",
       "      <td>3</td>\n",
       "      <td>19</td>\n",
       "      <td>894</td>\n",
       "    </tr>\n",
       "    <tr>\n",
       "      <th>8</th>\n",
       "      <td>0.25</td>\n",
       "      <td>21</td>\n",
       "      <td>19</td>\n",
       "      <td>13</td>\n",
       "      <td>452</td>\n",
       "    </tr>\n",
       "    <tr>\n",
       "      <th>9</th>\n",
       "      <td>0.05</td>\n",
       "      <td>141</td>\n",
       "      <td>3</td>\n",
       "      <td>19</td>\n",
       "      <td>231</td>\n",
       "    </tr>\n",
       "  </tbody>\n",
       "</table>\n",
       "</div>"
      ],
      "text/plain": [
       "   learning_rate  max_depth  min_samples_leaf  min_samples_split  n_estimators\n",
       "0           0.50        101                15                 19          1115\n",
       "1           1.00          1                17                 13            10\n",
       "2           0.10        161                 3                 11          1778\n",
       "3           0.05         81                15                  7           452\n",
       "4           0.50         21                 5                 17           894\n",
       "5           1.00        121                 5                 13          1115\n",
       "6           0.50        121                17                 11            10\n",
       "7           0.10        141                 3                 19           894\n",
       "8           0.25         21                19                 13           452\n",
       "9           0.05        141                 3                 19           231"
      ]
     },
     "execution_count": 149,
     "metadata": {},
     "output_type": "execute_result"
    }
   ],
   "source": [
    "pd.DataFrame.from_dict(params)"
   ]
  },
  {
   "cell_type": "code",
   "execution_count": 150,
   "metadata": {},
   "outputs": [
    {
     "data": {
      "text/html": [
       "<div>\n",
       "<style scoped>\n",
       "    .dataframe tbody tr th:only-of-type {\n",
       "        vertical-align: middle;\n",
       "    }\n",
       "\n",
       "    .dataframe tbody tr th {\n",
       "        vertical-align: top;\n",
       "    }\n",
       "\n",
       "    .dataframe thead th {\n",
       "        text-align: right;\n",
       "    }\n",
       "</style>\n",
       "<table border=\"1\" class=\"dataframe\">\n",
       "  <thead>\n",
       "    <tr style=\"text-align: right;\">\n",
       "      <th></th>\n",
       "      <th>0</th>\n",
       "    </tr>\n",
       "  </thead>\n",
       "  <tbody>\n",
       "    <tr>\n",
       "      <th>0</th>\n",
       "      <td>-0.150559</td>\n",
       "    </tr>\n",
       "    <tr>\n",
       "      <th>1</th>\n",
       "      <td>0.140991</td>\n",
       "    </tr>\n",
       "    <tr>\n",
       "      <th>2</th>\n",
       "      <td>-0.109587</td>\n",
       "    </tr>\n",
       "    <tr>\n",
       "      <th>3</th>\n",
       "      <td>0.037496</td>\n",
       "    </tr>\n",
       "    <tr>\n",
       "      <th>4</th>\n",
       "      <td>-0.140575</td>\n",
       "    </tr>\n",
       "    <tr>\n",
       "      <th>5</th>\n",
       "      <td>-0.196095</td>\n",
       "    </tr>\n",
       "    <tr>\n",
       "      <th>6</th>\n",
       "      <td>0.115044</td>\n",
       "    </tr>\n",
       "    <tr>\n",
       "      <th>7</th>\n",
       "      <td>-0.114583</td>\n",
       "    </tr>\n",
       "    <tr>\n",
       "      <th>8</th>\n",
       "      <td>-0.077537</td>\n",
       "    </tr>\n",
       "    <tr>\n",
       "      <th>9</th>\n",
       "      <td>-0.031778</td>\n",
       "    </tr>\n",
       "  </tbody>\n",
       "</table>\n",
       "</div>"
      ],
      "text/plain": [
       "          0\n",
       "0 -0.150559\n",
       "1  0.140991\n",
       "2 -0.109587\n",
       "3  0.037496\n",
       "4 -0.140575\n",
       "5 -0.196095\n",
       "6  0.115044\n",
       "7 -0.114583\n",
       "8 -0.077537\n",
       "9 -0.031778"
      ]
     },
     "execution_count": 150,
     "metadata": {},
     "output_type": "execute_result"
    }
   ],
   "source": [
    "pd.DataFrame(means)"
   ]
  },
  {
   "cell_type": "code",
   "execution_count": 151,
   "metadata": {},
   "outputs": [],
   "source": [
    "cv_results = pd.concat([pd.DataFrame.from_dict(params),pd.DataFrame(means,columns = ['Mean_Test_Score'])],axis = 1)"
   ]
  },
  {
   "cell_type": "code",
   "execution_count": 152,
   "metadata": {},
   "outputs": [
    {
     "data": {
      "text/html": [
       "<div>\n",
       "<style scoped>\n",
       "    .dataframe tbody tr th:only-of-type {\n",
       "        vertical-align: middle;\n",
       "    }\n",
       "\n",
       "    .dataframe tbody tr th {\n",
       "        vertical-align: top;\n",
       "    }\n",
       "\n",
       "    .dataframe thead th {\n",
       "        text-align: right;\n",
       "    }\n",
       "</style>\n",
       "<table border=\"1\" class=\"dataframe\">\n",
       "  <thead>\n",
       "    <tr style=\"text-align: right;\">\n",
       "      <th></th>\n",
       "      <th>learning_rate</th>\n",
       "      <th>max_depth</th>\n",
       "      <th>min_samples_leaf</th>\n",
       "      <th>min_samples_split</th>\n",
       "      <th>n_estimators</th>\n",
       "      <th>Mean_Test_Score</th>\n",
       "    </tr>\n",
       "  </thead>\n",
       "  <tbody>\n",
       "    <tr>\n",
       "      <th>0</th>\n",
       "      <td>0.50</td>\n",
       "      <td>101</td>\n",
       "      <td>15</td>\n",
       "      <td>19</td>\n",
       "      <td>1115</td>\n",
       "      <td>-0.150559</td>\n",
       "    </tr>\n",
       "    <tr>\n",
       "      <th>1</th>\n",
       "      <td>1.00</td>\n",
       "      <td>1</td>\n",
       "      <td>17</td>\n",
       "      <td>13</td>\n",
       "      <td>10</td>\n",
       "      <td>0.140991</td>\n",
       "    </tr>\n",
       "    <tr>\n",
       "      <th>2</th>\n",
       "      <td>0.10</td>\n",
       "      <td>161</td>\n",
       "      <td>3</td>\n",
       "      <td>11</td>\n",
       "      <td>1778</td>\n",
       "      <td>-0.109587</td>\n",
       "    </tr>\n",
       "    <tr>\n",
       "      <th>3</th>\n",
       "      <td>0.05</td>\n",
       "      <td>81</td>\n",
       "      <td>15</td>\n",
       "      <td>7</td>\n",
       "      <td>452</td>\n",
       "      <td>0.037496</td>\n",
       "    </tr>\n",
       "    <tr>\n",
       "      <th>4</th>\n",
       "      <td>0.50</td>\n",
       "      <td>21</td>\n",
       "      <td>5</td>\n",
       "      <td>17</td>\n",
       "      <td>894</td>\n",
       "      <td>-0.140575</td>\n",
       "    </tr>\n",
       "    <tr>\n",
       "      <th>5</th>\n",
       "      <td>1.00</td>\n",
       "      <td>121</td>\n",
       "      <td>5</td>\n",
       "      <td>13</td>\n",
       "      <td>1115</td>\n",
       "      <td>-0.196095</td>\n",
       "    </tr>\n",
       "    <tr>\n",
       "      <th>6</th>\n",
       "      <td>0.50</td>\n",
       "      <td>121</td>\n",
       "      <td>17</td>\n",
       "      <td>11</td>\n",
       "      <td>10</td>\n",
       "      <td>0.115044</td>\n",
       "    </tr>\n",
       "    <tr>\n",
       "      <th>7</th>\n",
       "      <td>0.10</td>\n",
       "      <td>141</td>\n",
       "      <td>3</td>\n",
       "      <td>19</td>\n",
       "      <td>894</td>\n",
       "      <td>-0.114583</td>\n",
       "    </tr>\n",
       "    <tr>\n",
       "      <th>8</th>\n",
       "      <td>0.25</td>\n",
       "      <td>21</td>\n",
       "      <td>19</td>\n",
       "      <td>13</td>\n",
       "      <td>452</td>\n",
       "      <td>-0.077537</td>\n",
       "    </tr>\n",
       "    <tr>\n",
       "      <th>9</th>\n",
       "      <td>0.05</td>\n",
       "      <td>141</td>\n",
       "      <td>3</td>\n",
       "      <td>19</td>\n",
       "      <td>231</td>\n",
       "      <td>-0.031778</td>\n",
       "    </tr>\n",
       "  </tbody>\n",
       "</table>\n",
       "</div>"
      ],
      "text/plain": [
       "   learning_rate  max_depth  min_samples_leaf  min_samples_split  \\\n",
       "0           0.50        101                15                 19   \n",
       "1           1.00          1                17                 13   \n",
       "2           0.10        161                 3                 11   \n",
       "3           0.05         81                15                  7   \n",
       "4           0.50         21                 5                 17   \n",
       "5           1.00        121                 5                 13   \n",
       "6           0.50        121                17                 11   \n",
       "7           0.10        141                 3                 19   \n",
       "8           0.25         21                19                 13   \n",
       "9           0.05        141                 3                 19   \n",
       "\n",
       "   n_estimators  Mean_Test_Score  \n",
       "0          1115        -0.150559  \n",
       "1            10         0.140991  \n",
       "2          1778        -0.109587  \n",
       "3           452         0.037496  \n",
       "4           894        -0.140575  \n",
       "5          1115        -0.196095  \n",
       "6            10         0.115044  \n",
       "7           894        -0.114583  \n",
       "8           452        -0.077537  \n",
       "9           231        -0.031778  "
      ]
     },
     "execution_count": 152,
     "metadata": {},
     "output_type": "execute_result"
    }
   ],
   "source": [
    "cv_results"
   ]
  },
  {
   "cell_type": "code",
   "execution_count": 153,
   "metadata": {},
   "outputs": [
    {
     "data": {
      "text/plain": [
       "pandas.core.frame.DataFrame"
      ]
     },
     "execution_count": 153,
     "metadata": {},
     "output_type": "execute_result"
    }
   ],
   "source": [
    "type(cv_results)"
   ]
  },
  {
   "cell_type": "code",
   "execution_count": 154,
   "metadata": {},
   "outputs": [
    {
     "data": {
      "text/html": [
       "<div>\n",
       "<style scoped>\n",
       "    .dataframe tbody tr th:only-of-type {\n",
       "        vertical-align: middle;\n",
       "    }\n",
       "\n",
       "    .dataframe tbody tr th {\n",
       "        vertical-align: top;\n",
       "    }\n",
       "\n",
       "    .dataframe thead th {\n",
       "        text-align: right;\n",
       "    }\n",
       "</style>\n",
       "<table border=\"1\" class=\"dataframe\">\n",
       "  <thead>\n",
       "    <tr style=\"text-align: right;\">\n",
       "      <th></th>\n",
       "      <th>learning_rate</th>\n",
       "      <th>max_depth</th>\n",
       "      <th>min_samples_leaf</th>\n",
       "      <th>min_samples_split</th>\n",
       "      <th>n_estimators</th>\n",
       "      <th>Mean_Test_Score</th>\n",
       "    </tr>\n",
       "  </thead>\n",
       "  <tbody>\n",
       "    <tr>\n",
       "      <th>0</th>\n",
       "      <td>0.50</td>\n",
       "      <td>101</td>\n",
       "      <td>15</td>\n",
       "      <td>19</td>\n",
       "      <td>1115</td>\n",
       "      <td>-0.150559</td>\n",
       "    </tr>\n",
       "    <tr>\n",
       "      <th>1</th>\n",
       "      <td>1.00</td>\n",
       "      <td>1</td>\n",
       "      <td>17</td>\n",
       "      <td>13</td>\n",
       "      <td>10</td>\n",
       "      <td>0.140991</td>\n",
       "    </tr>\n",
       "    <tr>\n",
       "      <th>2</th>\n",
       "      <td>0.10</td>\n",
       "      <td>161</td>\n",
       "      <td>3</td>\n",
       "      <td>11</td>\n",
       "      <td>1778</td>\n",
       "      <td>-0.109587</td>\n",
       "    </tr>\n",
       "    <tr>\n",
       "      <th>3</th>\n",
       "      <td>0.05</td>\n",
       "      <td>81</td>\n",
       "      <td>15</td>\n",
       "      <td>7</td>\n",
       "      <td>452</td>\n",
       "      <td>0.037496</td>\n",
       "    </tr>\n",
       "    <tr>\n",
       "      <th>4</th>\n",
       "      <td>0.50</td>\n",
       "      <td>21</td>\n",
       "      <td>5</td>\n",
       "      <td>17</td>\n",
       "      <td>894</td>\n",
       "      <td>-0.140575</td>\n",
       "    </tr>\n",
       "    <tr>\n",
       "      <th>5</th>\n",
       "      <td>1.00</td>\n",
       "      <td>121</td>\n",
       "      <td>5</td>\n",
       "      <td>13</td>\n",
       "      <td>1115</td>\n",
       "      <td>-0.196095</td>\n",
       "    </tr>\n",
       "    <tr>\n",
       "      <th>6</th>\n",
       "      <td>0.50</td>\n",
       "      <td>121</td>\n",
       "      <td>17</td>\n",
       "      <td>11</td>\n",
       "      <td>10</td>\n",
       "      <td>0.115044</td>\n",
       "    </tr>\n",
       "    <tr>\n",
       "      <th>7</th>\n",
       "      <td>0.10</td>\n",
       "      <td>141</td>\n",
       "      <td>3</td>\n",
       "      <td>19</td>\n",
       "      <td>894</td>\n",
       "      <td>-0.114583</td>\n",
       "    </tr>\n",
       "    <tr>\n",
       "      <th>8</th>\n",
       "      <td>0.25</td>\n",
       "      <td>21</td>\n",
       "      <td>19</td>\n",
       "      <td>13</td>\n",
       "      <td>452</td>\n",
       "      <td>-0.077537</td>\n",
       "    </tr>\n",
       "    <tr>\n",
       "      <th>9</th>\n",
       "      <td>0.05</td>\n",
       "      <td>141</td>\n",
       "      <td>3</td>\n",
       "      <td>19</td>\n",
       "      <td>231</td>\n",
       "      <td>-0.031778</td>\n",
       "    </tr>\n",
       "  </tbody>\n",
       "</table>\n",
       "</div>"
      ],
      "text/plain": [
       "   learning_rate  max_depth  min_samples_leaf  min_samples_split  \\\n",
       "0           0.50        101                15                 19   \n",
       "1           1.00          1                17                 13   \n",
       "2           0.10        161                 3                 11   \n",
       "3           0.05         81                15                  7   \n",
       "4           0.50         21                 5                 17   \n",
       "5           1.00        121                 5                 13   \n",
       "6           0.50        121                17                 11   \n",
       "7           0.10        141                 3                 19   \n",
       "8           0.25         21                19                 13   \n",
       "9           0.05        141                 3                 19   \n",
       "\n",
       "   n_estimators  Mean_Test_Score  \n",
       "0          1115        -0.150559  \n",
       "1            10         0.140991  \n",
       "2          1778        -0.109587  \n",
       "3           452         0.037496  \n",
       "4           894        -0.140575  \n",
       "5          1115        -0.196095  \n",
       "6            10         0.115044  \n",
       "7           894        -0.114583  \n",
       "8           452        -0.077537  \n",
       "9           231        -0.031778  "
      ]
     },
     "execution_count": 154,
     "metadata": {},
     "output_type": "execute_result"
    }
   ],
   "source": [
    "cv_results"
   ]
  },
  {
   "cell_type": "code",
   "execution_count": 158,
   "metadata": {},
   "outputs": [
    {
     "data": {
      "text/plain": [
       "<matplotlib.axes._subplots.AxesSubplot at 0x2169536dba8>"
      ]
     },
     "execution_count": 158,
     "metadata": {},
     "output_type": "execute_result"
    },
    {
     "data": {
      "image/png": "[encoded data removed]",
      "text/plain": [
       "<Figure size 576x576 with 1 Axes>"
      ]
     },
     "metadata": {},
     "output_type": "display_data"
    }
   ],
   "source": [
    "#sns.lmplot(x='n_estimators', y='Mean_Test_Score', hue='learning_rate', data=cv_results);\n",
    "plt.figure(figsize = (8,8))\n",
    "sns.lineplot('n_estimators','Mean_Test_Score',data=cv_results,hue = 'learning_rate')"
   ]
  },
  {
   "cell_type": "code",
   "execution_count": 161,
   "metadata": {},
   "outputs": [
    {
     "name": "stderr",
     "output_type": "stream",
     "text": [
      "C:\\ProgramData\\Anaconda3\\lib\\site-packages\\sklearn\\utils\\validation.py:578: DataConversionWarning: A column-vector y was passed when a 1d array was expected. Please change the shape of y to (n_samples, ), for example using ravel().\n",
      "  y = column_or_1d(y, warn=True)\n"
     ]
    }
   ],
   "source": [
    "###################      Gradient Boosting Regression ##############\n",
    "\n",
    "\n",
    "gbm_reg = GradientBoostingRegressor(loss = 'ls',learning_rate = 1,n_estimators = 10,min_samples_split = 12, max_depth = 1,random_state = 42)\n",
    "gbm_reg.fit(x_train,y_train)\n",
    "gbm_y_pred = gbm_reg.predict(x_test)\n"
   ]
  },
  {
   "cell_type": "code",
   "execution_count": 162,
   "metadata": {},
   "outputs": [
    {
     "data": {
      "text/plain": [
       "array([293.38642842, 258.56871267, 361.47126638, ..., 310.63997567,\n",
       "       322.68118531, 258.56871267])"
      ]
     },
     "execution_count": 162,
     "metadata": {},
     "output_type": "execute_result"
    }
   ],
   "source": [
    "gbm_y_pred"
   ]
  },
  {
   "cell_type": "code",
   "execution_count": 170,
   "metadata": {},
   "outputs": [
    {
     "data": {
      "text/plain": [
       "Index(['Years_Of_Exp', 'Advanced Certificate Course in Aesthetic Dentistry',\n",
       "       'Ayurvedic panchkarma', 'B.Ac', 'BAMS', 'BDS', 'BEMS', 'BHMS', 'BIMS',\n",
       "       'BPTh/BPT',\n",
       "       ...\n",
       "       'Post Graduate Certificate in Endodontics (PGCE)',\n",
       "       'Post Graduate Diploma in Diabetic Education',\n",
       "       'Post Graduate Diploma in Diabetology (PGDD)',\n",
       "       'Post Graduate Diploma in Diabetology (PGDD)(Madras Medical College)',\n",
       "       'Post Graduate Diploma in Periodontics and Implantology',\n",
       "       'Post MD SR AIIMS', 'Training in Facial Aesthetics', 'final_rating',\n",
       "       'City_label', 'Profile_label'],\n",
       "      dtype='object', length=110)"
      ]
     },
     "execution_count": 170,
     "metadata": {},
     "output_type": "execute_result"
    }
   ],
   "source": [
    "x_train.columns"
   ]
  },
  {
   "cell_type": "code",
   "execution_count": 171,
   "metadata": {},
   "outputs": [
    {
     "data": {
      "text/html": [
       "<div>\n",
       "<style scoped>\n",
       "    .dataframe tbody tr th:only-of-type {\n",
       "        vertical-align: middle;\n",
       "    }\n",
       "\n",
       "    .dataframe tbody tr th {\n",
       "        vertical-align: top;\n",
       "    }\n",
       "\n",
       "    .dataframe thead th {\n",
       "        text-align: right;\n",
       "    }\n",
       "</style>\n",
       "<table border=\"1\" class=\"dataframe\">\n",
       "  <thead>\n",
       "    <tr style=\"text-align: right;\">\n",
       "      <th></th>\n",
       "      <th>Years_Of_Exp</th>\n",
       "      <th>Advanced Certificate Course in Aesthetic Dentistry</th>\n",
       "      <th>Ayurvedic panchkarma</th>\n",
       "      <th>B.Ac</th>\n",
       "      <th>BAMS</th>\n",
       "      <th>BDS</th>\n",
       "      <th>BEMS</th>\n",
       "      <th>BHMS</th>\n",
       "      <th>BIMS</th>\n",
       "      <th>BPTh/BPT</th>\n",
       "      <th>...</th>\n",
       "      <th>Post Graduate Certificate in Endodontics (PGCE)</th>\n",
       "      <th>Post Graduate Diploma in Diabetic Education</th>\n",
       "      <th>Post Graduate Diploma in Diabetology (PGDD)</th>\n",
       "      <th>Post Graduate Diploma in Diabetology (PGDD)(Madras Medical College)</th>\n",
       "      <th>Post Graduate Diploma in Periodontics and Implantology</th>\n",
       "      <th>Post MD SR AIIMS</th>\n",
       "      <th>Training in Facial Aesthetics</th>\n",
       "      <th>final_rating</th>\n",
       "      <th>City_label</th>\n",
       "      <th>Profile_label</th>\n",
       "    </tr>\n",
       "  </thead>\n",
       "  <tbody>\n",
       "    <tr>\n",
       "      <th>2288</th>\n",
       "      <td>2</td>\n",
       "      <td>0</td>\n",
       "      <td>0</td>\n",
       "      <td>0</td>\n",
       "      <td>0</td>\n",
       "      <td>0</td>\n",
       "      <td>0</td>\n",
       "      <td>0</td>\n",
       "      <td>0</td>\n",
       "      <td>0</td>\n",
       "      <td>...</td>\n",
       "      <td>0</td>\n",
       "      <td>0</td>\n",
       "      <td>0</td>\n",
       "      <td>0</td>\n",
       "      <td>0</td>\n",
       "      <td>0</td>\n",
       "      <td>0</td>\n",
       "      <td>89.000000</td>\n",
       "      <td>0</td>\n",
       "      <td>3</td>\n",
       "    </tr>\n",
       "    <tr>\n",
       "      <th>3728</th>\n",
       "      <td>2</td>\n",
       "      <td>0</td>\n",
       "      <td>0</td>\n",
       "      <td>0</td>\n",
       "      <td>0</td>\n",
       "      <td>0</td>\n",
       "      <td>0</td>\n",
       "      <td>0</td>\n",
       "      <td>0</td>\n",
       "      <td>0</td>\n",
       "      <td>...</td>\n",
       "      <td>0</td>\n",
       "      <td>0</td>\n",
       "      <td>0</td>\n",
       "      <td>0</td>\n",
       "      <td>0</td>\n",
       "      <td>0</td>\n",
       "      <td>0</td>\n",
       "      <td>41.581044</td>\n",
       "      <td>3</td>\n",
       "      <td>3</td>\n",
       "    </tr>\n",
       "    <tr>\n",
       "      <th>3665</th>\n",
       "      <td>2</td>\n",
       "      <td>0</td>\n",
       "      <td>0</td>\n",
       "      <td>0</td>\n",
       "      <td>0</td>\n",
       "      <td>0</td>\n",
       "      <td>0</td>\n",
       "      <td>0</td>\n",
       "      <td>0</td>\n",
       "      <td>0</td>\n",
       "      <td>...</td>\n",
       "      <td>0</td>\n",
       "      <td>0</td>\n",
       "      <td>0</td>\n",
       "      <td>0</td>\n",
       "      <td>0</td>\n",
       "      <td>0</td>\n",
       "      <td>0</td>\n",
       "      <td>82.000000</td>\n",
       "      <td>5</td>\n",
       "      <td>3</td>\n",
       "    </tr>\n",
       "    <tr>\n",
       "      <th>5392</th>\n",
       "      <td>3</td>\n",
       "      <td>0</td>\n",
       "      <td>0</td>\n",
       "      <td>0</td>\n",
       "      <td>0</td>\n",
       "      <td>0</td>\n",
       "      <td>0</td>\n",
       "      <td>0</td>\n",
       "      <td>0</td>\n",
       "      <td>0</td>\n",
       "      <td>...</td>\n",
       "      <td>0</td>\n",
       "      <td>0</td>\n",
       "      <td>0</td>\n",
       "      <td>0</td>\n",
       "      <td>0</td>\n",
       "      <td>0</td>\n",
       "      <td>0</td>\n",
       "      <td>96.000000</td>\n",
       "      <td>3</td>\n",
       "      <td>4</td>\n",
       "    </tr>\n",
       "    <tr>\n",
       "      <th>3975</th>\n",
       "      <td>5</td>\n",
       "      <td>0</td>\n",
       "      <td>0</td>\n",
       "      <td>0</td>\n",
       "      <td>0</td>\n",
       "      <td>1</td>\n",
       "      <td>0</td>\n",
       "      <td>0</td>\n",
       "      <td>0</td>\n",
       "      <td>0</td>\n",
       "      <td>...</td>\n",
       "      <td>0</td>\n",
       "      <td>0</td>\n",
       "      <td>0</td>\n",
       "      <td>0</td>\n",
       "      <td>0</td>\n",
       "      <td>0</td>\n",
       "      <td>0</td>\n",
       "      <td>100.000000</td>\n",
       "      <td>0</td>\n",
       "      <td>1</td>\n",
       "    </tr>\n",
       "  </tbody>\n",
       "</table>\n",
       "<p>5 rows × 110 columns</p>\n",
       "</div>"
      ],
      "text/plain": [
       "      Years_Of_Exp  Advanced Certificate Course in Aesthetic Dentistry  \\\n",
       "2288             2                                                  0    \n",
       "3728             2                                                  0    \n",
       "3665             2                                                  0    \n",
       "5392             3                                                  0    \n",
       "3975             5                                                  0    \n",
       "\n",
       "      Ayurvedic panchkarma  B.Ac  BAMS  BDS  BEMS  BHMS  BIMS  BPTh/BPT  \\\n",
       "2288                     0     0     0    0     0     0     0         0   \n",
       "3728                     0     0     0    0     0     0     0         0   \n",
       "3665                     0     0     0    0     0     0     0         0   \n",
       "5392                     0     0     0    0     0     0     0         0   \n",
       "3975                     0     0     0    1     0     0     0         0   \n",
       "\n",
       "          ...        Post Graduate Certificate in Endodontics (PGCE)  \\\n",
       "2288      ...                                                      0   \n",
       "3728      ...                                                      0   \n",
       "3665      ...                                                      0   \n",
       "5392      ...                                                      0   \n",
       "3975      ...                                                      0   \n",
       "\n",
       "      Post Graduate Diploma in Diabetic Education  \\\n",
       "2288                                            0   \n",
       "3728                                            0   \n",
       "3665                                            0   \n",
       "5392                                            0   \n",
       "3975                                            0   \n",
       "\n",
       "      Post Graduate Diploma in Diabetology (PGDD)  \\\n",
       "2288                                            0   \n",
       "3728                                            0   \n",
       "3665                                            0   \n",
       "5392                                            0   \n",
       "3975                                            0   \n",
       "\n",
       "      Post Graduate Diploma in Diabetology (PGDD)(Madras Medical College)  \\\n",
       "2288                                                  0                     \n",
       "3728                                                  0                     \n",
       "3665                                                  0                     \n",
       "5392                                                  0                     \n",
       "3975                                                  0                     \n",
       "\n",
       "      Post Graduate Diploma in Periodontics and Implantology  \\\n",
       "2288                                                  0        \n",
       "3728                                                  0        \n",
       "3665                                                  0        \n",
       "5392                                                  0        \n",
       "3975                                                  0        \n",
       "\n",
       "      Post MD SR AIIMS  Training in Facial Aesthetics  final_rating  \\\n",
       "2288                 0                              0     89.000000   \n",
       "3728                 0                              0     41.581044   \n",
       "3665                 0                              0     82.000000   \n",
       "5392                 0                              0     96.000000   \n",
       "3975                 0                              0    100.000000   \n",
       "\n",
       "      City_label  Profile_label  \n",
       "2288           0              3  \n",
       "3728           3              3  \n",
       "3665           5              3  \n",
       "5392           3              4  \n",
       "3975           0              1  \n",
       "\n",
       "[5 rows x 110 columns]"
      ]
     },
     "execution_count": 171,
     "metadata": {},
     "output_type": "execute_result"
    }
   ],
   "source": [
    "x_train.head()"
   ]
  },
  {
   "cell_type": "code",
   "execution_count": 180,
   "metadata": {},
   "outputs": [
    {
     "data": {
      "image/png": "[encoded data removed]",
      "text/plain": [
       "<Figure size 432x288 with 1 Axes>"
      ]
     },
     "metadata": {},
     "output_type": "display_data"
    }
   ],
   "source": [
    "feature_importances = pd.DataFrame(gbm_reg.feature_importances_, index = x_train.columns,columns = ['Importance'],)\n",
    "feature_importances['Importance']=np.round(feature_importances['Importance'],decimals = 3)\n",
    "best_features = feature_importances[feature_importances['Importance'] != 0]\n",
    "\n",
    "sns.barplot('Importance',best_features.index,data = best_features)\n",
    "plt.xlabel('Feature Importance')\n",
    "plt.ylabel('Feature Names')\n",
    "plt.title('Feature Importance bar plot from GB Regressor')\n",
    "plt.show()\n"
   ]
  },
  {
   "cell_type": "code",
   "execution_count": 181,
   "metadata": {},
   "outputs": [
    {
     "name": "stdout",
     "output_type": "stream",
     "text": [
      "Coeffiecient of Determination       :  0.16909680869980392\n",
      "Mean Absolute Error(MAE)            :  136.7544581947904\n",
      "Mean Absolute Percentage Error(MAPE):  68.88040224756074\n",
      "Mean Squared Error(MSE)             :  28738.55938896954\n",
      "Root Mean Squared Error(RMSE)       :  169.52450969983528\n",
      "Accuracy                            :  31.11959775243926\n",
      "Mean Squared Log Error              :  0.4117775049415216\n",
      "Root Mean Squared Log Error         :  0.6416989207888085\n"
     ]
    }
   ],
   "source": [
    "\n",
    "print(\"Coeffiecient of Determination       : \",r2_score(y_test,gbm_y_pred))\n",
    "print(\"Mean Absolute Error(MAE)            : \",mean_absolute_error(y_test,gbm_y_pred))\n",
    "print(\"Mean Absolute Percentage Error(MAPE): \",100*np.mean(mean_absolute_error(y_test,gbm_y_pred)/y_test))\n",
    "print(\"Mean Squared Error(MSE)             : \",mean_squared_error(y_test,gbm_y_pred))\n",
    "print(\"Root Mean Squared Error(RMSE)       : \",np.sqrt(mean_squared_error(y_test,gbm_y_pred)))\n",
    "print(\"Accuracy                            : \",100-100*np.mean(mean_absolute_error(y_test,gbm_y_pred)/y_test))\n",
    "print(\"Mean Squared Log Error              : \",mean_squared_log_error(y_test,gbm_y_pred))\n",
    "print(\"Root Mean Squared Log Error         : \",np.sqrt(mean_squared_log_error(y_test,gbm_y_pred)))"
   ]
  },
  {
   "cell_type": "code",
   "execution_count": 188,
   "metadata": {},
   "outputs": [],
   "source": [
    "#Let's restrict it only for important features\n",
    "x_train1 = x_train[['Years_Of_Exp','BDS','final_rating','City_label','Profile_label']]\n",
    "x_test1=x_test[['Years_Of_Exp','BDS','final_rating','City_label','Profile_label']]"
   ]
  },
  {
   "cell_type": "code",
   "execution_count": 185,
   "metadata": {},
   "outputs": [
    {
     "data": {
      "text/html": [
       "<div>\n",
       "<style scoped>\n",
       "    .dataframe tbody tr th:only-of-type {\n",
       "        vertical-align: middle;\n",
       "    }\n",
       "\n",
       "    .dataframe tbody tr th {\n",
       "        vertical-align: top;\n",
       "    }\n",
       "\n",
       "    .dataframe thead th {\n",
       "        text-align: right;\n",
       "    }\n",
       "</style>\n",
       "<table border=\"1\" class=\"dataframe\">\n",
       "  <thead>\n",
       "    <tr style=\"text-align: right;\">\n",
       "      <th></th>\n",
       "      <th>Years_Of_Exp</th>\n",
       "      <th>BDS</th>\n",
       "      <th>final_rating</th>\n",
       "      <th>City_label</th>\n",
       "      <th>Profile_label</th>\n",
       "    </tr>\n",
       "  </thead>\n",
       "  <tbody>\n",
       "    <tr>\n",
       "      <th>2288</th>\n",
       "      <td>2</td>\n",
       "      <td>0</td>\n",
       "      <td>89.000000</td>\n",
       "      <td>0</td>\n",
       "      <td>3</td>\n",
       "    </tr>\n",
       "    <tr>\n",
       "      <th>3728</th>\n",
       "      <td>2</td>\n",
       "      <td>0</td>\n",
       "      <td>41.581044</td>\n",
       "      <td>3</td>\n",
       "      <td>3</td>\n",
       "    </tr>\n",
       "    <tr>\n",
       "      <th>3665</th>\n",
       "      <td>2</td>\n",
       "      <td>0</td>\n",
       "      <td>82.000000</td>\n",
       "      <td>5</td>\n",
       "      <td>3</td>\n",
       "    </tr>\n",
       "    <tr>\n",
       "      <th>5392</th>\n",
       "      <td>3</td>\n",
       "      <td>0</td>\n",
       "      <td>96.000000</td>\n",
       "      <td>3</td>\n",
       "      <td>4</td>\n",
       "    </tr>\n",
       "    <tr>\n",
       "      <th>3975</th>\n",
       "      <td>5</td>\n",
       "      <td>1</td>\n",
       "      <td>100.000000</td>\n",
       "      <td>0</td>\n",
       "      <td>1</td>\n",
       "    </tr>\n",
       "  </tbody>\n",
       "</table>\n",
       "</div>"
      ],
      "text/plain": [
       "      Years_Of_Exp  BDS  final_rating  City_label  Profile_label\n",
       "2288             2    0     89.000000           0              3\n",
       "3728             2    0     41.581044           3              3\n",
       "3665             2    0     82.000000           5              3\n",
       "5392             3    0     96.000000           3              4\n",
       "3975             5    1    100.000000           0              1"
      ]
     },
     "execution_count": 185,
     "metadata": {},
     "output_type": "execute_result"
    }
   ],
   "source": [
    "x_train1.head()"
   ]
  },
  {
   "cell_type": "code",
   "execution_count": 189,
   "metadata": {},
   "outputs": [
    {
     "name": "stderr",
     "output_type": "stream",
     "text": [
      "C:\\ProgramData\\Anaconda3\\lib\\site-packages\\sklearn\\utils\\validation.py:578: DataConversionWarning: A column-vector y was passed when a 1d array was expected. Please change the shape of y to (n_samples, ), for example using ravel().\n",
      "  y = column_or_1d(y, warn=True)\n"
     ]
    }
   ],
   "source": [
    "#Let's build the model based upon these imp variables\n",
    "\n",
    "gbm_reg = GradientBoostingRegressor(loss = 'ls',learning_rate = 1,n_estimators = 10,min_samples_split = 12, max_depth = 1,random_state = 42)\n",
    "gbm_reg.fit(x_train1,y_train)\n",
    "gbm_y_pred = gbm_reg.predict(x_test1)\n",
    "\n"
   ]
  },
  {
   "cell_type": "code",
   "execution_count": 190,
   "metadata": {},
   "outputs": [
    {
     "name": "stdout",
     "output_type": "stream",
     "text": [
      "Coeffiecient of Determination       :  0.16909680869980392\n",
      "Mean Absolute Error(MAE)            :  136.75445819479035\n",
      "Mean Absolute Percentage Error(MAPE):  68.88040224756065\n",
      "Mean Squared Error(MSE)             :  28738.55938896954\n",
      "Root Mean Squared Error(RMSE)       :  169.52450969983528\n",
      "Accuracy                            :  31.119597752439347\n",
      "Mean Squared Log Error              :  0.41177750494152154\n",
      "Root Mean Squared Log Error         :  0.6416989207888085\n"
     ]
    }
   ],
   "source": [
    "print(\"Coeffiecient of Determination       : \",r2_score(y_test,gbm_y_pred))\n",
    "print(\"Mean Absolute Error(MAE)            : \",mean_absolute_error(y_test,gbm_y_pred))\n",
    "print(\"Mean Absolute Percentage Error(MAPE): \",100*np.mean(mean_absolute_error(y_test,gbm_y_pred)/y_test))\n",
    "print(\"Mean Squared Error(MSE)             : \",mean_squared_error(y_test,gbm_y_pred))\n",
    "print(\"Root Mean Squared Error(RMSE)       : \",np.sqrt(mean_squared_error(y_test,gbm_y_pred)))\n",
    "print(\"Accuracy                            : \",100-100*np.mean(mean_absolute_error(y_test,gbm_y_pred)/y_test))\n",
    "print(\"Mean Squared Log Error              : \",mean_squared_log_error(y_test,gbm_y_pred))\n",
    "print(\"Root Mean Squared Log Error         : \",np.sqrt(mean_squared_log_error(y_test,gbm_y_pred)))"
   ]
  }
 ],
 "metadata": {
  "kernelspec": {
   "display_name": "Python 3",
   "language": "python",
   "name": "python3"
  },
  "language_info": {
   "codemirror_mode": {
    "name": "ipython",
    "version": 3
   },
   "file_extension": ".py",
   "mimetype": "text/x-python",
   "name": "python",
   "nbconvert_exporter": "python",
   "pygments_lexer": "ipython3",
   "version": "3.6.5"
  }
 },
 "nbformat": 4,
 "nbformat_minor": 2
}
